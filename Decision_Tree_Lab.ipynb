{
 "cells": [
  {
   "cell_type": "markdown",
   "metadata": {
    "id": "SG5EWAQA3vd_"
   },
   "source": [
    "# Decision Tree Lab"
   ]
  },
  {
   "cell_type": "code",
   "execution_count": 98,
   "metadata": {
    "id": "H8buG8JL3veA"
   },
   "outputs": [],
   "source": [
    "from sklearn.tree import DecisionTreeClassifier\n",
    "import numpy as np\n",
    "import pandas as pd\n",
    "import matplotlib.pyplot as plt\n",
    "from scipy.io import arff\n",
    "from sklearn.model_selection import train_test_split\n",
    "from CS270Boi.discussion270 import Discussion"
   ]
  },
  {
   "cell_type": "markdown",
   "metadata": {
    "id": "pYmnXWK73veB"
   },
   "source": [
    "## 1.0 (0%) Set `net_id` to Your NetID"
   ]
  },
  {
   "cell_type": "code",
   "execution_count": 99,
   "metadata": {
    "id": "I2Xgl6jK3veB"
   },
   "outputs": [],
   "source": [
    "# This should match your BYU email.\n",
    "# For example, if my BYU email were jake270@byu.edu, I would set net_id to \"jake270\"\n",
    "\n",
    "net_id = \"ttromm6\""
   ]
  },
  {
   "cell_type": "markdown",
   "metadata": {},
   "source": [
    "# --------------------_Make sure to run all of the cells before continuing_--------------------\n",
    "### The discussions and text box are loaded in by running the cell associated with the discussion.\n",
    "### If you experience any problems/errors with the discussions, please send Jake Cahoon (TA) a message on Discord :)"
   ]
  },
  {
   "cell_type": "markdown",
   "metadata": {
    "id": "8co-hgmL3veB"
   },
   "source": [
    "## 1 Debug and Eval\n",
    "\n",
    "### 1.1 (5%) Debug\n",
    "\n",
    "- Train on the [Iris Dataset](https://raw.githubusercontent.com/cs472ta/CS472/master/datasets/iris.arff) using all default parameters.\n",
    "- If using Dataframes you may want to change the class values from bytecodes to strings with\n",
    "iris_df['class'] = iris_df['class'].str.decode('utf-8')\n",
    "\n",
    "Expected Accuracy = [1.0]\n"
   ]
  },
  {
   "cell_type": "code",
   "execution_count": 3,
   "metadata": {
    "id": "7CI5hD-f3veB"
   },
   "outputs": [
    {
     "name": "stdout",
     "output_type": "stream",
     "text": [
      "Accuracy: 1.0\n"
     ]
    }
   ],
   "source": [
    "#Debug\n",
    "PATH_TO_IRIS_ARFF = 'datasets/iris.arff'\n",
    "\n",
    "iris_dataset = arff.loadarff(PATH_TO_IRIS_ARFF)\n",
    "iris_df = pd.DataFrame(iris_dataset[0])\n",
    "\n",
    "X = iris_df.iloc[:, :-1].values\n",
    "y = np.array([x.decode('utf-8') for x in iris_df.iloc[:, -1].values]) # convert bytes to string\n",
    "\n",
    "clf = DecisionTreeClassifier()\n",
    "clf.fit(X, y)\n",
    "print('Accuracy:', clf.score(X, y))"
   ]
  },
  {
   "cell_type": "markdown",
   "metadata": {
    "id": "Ek7tWLsv3veB"
   },
   "source": [
    "### 1.2 (5%) Evaluation\n",
    "\n",
    "- Train on the iris data set again but this time with max_depth = 3 and output the accuracy"
   ]
  },
  {
   "cell_type": "code",
   "execution_count": 4,
   "metadata": {
    "id": "7UKstqeU3veB"
   },
   "outputs": [
    {
     "name": "stdout",
     "output_type": "stream",
     "text": [
      "Accuracy: 0.9733333333333334\n"
     ]
    }
   ],
   "source": [
    "# Evaluation\n",
    "\n",
    "PATH_TO_IRIS_ARFF = 'datasets/iris.arff'\n",
    "\n",
    "iris_dataset = arff.loadarff(PATH_TO_IRIS_ARFF)\n",
    "iris_df = pd.DataFrame(iris_dataset[0])\n",
    "\n",
    "X = iris_df.iloc[:, :-1].values\n",
    "y = np.array([x.decode('utf-8') for x in iris_df.iloc[:, -1].values]) # convert bytes to string\n",
    "\n",
    "clf = DecisionTreeClassifier(max_depth=3)\n",
    "clf.fit(X, y)\n",
    "print('Accuracy:', clf.score(X, y))"
   ]
  },
  {
   "cell_type": "code",
   "execution_count": 120,
   "metadata": {
    "colab": {
     "base_uri": "https://localhost:8080/",
     "height": 178,
     "referenced_widgets": [
      "234492adc00e48a5a0b12909ca3251d1",
      "d4d292fa37de4e24b1e5dd7df7c1f436",
      "32eb19873c3d43678373ddfcce57f480",
      "967fa381763242f0926bd24b1fcd0788",
      "b742d223a7844b5396c4bdb3923b1fb7",
      "8d83741aa95c46cda1968f1c0c38bc0f",
      "678226e0e867427e99dbb4fbeafc2fc5",
      "a318b984c9ec46d4b15cb8370c28c334",
      "dd4e08564b954a0e8d1e0258b0637690",
      "44679409f9de41148fba105e60243bd8",
      "bfad9afff7aa4ce5ae9f2afdb507b305"
     ]
    },
    "id": "MDIe3hOi3veB",
    "outputId": "8e790e77-032f-403a-d289-bfc6172b3ac3"
   },
   "outputs": [
    {
     "data": {
      "application/vnd.jupyter.widget-view+json": {
       "model_id": "b17d133db89748a391b78865dbf849d8",
       "version_major": 2,
       "version_minor": 0
      },
      "text/plain": [
       "VBox(children=(Label(value='Include a general discussion about what you did/learned above.'), Textarea(value='…"
      ]
     },
     "metadata": {},
     "output_type": "display_data"
    },
    {
     "data": {
      "application/vnd.jupyter.widget-view+json": {
       "model_id": "66629e58066a4e3b8f0b3274270ef230",
       "version_major": 2,
       "version_minor": 0
      },
      "text/plain": [
       "Button(description='Save Answers', style=ButtonStyle())"
      ]
     },
     "metadata": {},
     "output_type": "display_data"
    },
    {
     "data": {
      "text/markdown": [
       "**Include a general discussion about what you did/learned above.**\n",
       "\n",
       "The Iris dataset has 4 features. When training a DecisionTreeClassifier on this dataset, we got a training accuracy of 1.0 when using default hyperparameters and .9733 when setting the max_depth hyperparameter to 3. Max_depth controls how many levels the generated decision tree has. A new level is generated when the dataset is split on a feature. There are 4 features in the iris dataset, so the max depth of a fully induced tree would be 4. The fact that the training accuracy went down when using a max_depth of 3 indicates that the fully induced tree uses all 4 features for splitting to reach some leaf nodes, and when using max_depth of 3, the induced tree will not consider at least 1 feature when traversing the tree to a leaf node. This likely introduces impurity into some of the leaf nodes and is likely what leads to a slightly reduced training accuracy when using a max_depth of 3. "
      ],
      "text/plain": [
       "<IPython.core.display.Markdown object>"
      ]
     },
     "metadata": {},
     "output_type": "display_data"
    }
   ],
   "source": [
    "# @title 1.1 Discussion { display-mode: \"form\" }\n",
    "# PLEASE DO NOT ALTER THIS CODE\n",
    "if net_id == \"\":\n",
    "  raise Exception(\"You need to set your net_id, silly goose.\")\n",
    "discussion_id = \"1.1DT\"\n",
    "questions = [\"Include a general discussion about what you did/learned above.\"]\n",
    "Discussion(discussion_id, questions, net_id); pass"
   ]
  },
  {
   "cell_type": "markdown",
   "metadata": {
    "id": "ICKyhDXM3veC"
   },
   "source": [
    "## 2. Missing Values, N-fold CV, and Decision Tree Items  \n",
    "\n",
    "### 2.1 (15%) Handling missing values\n",
    "- Use this [Voting Dataset with missing values](https://raw.githubusercontent.com/cs472ta/CS472/master/datasets/voting_with_missing.arff)\n",
    "- This data set has missing data.  Create an extra feature value for each feature with missing data. For example, if the feature were color with possible values R, G, B, you would add a fourth value (e.g. U or ? for unknown).\n",
    "- Do not use a stopping criteria. Induce the tree as far as it can go (until classes are pure or there are no more data or attributes to split on).\n",
    "- SKlearn does not allow nominal features, which initially seems odd. However, SKlearn uses the binary CART algorithm where a nominal data value like color is broken down into blue or not blue, red or not red, etc.  It is thus natural to just use one-hot encoding for each nominal feature.\n",
    "- Use an 80/20 train/test split.\n",
    "- Report the training and test set accuracies."
   ]
  },
  {
   "cell_type": "code",
   "execution_count": 100,
   "metadata": {
    "id": "Y9aQ24Eh3veC"
   },
   "outputs": [
    {
     "name": "stdout",
     "output_type": "stream",
     "text": [
      "number of features before one hot encoding: 16\n",
      "number of features after one hot encoding: 48\n",
      "Training Accuracy: 1.0\n",
      "Testing Accuracy: 0.9080459770114943\n"
     ]
    }
   ],
   "source": [
    "# Learn Voting with missing values.\n",
    "from sklearn.preprocessing import OneHotEncoder\n",
    "\n",
    "PATH_TO_VOTING_ARFF = 'datasets/voting_with_missing.arff'\n",
    "\n",
    "voting_dataset = arff.loadarff(PATH_TO_VOTING_ARFF)\n",
    "voting_df = pd.DataFrame(voting_dataset[0])\n",
    "\n",
    "print(\"number of features before one hot encoding:\", len(voting_df.columns[:-1]))\n",
    "\n",
    "one_hot_encoded_voting_features = pd.get_dummies(voting_df.iloc[:, :-1])\n",
    "\n",
    "X = one_hot_encoded_voting_features.values\n",
    "y = np.array([x.decode('utf-8') for x in voting_df.iloc[:, -1].values])\n",
    "\n",
    "print(\"number of features after one hot encoding:\", len(X[0]))\n",
    "\n",
    "X_train, X_test, y_train, y_test = train_test_split(X, y, test_size=0.2)\n",
    "\n",
    "voting_clf = DecisionTreeClassifier()\n",
    "voting_clf.fit(X_train, y_train)\n",
    "print('Training Accuracy:', voting_clf.score(X_train, y_train))\n",
    "print('Testing Accuracy:', voting_clf.score(X_test, y_test))"
   ]
  },
  {
   "cell_type": "code",
   "execution_count": 119,
   "metadata": {
    "colab": {
     "base_uri": "https://localhost:8080/",
     "height": 154,
     "referenced_widgets": [
      "3057a7cdf2b84843bd88c1e76bfd6f90",
      "75e3c2f5ff9743369aaef3cec8503a59",
      "5cd328d7a8734eb1ae16a33e0060274f",
      "00a3f214fb4746d7b1bb8e4fd6231fe6",
      "ed1a5cd4e34946f4b53923e95bf5713b",
      "4d0964e161de4a2aa46c215a7709e5c7",
      "8f40e50b06f140e59b2214c182af6bb9",
      "dba4a77e2b5148cd8a41c6e486ca9129",
      "959ed9fe2595409bb22345a3c9c9080c",
      "eb5999ed75484a62b99365cd2cf5aae5",
      "32552ef4d7bb4ab2b4af719ddc834248"
     ]
    },
    "id": "UwHaAiud3veC",
    "outputId": "b47b86b7-62a1-44ab-eb2b-63315506e76d"
   },
   "outputs": [
    {
     "data": {
      "application/vnd.jupyter.widget-view+json": {
       "model_id": "a85883b2d77c4bab8a970a7d293f53f3",
       "version_major": 2,
       "version_minor": 0
      },
      "text/plain": [
       "VBox(children=(Label(value='How did you handle the missing values?'), Textarea(value=\"The dataset has 16 featu…"
      ]
     },
     "metadata": {},
     "output_type": "display_data"
    },
    {
     "data": {
      "application/vnd.jupyter.widget-view+json": {
       "model_id": "725d884afb564c1a8dd0113bdc24b06f",
       "version_major": 2,
       "version_minor": 0
      },
      "text/plain": [
       "Button(description='Save Answers', style=ButtonStyle())"
      ]
     },
     "metadata": {},
     "output_type": "display_data"
    },
    {
     "data": {
      "text/markdown": [
       "**How did you handle the missing values?**\n",
       "\n",
       "The dataset has 16 features, each of which is either 'y', 'n', or missing. In the arff file, missing values are indicated by a '?'. To handle missing values, I used one-hot encoding on all input features. After doing so, I had 48 features rather than 16. This makes sense because each feature had 3 possible values: {'y', 'n', '?'}. One-hot encoding introduces a new binary column for each possible value of a feature, so it is expected that 48 features would be generated because 16 * 3 = 48. After handling nominal and missing data with one-hot encoding, I found a training accuracy of 1 and a testing accuracy of .908, which are good results. "
      ],
      "text/plain": [
       "<IPython.core.display.Markdown object>"
      ]
     },
     "metadata": {},
     "output_type": "display_data"
    }
   ],
   "source": [
    "# @title 2.1 Discussion { display-mode: \"form\" }\n",
    "# PLEASE DO NOT ALTER THIS CODE\n",
    "if net_id == \"\":\n",
    "  raise Exception(\"You need to set your net_id, silly goose.\")\n",
    "discussion_id = \"2.1DT\"\n",
    "questions = [\"How did you handle the missing values?\"]\n",
    "Discussion(discussion_id, questions, net_id); pass"
   ]
  },
  {
   "cell_type": "markdown",
   "metadata": {
    "id": "XeXyxncc3veC"
   },
   "source": [
    "### 2.2 (15%)  N-fold Cross Validation\n",
    "- Learn the [Cars Dataset](https://raw.githubusercontent.com/cs472ta/CS472/master/datasets/cars.arff) with the decision tree.\n",
    "- Create a table with the 10-fold cross validation accuracies and show the average predicted accuracy.\n",
    "- Try it again with 5-fold CV and create and show that table also."
   ]
  },
  {
   "cell_type": "code",
   "execution_count": 6,
   "metadata": {
    "id": "xl8X4gHg3veC"
   },
   "outputs": [
    {
     "name": "stdout",
     "output_type": "stream",
     "text": [
      "10-fold cross validation accuracies: [0.75722543 0.74566474 0.93063584 0.67630058 0.84971098 0.9132948\n",
      " 0.88439306 0.87283237 0.9127907  0.91860465]\n",
      "Average: 0.8461453152305418\n",
      "5-fold cross validation accuracies: [0.74566474 0.72543353 0.74566474 0.75362319 0.8057971 ]\n",
      "Average: 0.7552366591270838\n"
     ]
    }
   ],
   "source": [
    "from sklearn.model_selection import cross_val_score\n",
    "\n",
    "PATH_TO_CARS_ARFF = 'datasets/cars.arff'\n",
    "\n",
    "cars_dataset = arff.loadarff(PATH_TO_CARS_ARFF)\n",
    "cars_df = pd.DataFrame(cars_dataset[0])\n",
    "\n",
    "one_hot_encoded_cars_features = pd.get_dummies(cars_df.iloc[:, :-1])\n",
    "\n",
    "X = one_hot_encoded_cars_features.values\n",
    "y = np.array([x.decode('utf-8') for x in cars_df.iloc[:, -1].values]) # convert bytes to string\n",
    "\n",
    "cars_clf = DecisionTreeClassifier()\n",
    "\n",
    "scores = cross_val_score(cars_clf, X, y, cv=10)\n",
    "print('10-fold cross validation accuracies:', scores)\n",
    "print('Average:', np.mean(scores))\n",
    "scores = cross_val_score(cars_clf, X, y, cv=5)\n",
    "print('5-fold cross validation accuracies:', scores)\n",
    "print('Average:', np.mean(scores))\n",
    "\n",
    "cars_clf.fit(X, y)\n",
    "pass"
   ]
  },
  {
   "cell_type": "code",
   "execution_count": 121,
   "metadata": {
    "colab": {
     "base_uri": "https://localhost:8080/",
     "height": 154,
     "referenced_widgets": [
      "cd9041a27a8847c7b7bc33962436ea4f",
      "12236568517e4c9e84f4538eab9cd655",
      "00212f22131c4afa8ae8744aa6894455",
      "912d658b3689442b8d14a7907b8f1e81",
      "0d755b41f3f94910bc9fff8b4ac40ea0",
      "2248eb1684a14cf982393bb50d0d899f",
      "3abeb3efdc9d4c008b71c2c44178c769",
      "38efaf0c3c5e453f88a808f919f4b82c",
      "3de4276ed7034b2ab0f5ff0f378776cc",
      "01e21456baf5409ea13e3221408dd778",
      "dae416c13a72467da912e0bba5f65f2f"
     ]
    },
    "id": "1kT0lbEt7nrr",
    "outputId": "6d834a2d-7819-4afe-cb36-b581c7b355f8"
   },
   "outputs": [
    {
     "data": {
      "application/vnd.jupyter.widget-view+json": {
       "model_id": "88bd8a26b75c44c1837804ae42b68de0",
       "version_major": 2,
       "version_minor": 0
      },
      "text/plain": [
       "VBox(children=(Label(value='Include a general discussion about what you did/learned above.'), Textarea(value='…"
      ]
     },
     "metadata": {},
     "output_type": "display_data"
    },
    {
     "data": {
      "application/vnd.jupyter.widget-view+json": {
       "model_id": "e55549784b4d4d54a45c12ee0a4445c1",
       "version_major": 2,
       "version_minor": 0
      },
      "text/plain": [
       "Button(description='Save Answers', style=ButtonStyle())"
      ]
     },
     "metadata": {},
     "output_type": "display_data"
    },
    {
     "data": {
      "text/markdown": [
       "**Include a general discussion about what you did/learned above.**\n",
       "\n",
       "n-fold cross validation divides the dataset up into n smaller datasets. For each smaller dataset, it uses the current set as a test set and the other n-1 sets combined as a training set. It then computes test accuracy for the current training and test sets. It then goes to the next small set and uses that as the new test set and the other n-1 sets combined as the new training set. This continues until all n smaller datasets have been used as the test set. At the end, there will be n test accuracies computed. Using 10-fold cross validation, I found the average test accuracy of the 10 computed accuracies to be .846. For 5-fold cross validation, I found the average test accuracy of the 5 computed accuracies to be .755. The model is performing better when using more folds. This makes sense because the test sets will be smaller and the there will be more overall test runs.\n",
       "\n"
      ],
      "text/plain": [
       "<IPython.core.display.Markdown object>"
      ]
     },
     "metadata": {},
     "output_type": "display_data"
    }
   ],
   "source": [
    "# @title 2.2 Discussion { display-mode: \"form\" }\n",
    "# PLEASE DO NOT ALTER THIS CODE\n",
    "if net_id == \"\":\n",
    "  raise Exception(\"You need to set your net_id, silly goose.\")\n",
    "discussion_id = \"2.2DT\"\n",
    "questions = [\"Include a general discussion about what you did/learned above.\"]\n",
    "Discussion(discussion_id, questions, net_id); pass\n",
    "\n",
    "# model able to predict on smaller data better (10 fold smaller sets)"
   ]
  },
  {
   "cell_type": "markdown",
   "metadata": {
    "id": "xjPiCWN13veC"
   },
   "source": [
    "### 2.3 (10%) Decision Tree Intuition\n",
    "For each of the two problems above (Voting and Cars):\n",
    "- Print the full tree for each.  You may use tree.plot_tree(clf) or [another way](https://mljar.com/blog/visualize-decision-tree/) if you prefer.  tree.plot_tree has a number of parameters which you can try which let you print more informative trees which can help your discussion.\n",
    "- Train both again with max_depth = 2 and print these smaller trees and include them in your report.\n",
    "- Summarize in English what these 2 smaller decision trees have learned (i.e. look at the induced trees and describe what \"rules\" they discovered).\n",
    "- Compare your thoughts on important features with the attribute feature_importances_"
   ]
  },
  {
   "cell_type": "code",
   "execution_count": 113,
   "metadata": {
    "id": "svAIfmKG3veC"
   },
   "outputs": [
    {
     "name": "stdout",
     "output_type": "stream",
     "text": [
      "----- Fully Induced Voting Tree -----\n"
     ]
    },
    {
     "data": {
      "image/png": "[encoded data removed]",
      "text/plain": [
       "<Figure size 640x480 with 1 Axes>"
      ]
     },
     "metadata": {},
     "output_type": "display_data"
    },
    {
     "name": "stdout",
     "output_type": "stream",
     "text": [
      "----- Fully Induced Cars Tree -----\n"
     ]
    },
    {
     "data": {
      "image/png": "[encoded data removed]",
      "text/plain": [
       "<Figure size 640x480 with 1 Axes>"
      ]
     },
     "metadata": {},
     "output_type": "display_data"
    },
    {
     "name": "stdout",
     "output_type": "stream",
     "text": [
      "----- Voting Tree w/ Max Depth 2 -----\n",
      "Voting Feature Importances:\n",
      " [0.         0.         0.         0.         0.         0.\n",
      " 0.         0.         0.00773929 0.         0.         0.97086373\n",
      " 0.         0.         0.         0.         0.         0.\n",
      " 0.         0.         0.         0.         0.         0.\n",
      " 0.         0.         0.         0.         0.         0.\n",
      " 0.         0.         0.02139698 0.         0.         0.\n",
      " 0.         0.         0.         0.         0.         0.\n",
      " 0.         0.         0.         0.         0.         0.        ]\n"
     ]
    },
    {
     "data": {
      "image/png": "[encoded data removed]",
      "text/plain": [
       "<Figure size 640x480 with 1 Axes>"
      ]
     },
     "metadata": {},
     "output_type": "display_data"
    },
    {
     "name": "stdout",
     "output_type": "stream",
     "text": [
      "----- Cars Tree w/ Max Depth 2 -----\n",
      "Cars Feature Importances:\n",
      " [0.  0.  0.  0.  0.  0.  0.  0.  0.  0.  0.  0.  0.4 0.  0.  0.  0.  0.\n",
      " 0.  0.6 0. ]\n"
     ]
    },
    {
     "data": {
      "image/png": "[encoded data removed]",
      "text/plain": [
       "<Figure size 640x480 with 1 Axes>"
      ]
     },
     "metadata": {},
     "output_type": "display_data"
    }
   ],
   "source": [
    "#Print induced trees for the voting and car data sets\n",
    "from sklearn import tree\n",
    "\n",
    "# voting tree\n",
    "print('----- Fully Induced Voting Tree -----')\n",
    "tree.plot_tree(voting_clf)\n",
    "plt.show()\n",
    "\n",
    "\n",
    "\n",
    "# cars tree\n",
    "print('----- Fully Induced Cars Tree -----')\n",
    "tree.plot_tree(cars_clf)\n",
    "plt.show()\n",
    "\n",
    "# voting tree w max_depth = 2\n",
    "one_hot_encoded_voting_features = pd.get_dummies(voting_df.iloc[:, :-1])\n",
    "\n",
    "X = one_hot_encoded_voting_features.values\n",
    "y = np.array([x.decode('utf-8') for x in voting_df.iloc[:, -1].values])\n",
    "\n",
    "X_train, X_test, y_train, y_test = train_test_split(X, y, test_size=0.2)\n",
    "\n",
    "voting_clf = DecisionTreeClassifier(max_depth=2)\n",
    "voting_clf.fit(X_train, y_train)\n",
    "\n",
    "print('----- Voting Tree w/ Max Depth 2 -----')\n",
    "print('Voting Feature Importances:\\n', voting_clf.feature_importances_)\n",
    "tree.plot_tree(voting_clf, feature_names=one_hot_encoded_voting_features.columns.values, class_names=['republican', 'democrat' ])\n",
    "plt.show()\n",
    "\n",
    "# cars tree w max_depth = 2\n",
    "one_hot_encoded_cars_features = pd.get_dummies(cars_df.iloc[:, :-1])\n",
    "\n",
    "X = one_hot_encoded_cars_features.values\n",
    "y = np.array([x.decode('utf-8') for x in cars_df.iloc[:, -1].values])\n",
    "\n",
    "cars_clf = DecisionTreeClassifier(max_depth=2)\n",
    "cars_clf.fit(X, y)\n",
    "\n",
    "print('----- Cars Tree w/ Max Depth 2 -----')\n",
    "print('Cars Feature Importances:\\n', cars_clf.feature_importances_)\n",
    "tree.plot_tree(cars_clf, feature_names=one_hot_encoded_cars_features.columns.values, class_names=['acc', 'good', 'unacc', 'v-good'])\n",
    "plt.show()\n",
    "\n"
   ]
  },
  {
   "cell_type": "code",
   "execution_count": 117,
   "metadata": {
    "colab": {
     "base_uri": "https://localhost:8080/",
     "height": 254,
     "referenced_widgets": [
      "b03ee0372a7c4359952e90e383afac6e",
      "f452c6b66c194d9da1b812c326d84684",
      "efa00317f8e741c0bda03283e80363e9",
      "4120503eafa64eeea8f2c792a3166c19",
      "25843a8f2821499dae6984561d365bdf",
      "db8d5d5d153849bdac52dfa5193ccbbe",
      "f425897c5e8f48f1b4319aba57dd2fb7",
      "a356d10f38994896b150f6e2146fe20f",
      "b62824f9c77244e4b1b6d35dd1c4b751",
      "d7e5a659e73d4e2f997a1fc56e96d51d",
      "a4d0b781961a4e54a8cf210d0d173670",
      "658e115e22794ac4b85d3c4a4f1e92e3",
      "8b7de9d5e18546dc956849ef430bbf54",
      "3f4b203aca734ababb4e70b6a75de468",
      "01eb9f0e42624f2eb44acf9420f7b219",
      "c96eb673d62241b693d6ea44b9c1b0fe",
      "663353c451924c4ea218ea15b9b5c3a2",
      "8f1d163788444bb1a34668de3f72a2bf",
      "62f8be6f785a4dfeb87e597ab2ee82b5"
     ]
    },
    "id": "Mh9YkSuz85xk",
    "outputId": "64894cde-d56b-43e7-d8ac-51b80239ee87"
   },
   "outputs": [
    {
     "data": {
      "application/vnd.jupyter.widget-view+json": {
       "model_id": "3b3c4ce149d14e639d49114f1678ff01",
       "version_major": 2,
       "version_minor": 0
      },
      "text/plain": [
       "VBox(children=(Label(value='What did the Decision Tree learn about the Voting dataset?'), Textarea(value=\"The …"
      ]
     },
     "metadata": {},
     "output_type": "display_data"
    },
    {
     "data": {
      "application/vnd.jupyter.widget-view+json": {
       "model_id": "fde91c8e17d147269d78c78c16f62831",
       "version_major": 2,
       "version_minor": 0
      },
      "text/plain": [
       "VBox(children=(Label(value='What did the Decision Tree learn about the Cars dataset?'), Textarea(value=\"The ca…"
      ]
     },
     "metadata": {},
     "output_type": "display_data"
    },
    {
     "data": {
      "application/vnd.jupyter.widget-view+json": {
       "model_id": "4292c2987b6f4a58ad157779afa3f4a8",
       "version_major": 2,
       "version_minor": 0
      },
      "text/plain": [
       "Button(description='Save Answers', style=ButtonStyle())"
      ]
     },
     "metadata": {},
     "output_type": "display_data"
    },
    {
     "data": {
      "text/markdown": [
       "**What did the Decision Tree learn about the Voting dataset?**\n",
       "\n",
       "The voting decision tree with a max_depth of 2 chose 'physician-fee-freeze' as the most important attribute for classifying as either republican or democrat. The tree found that those who identified as republican were very likely to support 'physician-fee-freeze' and those who identified as democrat were very likely to not support it. The next two most important features for classification that the model found were 'adoption-of-the-budget-resolution' and 'synfuels-corporation-cutback'. Republicans were very likely to support 'adoption-of-the-budget-resolution' and democrats were very likely to support 'synfuels-corporation-cutback'. These three attributes match up exactly with the classifier's feature_importances_ property. The 12th item in the  importances array matches the 4th feature (due to the one-hot encoding). This feature is 'physician-fee-freeze', and it is the item with the highest feature importance of .971. The other 2 discovered attributes match up on the next two highest items in the importances array. The other features in the dataset have feature importances of 0 in the array because they are not considered in the tree due to the max_depth hyperparameter. The rules this tree have discovered are if a person supports 'physician-fee-freeze', they are classified as a republican no matter if they support 'adoption-of-the-budget-resolution' (they likely will), and if they don't support 'physician-fee-freeze, they are classified as a democrat no matter if they support 'synfuels-corporation-cutback' (they likely will)."
      ],
      "text/plain": [
       "<IPython.core.display.Markdown object>"
      ]
     },
     "metadata": {},
     "output_type": "display_data"
    },
    {
     "data": {
      "text/markdown": [
       "**What did the Decision Tree learn about the Cars dataset?**\n",
       "\n",
       "The cars dataset classifies a car instance as very good, good, acceptable, or unacceptable. The cars decision tree discovered that the most important feature for classification was 'persons'. This is a numerical feature for how many people the car can carry (seats). The model discovered that all 2-seater instances were classified as unacceptable, which makes it a perfect feature to split on first because it results in a pure leaf node immediately. The model then chose 'safety' as the next most important feature to split on. All instances that were given a 'safety' value of low were classified as unacceptable, which makes 'safety' another perfect feature to split on because it also introduces a pure leaf node. In summary, the model has learned that the 2 most important features for classification are if the car instance is a 2-seater, and if not, if it has been given a low safety rating. These two features (persons, safety) also line up with the 2 highest feature_importances_ of .6 and .4 respectively in the feature_importances_ array. Here are the rules that the car tree has discovered. If a car is a 2-seater, then it classified as unacceptable. If it is not a 2-seater but is marked as low safety, then it is also classified as unacceptable. If it is not a 2-seater and is not marked as low safety, then it is classified as acceptable."
      ],
      "text/plain": [
       "<IPython.core.display.Markdown object>"
      ]
     },
     "metadata": {},
     "output_type": "display_data"
    }
   ],
   "source": [
    "# @title 2.3 Discussion { display-mode: \"form\" }\n",
    "# PLEASE DO NOT ALTER THIS CODE\n",
    "if net_id == \"\":\n",
    "  raise Exception(\"You need to set your net_id, silly goose.\")\n",
    "discussion_id = \"2.3DT\"\n",
    "questions = [\"What did the Decision Tree learn about the Voting dataset?\", \"What did the Decision Tree learn about the Cars dataset?\"]\n",
    "Discussion(discussion_id, questions, net_id); pass"
   ]
  },
  {
   "cell_type": "markdown",
   "metadata": {
    "id": "XSlT_rCr3veC"
   },
   "source": [
    "### 2.4 (5%) Other Parameters\n",
    "- For either of the data sets above experiment and discuss using a different split criterion (Compare Entropy and Log-loss with Gini)"
   ]
  },
  {
   "cell_type": "code",
   "execution_count": 30,
   "metadata": {
    "id": "2Ow2l8ri3veC"
   },
   "outputs": [
    {
     "name": "stdout",
     "output_type": "stream",
     "text": [
      "+-------------+---------------------+--------------------+\n",
      "| Criterion   |   Training Accuracy |   Testing Accuracy |\n",
      "+=============+=====================+====================+\n",
      "| gini        |                   1 |           0.954023 |\n",
      "+-------------+---------------------+--------------------+\n",
      "| entropy     |                   1 |           0.942529 |\n",
      "+-------------+---------------------+--------------------+\n",
      "| log_loss    |                   1 |           0.954023 |\n",
      "+-------------+---------------------+--------------------+\n"
     ]
    }
   ],
   "source": [
    "# Experiment with criterion parameter\n",
    "from tabulate import tabulate\n",
    "\n",
    "X = voting_df.iloc[:, :-1].values\n",
    "y = np.array([x.decode('utf-8') for x in voting_df.iloc[:, -1].values])\n",
    "\n",
    "X = OneHotEncoder().fit_transform(X).toarray()\n",
    "\n",
    "X_train, X_test, y_train, y_test = train_test_split(X, y, test_size=0.2)\n",
    "\n",
    "values = ['gini', 'entropy', 'log_loss']\n",
    "table_headers = ['Criterion', 'Training Accuracy', 'Testing Accuracy']\n",
    "table_results = []\n",
    "\n",
    "for value in values:\n",
    "  voting_clf = DecisionTreeClassifier(criterion=value)\n",
    "  voting_clf.fit(X_train, y_train)\n",
    "  table_results.append([value, voting_clf.score(X_train, y_train), voting_clf.score(X_test, y_test)])\n",
    "\n",
    "print(tabulate(table_results, headers=table_headers, tablefmt='grid'))"
   ]
  },
  {
   "cell_type": "code",
   "execution_count": 116,
   "metadata": {
    "colab": {
     "base_uri": "https://localhost:8080/",
     "height": 154,
     "referenced_widgets": [
      "086682738ed742b083b761f65093a1c3",
      "a201e11aab804cb588bbc8f7d99840a2",
      "266b04341cfb4ecfba3e698915999002",
      "2f33ebf38c6d4f819a18086a1c8f13e4",
      "d9d110fd3da349839a99d91a71439543",
      "56f0b22810384f56a1922d838c3be152",
      "37dc209d3ec9467bada67ca0ec8e61a6",
      "d712d49ff06b4a8b89313a47c04637ec",
      "48c31f5a131b4d719cdb9bffffd75311",
      "54335aaba8aa49dcb718d118318fecbf",
      "d67b68fb3bbb4360bb86fe3d0b8d21aa"
     ]
    },
    "id": "JfAv52OG9W62",
    "outputId": "5502061a-d37c-45b8-9407-b1d1befa40fc"
   },
   "outputs": [
    {
     "data": {
      "application/vnd.jupyter.widget-view+json": {
       "model_id": "f05e90e5f35d48098b5b7d4ecc0abb87",
       "version_major": 2,
       "version_minor": 0
      },
      "text/plain": [
       "VBox(children=(Label(value='Discuss the effects each split criterion had.'), Textarea(value='I worked with the…"
      ]
     },
     "metadata": {},
     "output_type": "display_data"
    },
    {
     "data": {
      "application/vnd.jupyter.widget-view+json": {
       "model_id": "68a64337d5b94cbe956b5b5fa6f3d425",
       "version_major": 2,
       "version_minor": 0
      },
      "text/plain": [
       "Button(description='Save Answers', style=ButtonStyle())"
      ]
     },
     "metadata": {},
     "output_type": "display_data"
    },
    {
     "data": {
      "text/markdown": [
       "**Discuss the effects each split criterion had.**\n",
       "\n",
       "I worked with the voting dataset again. I again used one-hot encoding to handle the nominal and missing values. I used a .2 train-test split and trained/tested a DecisionTreeClassifier 3 different times using gini, entropy, and log_loss splitting criteria respectively. The criterion parameter controls how the model chooses which features to split on. Each of the 3 options uses a different algorithm for this purpose, but they tend to perform similarly. This can be seen in this instance. Across all 3 criteria, the model produced a perfect training accuracy of 1. They also had very similar testing accuracies: .954 for gini, .943 for entropy, and .954 for log_loss. My hypothesis is that that the voting dataset is simple enough that each algorithm is discovering mostly same features to split on. A possible reason for slight discrepancies in testing accuracies is that the last splitting features differ slightly between algorithms. The last splitting features are the least important in terms of classifying an instance, which is why the testing accuracies are only slightly different."
      ],
      "text/plain": [
       "<IPython.core.display.Markdown object>"
      ]
     },
     "metadata": {},
     "output_type": "display_data"
    }
   ],
   "source": [
    "# @title 2.4 Discussion { display-mode: \"form\" }\n",
    "# PLEASE DO NOT ALTER THIS CODE\n",
    "if net_id == \"\":\n",
    "  raise Exception(\"You need to set your net_id, silly goose.\")\n",
    "discussion_id = \"2.4DT\"\n",
    "questions = [\"Discuss the effects each split criterion had.\"]\n",
    "Discussion(discussion_id, questions, net_id); pass"
   ]
  },
  {
   "cell_type": "markdown",
   "metadata": {
    "id": "M24Yu0Qj3veC"
   },
   "source": [
    "## 3 Overfit Avoidance with Decision Trees  \n",
    "\n",
    "Above, you found typical training and test set scores for the Cars data set when the tree is induced as far as it can go (until classes are pure or there are no more data or attributes to split on).  This usually leads to great training set scores but can potentially overfit and get lower accuracy on the test set.  You will now experiment with methods which can help avoid overfit and which could lead to better test set accuracy (though training set accuracy may decrease).  \n",
    "\n",
    "### 3.1 Smaller and Simpler Trees (20%)\n",
    "- tree_: [Read about](https://scikit-learn.org/stable/auto_examples/tree/plot_unveil_tree_structure.html#sphx-glr-auto-examples-tree-plot-unveil-tree-structure-py) the tree_ attribute with its sub attributes and methods allowing you to interact with your learned tree.  You don't have to do any specific task for this part.\n",
    "- Use an 80/20 train/test split for all experiments in this part and induce (learn/fit) the full tree for Cars.\n",
    "- For the fully induced tree print out\n",
    "    - Training set accuracy\n",
    "    - Test set accuracy\n",
    "    - Total number of nodes (clf.tree_.node_count)\n",
    "    - Maximum tree depth (clf.tree_.max_depth)\n",
    "- Experiment with the following parameters which lead to smaller and/or simpler trees which can help with overfit.  Try a few different values of each parameter and compare their train and test set accuracies and number of nodes and depth with the fully induced tree.  If you are not sure how parameters are actually working, print some trees to see their effect.  Due to the simplicity of the Cars data set you may not see as great of accuracy improvements as you would for cases where overfit is more prominent.  \n",
    "    - min_samples_leaf\n",
    "    - min_samples_split\n",
    "    - min_impurity_decrease\n",
    "- Try these parameters also, but note that they could lead to underfit\n",
    "    - max_depth\n",
    "    - max_leaf_nodes\n",
    "    - max_features"
   ]
  },
  {
   "cell_type": "code",
   "execution_count": 45,
   "metadata": {
    "id": "MLOyiHZz3veD"
   },
   "outputs": [
    {
     "name": "stdout",
     "output_type": "stream",
     "text": [
      "Fully Induced Cars Tree Training Accuracy: 1.0\n",
      "Fully Induced Cars Tree Testing Accuracy: 0.9450867052023122\n",
      "Fully Induced Cars # of Nodes: 161\n",
      "Fully Induced Cars Tree Depth: 13\n",
      "----- min_samples_leaf -----\n",
      "+--------------------+---------------------+--------------------+--------------+--------------+\n",
      "|   Min Samples Leaf |   Training Accuracy |   Testing Accuracy |   # of Nodes |   Tree Depth |\n",
      "+====================+=====================+====================+==============+==============+\n",
      "|                  1 |            1        |           0.942197 |          161 |           13 |\n",
      "+--------------------+---------------------+--------------------+--------------+--------------+\n",
      "|                  5 |            0.971056 |           0.942197 |          101 |           11 |\n",
      "+--------------------+---------------------+--------------------+--------------+--------------+\n",
      "|                 10 |            0.945007 |           0.919075 |           67 |           10 |\n",
      "+--------------------+---------------------+--------------------+--------------+--------------+\n",
      "----- min_samples_split -----\n",
      "+---------------------+---------------------+--------------------+--------------+--------------+\n",
      "|   Min Samples Split |   Training Accuracy |   Testing Accuracy |   # of Nodes |   Tree Depth |\n",
      "+=====================+=====================+====================+==============+==============+\n",
      "|                   2 |            1        |           0.947977 |          161 |           13 |\n",
      "+---------------------+---------------------+--------------------+--------------+--------------+\n",
      "|                   5 |            0.98987  |           0.939306 |          137 |           12 |\n",
      "+---------------------+---------------------+--------------------+--------------+--------------+\n",
      "|                  10 |            0.973951 |           0.942197 |          101 |           11 |\n",
      "+---------------------+---------------------+--------------------+--------------+--------------+\n",
      "----- min_impurity_decrease -----\n",
      "+-------------------------+---------------------+--------------------+--------------+--------------+\n",
      "|   Min Impurity Decrease |   Training Accuracy |   Testing Accuracy |   # of Nodes |   Tree Depth |\n",
      "+=========================+=====================+====================+==============+==============+\n",
      "|                    0.01 |            0.853835 |           0.83526  |           15 |            5 |\n",
      "+-------------------------+---------------------+--------------------+--------------+--------------+\n",
      "|                    0.05 |            0.781476 |           0.763006 |            5 |            2 |\n",
      "+-------------------------+---------------------+--------------------+--------------+--------------+\n",
      "|                    0.5  |            0.699711 |           0.702312 |            1 |            0 |\n",
      "+-------------------------+---------------------+--------------------+--------------+--------------+\n",
      "----- max_depth -----\n",
      "+-------------+---------------------+--------------------+--------------+--------------+\n",
      "|   Max Depth |   Training Accuracy |   Testing Accuracy |   # of Nodes |   Tree Depth |\n",
      "+=============+=====================+====================+==============+==============+\n",
      "|           2 |            0.781476 |           0.763006 |            5 |            2 |\n",
      "+-------------+---------------------+--------------------+--------------+--------------+\n",
      "|           5 |            0.854559 |           0.83815  |           19 |            5 |\n",
      "+-------------+---------------------+--------------------+--------------+--------------+\n",
      "|          10 |            0.98987  |           0.947977 |          137 |           10 |\n",
      "+-------------+---------------------+--------------------+--------------+--------------+\n",
      "----- max_leaf_nodes -----\n",
      "+------------------+---------------------+--------------------+--------------+--------------+\n",
      "|   Max Leaf Nodes |   Training Accuracy |   Testing Accuracy |   # of Nodes |   Tree Depth |\n",
      "+==================+=====================+====================+==============+==============+\n",
      "|                5 |            0.824891 |           0.797688 |            9 |            4 |\n",
      "+------------------+---------------------+--------------------+--------------+--------------+\n",
      "|               10 |            0.860347 |           0.849711 |           19 |            6 |\n",
      "+------------------+---------------------+--------------------+--------------+--------------+\n",
      "|               15 |            0.90521  |           0.913295 |           29 |            8 |\n",
      "+------------------+---------------------+--------------------+--------------+--------------+\n",
      "----- max_features -----\n",
      "+----------------+---------------------+--------------------+--------------+--------------+\n",
      "|   Max Features |   Training Accuracy |   Testing Accuracy |   # of Nodes |   Tree Depth |\n",
      "+================+=====================+====================+==============+==============+\n",
      "|              5 |                   1 |           0.884393 |          529 |           14 |\n",
      "+----------------+---------------------+--------------------+--------------+--------------+\n",
      "|             10 |                   1 |           0.956647 |          219 |           14 |\n",
      "+----------------+---------------------+--------------------+--------------+--------------+\n",
      "|             15 |                   1 |           0.953757 |          231 |           13 |\n",
      "+----------------+---------------------+--------------------+--------------+--------------+\n"
     ]
    }
   ],
   "source": [
    "# Explore different overfit parameters\n",
    "\n",
    "# Fully induced car tree\n",
    "\n",
    "X = cars_df.iloc[:, :-1].values\n",
    "y = np.array([x.decode('utf-8') for x in cars_df.iloc[:, -1].values])\n",
    "\n",
    "X = OneHotEncoder().fit_transform(X).toarray()\n",
    "\n",
    "X_train, X_test, y_train, y_test = train_test_split(X, y, test_size=0.2)\n",
    "\n",
    "cars_clf = DecisionTreeClassifier()\n",
    "cars_clf.fit(X_train, y_train)\n",
    "print('Fully Induced Cars Tree Training Accuracy:', cars_clf.score(X_train, y_train))\n",
    "print('Fully Induced Cars Tree Testing Accuracy:', cars_clf.score(X_test, y_test))\n",
    "print('Fully Induced Cars # of Nodes:', cars_clf.tree_.node_count)\n",
    "print('Fully Induced Cars Tree Depth:', cars_clf.tree_.max_depth)\n",
    "\n",
    "# min_samples_leaf\n",
    "print('----- min_samples_leaf -----')\n",
    "values = [1, 5, 10]\n",
    "\n",
    "table_headers = ['Min Samples Leaf', 'Training Accuracy', 'Testing Accuracy', '# of Nodes', 'Tree Depth']\n",
    "table_results = []\n",
    "\n",
    "for v in values:\n",
    "  cars_clf = DecisionTreeClassifier(min_samples_leaf=v)\n",
    "  cars_clf.fit(X_train, y_train)\n",
    "  table_results.append([v, cars_clf.score(X_train, y_train), cars_clf.score(X_test, y_test), cars_clf.tree_.node_count, cars_clf.tree_.max_depth])\n",
    "\n",
    "print(tabulate(table_results, headers=table_headers, tablefmt='grid'))\n",
    "\n",
    "# min_samples_split\n",
    "print('----- min_samples_split -----')\n",
    "values = [2, 5, 10]\n",
    "\n",
    "table_headers = ['Min Samples Split', 'Training Accuracy', 'Testing Accuracy', '# of Nodes', 'Tree Depth']\n",
    "table_results = []\n",
    "\n",
    "for v in values:\n",
    "  cars_clf = DecisionTreeClassifier(min_samples_split=v)\n",
    "  cars_clf.fit(X_train, y_train)\n",
    "  table_results.append([v, cars_clf.score(X_train, y_train), cars_clf.score(X_test, y_test), cars_clf.tree_.node_count, cars_clf.tree_.max_depth])\n",
    "\n",
    "print(tabulate(table_results, headers=table_headers, tablefmt='grid'))\n",
    "\n",
    "# min_impurity_decrease\n",
    "print('----- min_impurity_decrease -----')\n",
    "values = [0.01, 0.05, 0.5]\n",
    "\n",
    "table_headers = ['Min Impurity Decrease', 'Training Accuracy', 'Testing Accuracy', '# of Nodes', 'Tree Depth']\n",
    "table_results = []\n",
    "\n",
    "for v in values:\n",
    "  cars_clf = DecisionTreeClassifier(min_impurity_decrease=v)\n",
    "  cars_clf.fit(X_train, y_train)\n",
    "  table_results.append([v, cars_clf.score(X_train, y_train), cars_clf.score(X_test, y_test), cars_clf.tree_.node_count, cars_clf.tree_.max_depth])\n",
    "\n",
    "print(tabulate(table_results, headers=table_headers, tablefmt='grid'))\n",
    "\n",
    "# max_depth\n",
    "print('----- max_depth -----')\n",
    "values = [2, 5, 10]\n",
    "\n",
    "table_headers = ['Max Depth', 'Training Accuracy', 'Testing Accuracy', '# of Nodes', 'Tree Depth']\n",
    "table_results = []\n",
    "\n",
    "for v in values:\n",
    "  cars_clf = DecisionTreeClassifier(max_depth=v)\n",
    "  cars_clf.fit(X_train, y_train)\n",
    "  table_results.append([v, cars_clf.score(X_train, y_train), cars_clf.score(X_test, y_test), cars_clf.tree_.node_count, cars_clf.tree_.max_depth])\n",
    "\n",
    "print(tabulate(table_results, headers=table_headers, tablefmt='grid'))\n",
    "\n",
    "# max_leaf_nodes\n",
    "print('----- max_leaf_nodes -----')\n",
    "values = [5, 10, 15]\n",
    "\n",
    "table_headers = ['Max Leaf Nodes', 'Training Accuracy', 'Testing Accuracy', '# of Nodes', 'Tree Depth']\n",
    "table_results = []\n",
    "\n",
    "for v in values:\n",
    "  cars_clf = DecisionTreeClassifier(max_leaf_nodes=v)\n",
    "  cars_clf.fit(X_train, y_train)\n",
    "  table_results.append([v, cars_clf.score(X_train, y_train), cars_clf.score(X_test, y_test), cars_clf.tree_.node_count, cars_clf.tree_.max_depth])\n",
    "\n",
    "print(tabulate(table_results, headers=table_headers, tablefmt='grid'))\n",
    "\n",
    "# max_features\n",
    "print('----- max_features -----')\n",
    "values = [5, 10, 15]\n",
    "\n",
    "table_headers = ['Max Features', 'Training Accuracy', 'Testing Accuracy', '# of Nodes', 'Tree Depth']\n",
    "table_results = []\n",
    "\n",
    "for v in values:\n",
    "  cars_clf = DecisionTreeClassifier(max_features=v)\n",
    "  cars_clf.fit(X_train, y_train)\n",
    "  table_results.append([v, cars_clf.score(X_train, y_train), cars_clf.score(X_test, y_test), cars_clf.tree_.node_count, cars_clf.tree_.max_depth])\n",
    "\n",
    "print(tabulate(table_results, headers=table_headers, tablefmt='grid'))"
   ]
  },
  {
   "cell_type": "code",
   "execution_count": 115,
   "metadata": {
    "colab": {
     "base_uri": "https://localhost:8080/",
     "height": 254,
     "referenced_widgets": [
      "2965743d298f4ffab1e0c0b8152e2c8a",
      "b03dbc654d86450590a706b8b26285af",
      "a223e84ea820457eb69503cd859d1f2f",
      "066ffdcdceb94992a81cdd73aa91d2aa",
      "d424c0df4dcd4dd58225b54bf33dfb19",
      "17f9c8e55c554a39860085c6858e5b85",
      "3473df29e36f45abb599d01b324a4d1a",
      "7a969b662a4e41629765424e60f6d444",
      "3d31f683eff54674b181f8d45bd333b7",
      "0ed4a382c52c41d785d4c75af86c2499",
      "e9ba103104434e11a79b1af7ab2d0864",
      "c3550a36ec714f90bf2c38546697f15f",
      "a80a343ef05b4303925e7b08fa1e0d93",
      "eb4292734671422b9c6d72df75e25af3",
      "a23aed8f383e44deb7ea55297a9e1d1a",
      "6d2ae1e29c40479e8ea54a927ffe9db5",
      "c49aa35ed0794b6484268b9d42c484d3",
      "76579d9aacbc40998f3823ece66be559",
      "50b7d9646f81477b81fac30ea63feb89"
     ]
    },
    "id": "JJl6USmf9nzK",
    "outputId": "f7988aa7-0c79-46b2-bf63-402fbae31679"
   },
   "outputs": [
    {
     "data": {
      "application/vnd.jupyter.widget-view+json": {
       "model_id": "c1cdd1cbde464bb4b7c5de74134afc86",
       "version_major": 2,
       "version_minor": 0
      },
      "text/plain": [
       "VBox(children=(Label(value='Discuss what you learned about overfit.'), Textarea(value=\"The fully induced tree …"
      ]
     },
     "metadata": {},
     "output_type": "display_data"
    },
    {
     "data": {
      "application/vnd.jupyter.widget-view+json": {
       "model_id": "188d675ae55f48149ff6606140381ce9",
       "version_major": 2,
       "version_minor": 0
      },
      "text/plain": [
       "VBox(children=(Label(value='Were you able to find hyperparameters that achieved a higher testing accuracy than…"
      ]
     },
     "metadata": {},
     "output_type": "display_data"
    },
    {
     "data": {
      "application/vnd.jupyter.widget-view+json": {
       "model_id": "8bd142ad14454084a820e8c8bc2353fe",
       "version_major": 2,
       "version_minor": 0
      },
      "text/plain": [
       "Button(description='Save Answers', style=ButtonStyle())"
      ]
     },
     "metadata": {},
     "output_type": "display_data"
    },
    {
     "data": {
      "text/markdown": [
       "**Discuss what you learned about overfit.**\n",
       "\n",
       "The fully induced tree had a training accuracy of 1 and a testing accuracy of .945. A perfect training accuracy is often a sign of overfit, but the testing accuracy is still quite high, so the fully induced tree seems to still perform well. I learned that the more complicated the induced tree is, the more likely it is overfitting. This is because the tree becomes so fine-grained with splitting all attributes to reach any leaf node that it essentially memorizes the training data. One example of this is when using max_features = 5. In this case, the tree has 529 nodes and a depth of 14, both of which are higher than the fully induced tree's values of 161 nodes and a depth of 13. With a much more complicated tree, the training accuracy stayed at 1, but the testing accuracy dropped to .835. Another thing that I learned was that methods that attempt to reduce overfit can often lead to a slight reduction in the training accuracy in exchange for an increased testing accuracy. This makes sense because less overfit means that the model generalizes better and avoids memorizing the training data. One example of this is when using max_depth = 10. This brought the training accuracy down to .989 and the testing accuracy slightly up to .947."
      ],
      "text/plain": [
       "<IPython.core.display.Markdown object>"
      ]
     },
     "metadata": {},
     "output_type": "display_data"
    },
    {
     "data": {
      "text/markdown": [
       "**Were you able to find hyperparameters that achieved a higher testing accuracy than the fully induced tree?**\n",
       "\n",
       "The fully induced tree had a testing accuracy of .945. I discovered that using a max_depth of 10 slightly increased the testing accuracy to .947. I also discovered that using a min_samples_split of 2 also slightly increased the testing accuracy to .948. Finally, I found that setting max_features to 10 or 15 increased the testing accuracy to .957 and .954 respectively. This shows that even though the fully induced tree performed well, there may have still been slight overfit in place that was reduced further using these parameters."
      ],
      "text/plain": [
       "<IPython.core.display.Markdown object>"
      ]
     },
     "metadata": {},
     "output_type": "display_data"
    }
   ],
   "source": [
    "# @title 3.1 Discussion { display-mode: \"form\" }\n",
    "# PLEASE DO NOT ALTER THIS CODE\n",
    "if net_id == \"\":\n",
    "  raise Exception(\"You need to set your net_id, silly goose.\")\n",
    "discussion_id = \"3.1DT\"\n",
    "questions = [\"Discuss what you learned about overfit.\", \"Were you able to find hyperparameters that achieved a higher testing accuracy than the fully induced tree?\"]\n",
    "Discussion(discussion_id, questions, net_id); pass"
   ]
  },
  {
   "cell_type": "markdown",
   "metadata": {
    "id": "mgK4sxnD3veD"
   },
   "source": [
    "### 3.2 (10%) Tree Reduction\n",
    "Another approach to avoiding overfit is using pruning to reduce fully induced trees.  Induce the tree fully for Cars (no simplifying parameters such as max_depth).  Prune by setting the [ccp_alpha](https://scikit-learn.org/stable/auto_examples/tree/plot_cost_complexity_pruning.html#sphx-glr-auto-examples-tree-plot-cost-complexity-pruning-py) parameter to a positive value. This parameter controls how aggressive the pruning is. Try some small values (e.g. ,001, ,005, etc.) and try to find and report the value which works the best.  Make a table with at least 5 ccp_alpha values and for each value include\n",
    "- Training set accuracy (you chooses the size of the train/test split)\n",
    "- Test set accuracy\n",
    "- Total number of nodes (clf.tree_.node_count)\n",
    "- Maximum tree depth (clf.tree_.max_depth)"
   ]
  },
  {
   "cell_type": "code",
   "execution_count": 16,
   "metadata": {
    "id": "IKfy1RYz3veD"
   },
   "outputs": [
    {
     "name": "stdout",
     "output_type": "stream",
     "text": [
      "+-------------+---------------------+--------------------+--------------+--------------+\n",
      "|   ccp_alpha |   Training Accuracy |   Testing Accuracy |   # of Nodes |   Tree Depth |\n",
      "+=============+=====================+====================+==============+==============+\n",
      "|       0.001 |            0.98987  |           0.950867 |          115 |           12 |\n",
      "+-------------+---------------------+--------------------+--------------+--------------+\n",
      "|       0.005 |            0.929088 |           0.930636 |           37 |            8 |\n",
      "+-------------+---------------------+--------------------+--------------+--------------+\n",
      "|       0.01  |            0.899421 |           0.910405 |           27 |            8 |\n",
      "+-------------+---------------------+--------------------+--------------+--------------+\n",
      "|       0.05  |            0.77424  |           0.791908 |            5 |            2 |\n",
      "+-------------+---------------------+--------------------+--------------+--------------+\n",
      "|       0.1   |            0.703329 |           0.687861 |            1 |            0 |\n",
      "+-------------+---------------------+--------------------+--------------+--------------+\n",
      "|       0.5   |            0.703329 |           0.687861 |            1 |            0 |\n",
      "+-------------+---------------------+--------------------+--------------+--------------+\n",
      "|       1     |            0.703329 |           0.687861 |            1 |            0 |\n",
      "+-------------+---------------------+--------------------+--------------+--------------+\n"
     ]
    }
   ],
   "source": [
    "# Pruning\n",
    "\n",
    "X = cars_df.iloc[:, :-1].values\n",
    "y = np.array([x.decode('utf-8') for x in cars_df.iloc[:, -1].values])\n",
    "\n",
    "X = OneHotEncoder().fit_transform(X).toarray()\n",
    "\n",
    "X_train, X_test, y_train, y_test = train_test_split(X, y, test_size=0.2)\n",
    "\n",
    "table_headers = ['ccp_alpha', 'Training Accuracy', 'Testing Accuracy', '# of Nodes', 'Tree Depth']\n",
    "table_results = []\n",
    "\n",
    "values = [.001, .005, .01, .05, .1, .5, 1]\n",
    "\n",
    "for v in values:\n",
    "  cars_clf = DecisionTreeClassifier(ccp_alpha=v)\n",
    "  cars_clf.fit(X_train, y_train)\n",
    "  table_results.append([v, cars_clf.score(X_train, y_train), cars_clf.score(X_test, y_test), cars_clf.tree_.node_count, cars_clf.tree_.max_depth])\n",
    "\n",
    "print(tabulate(table_results, headers=table_headers, tablefmt='grid'))\n",
    "\n",
    "\n"
   ]
  },
  {
   "cell_type": "code",
   "execution_count": 114,
   "metadata": {
    "colab": {
     "base_uri": "https://localhost:8080/",
     "height": 254,
     "referenced_widgets": [
      "50eda07be98b43fe9e9e1b138212e7fc",
      "7ea4c6e331e748109de5e2f5b519f61f",
      "f084819c70ce4e16acbcba09ef44cddd",
      "abb643f883294f6c8c299cc66a7ac442",
      "64975750ca6b498a80e6649c93944517",
      "16c936e09a2d4c15a837b621f600f33d",
      "34e687ce1a294d959a8387efdb8e008a",
      "68c42583782546b1ada70a14df4c2663",
      "e5bbf1be57b045f1af8e04f5df11b356",
      "138639ae04f2426c8c14badb86176f05",
      "2ca1bd225d334fe6933028613f2d70e5",
      "937e12a1d7fc42f389604ce435d06859",
      "3e2533f3be974f058867ea5c8367aca8",
      "4cab6f150b444aa9b9f2246158e369a6",
      "9996e241ed4a4bc0843772011afb0f47",
      "77a8aeece1a84b82983bce02d458657c",
      "cd0d80446e0b4709b3dea5fbab3342c4",
      "092d1d1fcb3f4cf59a43793210705d7a",
      "f8a95a4861f346419b00d6f873d4abaf"
     ]
    },
    "id": "q-yf8ThN_QR6",
    "outputId": "237a9114-6a54-4bd7-bc7a-43633eb54be1"
   },
   "outputs": [
    {
     "data": {
      "application/vnd.jupyter.widget-view+json": {
       "model_id": "965ee4c7235547e5b3ba7d10fb4e2c84",
       "version_major": 2,
       "version_minor": 0
      },
      "text/plain": [
       "VBox(children=(Label(value='Interpret your table.'), Textarea(value='The sklearn documentation says that the g…"
      ]
     },
     "metadata": {},
     "output_type": "display_data"
    },
    {
     "data": {
      "application/vnd.jupyter.widget-view+json": {
       "model_id": "878fbbdec7fa4eab9aeddc89083ab52b",
       "version_major": 2,
       "version_minor": 0
      },
      "text/plain": [
       "VBox(children=(Label(value='Which ccp_alpha value achieved the best testing accuracy?'), Textarea(value='The c…"
      ]
     },
     "metadata": {},
     "output_type": "display_data"
    },
    {
     "data": {
      "application/vnd.jupyter.widget-view+json": {
       "model_id": "b8a38083ac6341e4821e4f30cdb70e4e",
       "version_major": 2,
       "version_minor": 0
      },
      "text/plain": [
       "Button(description='Save Answers', style=ButtonStyle())"
      ]
     },
     "metadata": {},
     "output_type": "display_data"
    },
    {
     "data": {
      "text/markdown": [
       "**Interpret your table.**\n",
       "\n",
       "The sklearn documentation says that the greater the ccp_alpha parameter is, the more nodes will be pruned from the tree. I experimented with ccp_alpha values from .001 to 1. What I discovered was that the more I increased ccp_alpha, the more nodes that were pruned (which matches the docs) and the worse both the training and testing accuracies got. ccp_alpha values of .1 and above actually pruned the entire tree so that there was only 1 root node and no splitting. To me, this shows that for this dataset, pruning is not helpful in reducing overfit, because the resulting tree does not help increase testing accuracies; rather, it does the opposite. "
      ],
      "text/plain": [
       "<IPython.core.display.Markdown object>"
      ]
     },
     "metadata": {},
     "output_type": "display_data"
    },
    {
     "data": {
      "text/markdown": [
       "**Which ccp_alpha value achieved the best testing accuracy?**\n",
       "\n",
       "The ccp_value that achieved the best testing accuracy was .001. This actually did slightly help the testing accuracies. From 3.1, the fully induced tree had 161 nodes and a testing accuracy of .945. Using ccp_value of .001, the resulting tree contained 115 nodes and a testing accuracy of .951. The training accuracy also slightly decreased from 1 to .989. This means that using a very low ccp_alpha helped reduce the slight overfit in the fully induced tree. Higher ccp_alpha values were overkill and pruned the tree too much to be considered effective."
      ],
      "text/plain": [
       "<IPython.core.display.Markdown object>"
      ]
     },
     "metadata": {},
     "output_type": "display_data"
    }
   ],
   "source": [
    "# @title 3.2 Discussion { display-mode: \"form\" }\n",
    "# PLEASE DO NOT ALTER THIS CODE\n",
    "if net_id == \"\":\n",
    "  raise Exception(\"You need to set your net_id, silly goose.\")\n",
    "discussion_id = \"3.2DT\"\n",
    "questions = [\"Interpret your table.\", \"Which ccp_alpha value achieved the best testing accuracy?\"]\n",
    "Discussion(discussion_id, questions, net_id); pass"
   ]
  },
  {
   "cell_type": "markdown",
   "metadata": {
    "id": "XvlPgD-g3veD"
   },
   "source": [
    "## 4. Decision Tree Regression\n",
    "### 4.1 (15%) Learn a real-world regression data set of your choice (not already used in this or previous labs)\n",
    "- Report tree statistics (# of nodes, # of leaf nodes, max depth)\n",
    "- Report MAE on the training and test set (you choose the size of the train/test split)\n",
    "- Report the DT regressor score for the training and test set.  Note that for the DT regressor this score is the coefficient of determination. Google it if you are curious."
   ]
  },
  {
   "cell_type": "code",
   "execution_count": 20,
   "metadata": {
    "id": "lhkcCvTK3veD"
   },
   "outputs": [
    {
     "name": "stdout",
     "output_type": "stream",
     "text": [
      "------- Tree Statistics ------\n",
      "# of Nodes: 365\n",
      "# of leaf nodes: 183\n",
      "Tree Depth: 19\n",
      "------- MAE and DT Regressor Score ------\n",
      "Training MAE: 0.0\n",
      "Testing MAE: 3.0652173913043477\n",
      "Training DT Regressor Score: 1.0\n",
      "Testing DT Regressor Score: -0.22273468301365762\n",
      "----- .01 min_impurity_decrease, 3 min_samples_leaf -----\n",
      "------- Tree Statistics ------\n",
      "# of Nodes: 37\n",
      "# of leaf nodes: 19\n",
      "Tree Depth: 5\n",
      "------- MAE and DT Regressor Score ------\n",
      "Training MAE: 1.8881565122644584\n",
      "Testing MAE: 2.4082334019532086\n",
      "Training DT Regressor Score: 0.46313302597675887\n",
      "Testing DT Regressor Score: 0.15514426166301543\n"
     ]
    }
   ],
   "source": [
    "#Learn regression data set\n",
    "from sklearn.tree import DecisionTreeRegressor\n",
    "from sklearn.metrics import mean_absolute_error\n",
    "from ucimlrepo import fetch_ucirepo \n",
    "  \n",
    "# fetch dataset \n",
    "liver_disorders = fetch_ucirepo(id=60) \n",
    "  \n",
    "# data (as pandas dataframes) \n",
    "X = liver_disorders.data.features\n",
    "y = liver_disorders.data.targets\n",
    "\n",
    "X_train, X_test, y_train, y_test = train_test_split(X, y, test_size=0.2)\n",
    "\n",
    "# defaults\n",
    "regressor = DecisionTreeRegressor()\n",
    "regressor.fit(X_train, y_train)\n",
    "print('------- Tree Statistics ------')\n",
    "print('# of Nodes:', regressor.tree_.node_count)\n",
    "print('# of leaf nodes:', regressor.tree_.n_leaves)\n",
    "print('Tree Depth:', regressor.tree_.max_depth)\n",
    "print('------- MAE and DT Regressor Score ------')\n",
    "print('Training MAE:', mean_absolute_error(y_train, regressor.predict(X_train)))\n",
    "print('Testing MAE:', mean_absolute_error(y_test, regressor.predict(X_test)))\n",
    "print('Training DT Regressor Score:', regressor.score(X_train, y_train))\n",
    "print('Testing DT Regressor Score:', regressor.score(X_test, y_test))\n",
    "\n",
    "# .02 min_impurity_decrease, 5 min_samples_leaf, max_depth=5\n",
    "print('----- .02 min_impurity_decrease, 5 min_samples_leaf, max_depth=5 -----')\n",
    "regressor = DecisionTreeRegressor(min_impurity_decrease=.02, min_samples_leaf=5, max_depth=5)\n",
    "regressor.fit(X_train, y_train)\n",
    "print('------- Tree Statistics ------')\n",
    "print('# of Nodes:', regressor.tree_.node_count)\n",
    "print('# of leaf nodes:', regressor.tree_.n_leaves)\n",
    "print('Tree Depth:', regressor.tree_.max_depth)\n",
    "print('------- MAE and DT Regressor Score ------')\n",
    "print('Training MAE:', mean_absolute_error(y_train, regressor.predict(X_train)))\n",
    "print('Testing MAE:', mean_absolute_error(y_test, regressor.predict(X_test)))\n",
    "print('Training DT Regressor Score:', regressor.score(X_train, y_train))\n",
    "print('Testing DT Regressor Score:', regressor.score(X_test, y_test))\n"
   ]
  },
  {
   "cell_type": "code",
   "execution_count": 113,
   "metadata": {
    "colab": {
     "base_uri": "https://localhost:8080/",
     "height": 254,
     "referenced_widgets": [
      "2f97ae0a4e6441c9b80de665838c2519",
      "a228cb836d394a93a0ff249263f1457b",
      "31a01a39e4a34e9298e30ff357ca2e85",
      "f3838589770045929d1f19b05c37303e",
      "0896e16c91ef40038398e48042f3e898",
      "c9ddee44549d44febad221e40bff353b",
      "c1e1d6f4ed0544dfb245c86d82d4e805",
      "fd0dc2129eee436ca222107914ff133e",
      "23e3f47aaa2a4707895827904329aa42",
      "e5944f0553bc4dc2beeef74b5c6d2f0d",
      "cef36abd312a4dedbc92ddb2b1dcb0c3",
      "99c087d22d8c440a9a04f9b1c0eae37d",
      "f08c1d6ee70d4096a77fe9b563ae7dc4",
      "f5ed89a6a3eb42ea8418bf71b534864f",
      "a9d7bb2adcae4c218fa402b1513e1017",
      "19f16f0d90ce4f7dabe188323fb9f1d0",
      "9dba10fab70f488383575f5c2dc591ca",
      "dc36366200d649c2b6525454a1ca53f3",
      "455d543414bb407f80fc68d7012667b4"
     ]
    },
    "id": "x_QKwReM_3ki",
    "outputId": "09cec6c5-9cc7-46e4-9a1e-0769d19dbaf6"
   },
   "outputs": [
    {
     "data": {
      "application/vnd.jupyter.widget-view+json": {
       "model_id": "faecd7f96794488b89980621e776f06f",
       "version_major": 2,
       "version_minor": 0
      },
      "text/plain": [
       "VBox(children=(Label(value='Discuss your general findings.'), Textarea(value='I ran an initial regression with…"
      ]
     },
     "metadata": {},
     "output_type": "display_data"
    },
    {
     "data": {
      "application/vnd.jupyter.widget-view+json": {
       "model_id": "9450993073f24bdc95d98c79e94b0341",
       "version_major": 2,
       "version_minor": 0
      },
      "text/plain": [
       "VBox(children=(Label(value='Did you adjust any hyperparameters to achieve a greater testing accuracy?'), Texta…"
      ]
     },
     "metadata": {},
     "output_type": "display_data"
    },
    {
     "data": {
      "application/vnd.jupyter.widget-view+json": {
       "model_id": "bb5f195d785a44f396fb507520849d4f",
       "version_major": 2,
       "version_minor": 0
      },
      "text/plain": [
       "Button(description='Save Answers', style=ButtonStyle())"
      ]
     },
     "metadata": {},
     "output_type": "display_data"
    },
    {
     "data": {
      "text/markdown": [
       "**Discuss your general findings.**\n",
       "\n",
       "I ran an initial regression with all default hyperparameters. The resulting tree had 365 nodes and a depth of 19. The training MAE was 0 (perfect) and the training regressor score was 1.0 (perfect). All of these are a serious sign of overfit, which can be seen because the testing regressor score was -.222, which is very bad (A regressor score of 0 happens when the model just outputs the expected value of the targets every time, so negative values are even worse). This model has completely memorized the training data and is not generalizing at all. "
      ],
      "text/plain": [
       "<IPython.core.display.Markdown object>"
      ]
     },
     "metadata": {},
     "output_type": "display_data"
    },
    {
     "data": {
      "text/markdown": [
       "**Did you adjust any hyperparameters to achieve a greater testing accuracy?**\n",
       "\n",
       "To address the overfit, I set min_impurity_decrease to .02, min_sample_leafs to 5, and max_depth to 5. Using these hyperparameters, I had moderate success. The number nodes dropped to 37 and the treed depth dropped to 5, meaning the tree got much simpler. The testing MAE dropped from 3.07 to 2.41, and the testing regressor score increased from -.222 to .155. This means that the model is not overfitting, however, it is still not scoring very well. I believe that is because the dataset is too small. There are only 345 instances in the dataset, which is likely why it completely overfit initially. Even when using hyperparameters to reduce overfit, there is probably not enough data for the model to become robust and generalize well."
      ],
      "text/plain": [
       "<IPython.core.display.Markdown object>"
      ]
     },
     "metadata": {},
     "output_type": "display_data"
    }
   ],
   "source": [
    "# @title 4.1 Discussion { display-mode: \"form\" }\n",
    "# PLEASE DO NOT ALTER THIS CODE\n",
    "if net_id == \"\":\n",
    "  raise Exception(\"You need to set your net_id, silly goose.\")\n",
    "discussion_id = \"4.1DT\"\n",
    "questions = [\"Discuss your general findings.\", \"Did you adjust any hyperparameters to achieve a greater testing accuracy?\"]\n",
    "Discussion(discussion_id, questions, net_id); pass"
   ]
  },
  {
   "cell_type": "markdown",
   "metadata": {
    "id": "WIMfgjUn3veD"
   },
   "source": [
    "## 5. (Optional 15% extra credit) Code up your own C4.5 Decision Tree Learner\n",
    "Implement the C4.5 algorithm discussed in class and in the slides, NOT the CART algorithm.  Below is a scaffold you could use if you want. Requirements for this task:\n",
    "- Your model should support the methods shown in the example scaffold below.\n",
    "- Use standard information gain as your basic attribute evaluation metric.  Note that C4.5 would usually augment information gain with a mechanism to penalize statistically insignificant attribute splits to avoid overfit (e.g. early stopping, gain ratio, etc.), but you are not required to do that.\n",
    "- Include the ability to handle unknown attributes by making \"unknown\" a new attribute value when needed.\n",
    "- You do not need to handle real valued attributes.\n",
    "- It is a good idea to use simple data set (like the pizza homework), which you can check by hand, to test each detailed step of your algorithm to make sure it works correctly.\n",
    "- Run your algorithm on the voting data set above with unknown attributes and compare your results with CART."
   ]
  },
  {
   "cell_type": "code",
   "execution_count": 112,
   "metadata": {
    "colab": {
     "base_uri": "https://localhost:8080/",
     "height": 154,
     "referenced_widgets": [
      "591496cbb48349638ced12aa3ece037d",
      "db4f1f05404d4ac688f20100c095af53",
      "b323c76b0a8f41109a233d84793ead88",
      "3fc84f41b73545a3b06389a1c841ec0a",
      "3ef33f11936c4baf9b4d8ddf02df5eff",
      "eaf35a2111b34e7ab9be5094d7b09ed9",
      "0bd08490500c41e4ae2b682a1ddd232d",
      "ecfe341cc8a74b46a9c889647f2f9ac8",
      "1d184511a9ad48ef8b915ac5b41c16f5",
      "26dace420e0246d3bfc96996d1f1eccb",
      "55e21210a4d2457b860ff335cca03aaa"
     ]
    },
    "id": "W42hEzb-AmBW",
    "outputId": "68a0d15e-9c12-4070-dc3c-f8aa285f5e38"
   },
   "outputs": [
    {
     "data": {
      "application/vnd.jupyter.widget-view+json": {
       "model_id": "6027c05c8f384927934151fd11af7747",
       "version_major": 2,
       "version_minor": 0
      },
      "text/plain": [
       "VBox(children=(Label(value='Include a general discussion about what you did/learned by implementing your own C…"
      ]
     },
     "metadata": {},
     "output_type": "display_data"
    },
    {
     "data": {
      "application/vnd.jupyter.widget-view+json": {
       "model_id": "9936005e983d4c9dad9408ac936e5506",
       "version_major": 2,
       "version_minor": 0
      },
      "text/plain": [
       "Button(description='Save Answers', style=ButtonStyle())"
      ]
     },
     "metadata": {},
     "output_type": "display_data"
    },
    {
     "data": {
      "text/markdown": [
       "**Include a general discussion about what you did/learned by implementing your own C4.5 Decission Tree.**\n",
       "\n",
       "I implemented my own C4.5 decision tree. By doing so, I got much more comfortable with entropy, information gain, and other concepts of decision trees. One thing that was tough for me was the fact that the child nodes needed to hold that value that the parent node was splitting on. That was tough to work around, but it became much easier when I worked through the pizza dataset by hand again. My implementation did not work as well as sklearn's implementation. On the voting dataset, sklearn achieved a training accuracy of 1.0 and a testing accuracy of .908. My implementation achieved a training accuracy of .624 and a testing accuracy of .575. Clearly my model did worse. One hypothesis of mine of the difference was is that it is due to the fact that sklearn's model uses the CART algorithm and mine uses the C4.5 algorithm. However, I don't think that that would contribute solely towards the large discrepancy in accuracy scores because as we talked about in class, both algorithms have been benchmarked against each other and tend to perform similarly. Another hypothesis of mine is that there is a small flaw in the logic of my model. My model only achieved an accuracy score of .444 on the test pizza dataset. For such a small dataset, I thought that the model should have memorized the input data perfectly and achieved a perfect accuracy score. Because that didn't happen, I believe there may be a flaw in my model. However, I still feel like I learned a lot about decision trees through the process."
      ],
      "text/plain": [
       "<IPython.core.display.Markdown object>"
      ]
     },
     "metadata": {},
     "output_type": "display_data"
    }
   ],
   "source": [
    "# @title 5.0 Discussion { display-mode: \"form\" }\n",
    "# PLEASE DO NOT ALTER THIS CODE\n",
    "if net_id == \"\":\n",
    "  raise Exception(\"You need to set your net_id, silly goose.\")\n",
    "discussion_id = \"5.0DT\"\n",
    "questions = [\"Include a general discussion about what you did/learned by implementing your own C4.5 Decission Tree.\"]\n",
    "Discussion(discussion_id, questions, net_id); pass"
   ]
  },
  {
   "cell_type": "code",
   "execution_count": 102,
   "metadata": {},
   "outputs": [],
   "source": [
    "from sklearn.base import BaseEstimator, ClassifierMixin\n",
    "import numpy as np\n",
    "\n",
    "# Node for the decision tree\n",
    "class Node():\n",
    "    def __init__(self, feature_index=None, value=None, class_value=None, children=[], is_leaf=False):\n",
    "        self.feature_index = feature_index # index of feature to split on\n",
    "        self.value = value  # value of parent's feature\n",
    "        self.children = children # list of children nodes (one for each unique value of feature)\n",
    "        self.class_value = class_value # class value if node is a leaf\n",
    "        self.is_leaf = is_leaf # is node a leaf\n",
    "\n",
    "\n",
    "class DTClassifier(BaseEstimator, ClassifierMixin):\n",
    "\n",
    "    def __init__(self, counts=None):\n",
    "        \"\"\" Initialize class with chosen hyperparameters.\n",
    "        Args:\n",
    "        Optional Args (Args we think will make your life easier):\n",
    "            counts: A list of Ints that tell you how many types of each feature there are\n",
    "        Example:\n",
    "            DT  = DTClassifier()\n",
    "            or\n",
    "            DT = DTClassifier(counts=[2,3,2,2])\n",
    "            Dataset =\n",
    "            [[0,1,0,0],\n",
    "            [1,2,1,1],\n",
    "            [0,1,1,0],\n",
    "            [1,2,0,1],\n",
    "            [0,0,1,1]]\n",
    "\n",
    "        \"\"\"\n",
    "        self.counts = counts\n",
    "\n",
    "    def fit(self, X, y):\n",
    "        \"\"\" Fit the data; Make the Decision tree\n",
    "\n",
    "        Args:\n",
    "            X (array-like): A 2D numpy array with the training data, excluding targets\n",
    "            y (array-like): A 1D numpy array with the training targets\n",
    "\n",
    "        Returns:\n",
    "            self: this allows this to be chained, e.g. model.fit(X,y).predict(X_test)\n",
    "\n",
    "        \"\"\"\n",
    "        self.tree = self._build_tree(X, y)\n",
    "        return self\n",
    "\n",
    "    def _calculate_entropy(self, y):\n",
    "        def num_items_in_arr(arr, item):\n",
    "            return len([i for i in arr if i == item])\n",
    "        \n",
    "        classes = np.unique(y)\n",
    "        entropy = 0\n",
    "        for cls in classes:\n",
    "            prob_of_class = num_items_in_arr(y, cls) / len(y)\n",
    "            entropy += prob_of_class * np.log2(prob_of_class)\n",
    "        return (entropy * -1)\n",
    "\n",
    "    def _calculate_information_gain(self, X, y, feature_index):\n",
    "        parent_entropy = self._calculate_entropy(y) # entropy of entire feature\n",
    "\n",
    "        values = np.unique(X[:, feature_index]) # unique values of feature\n",
    "        entropy_after_split = 0\n",
    "        for value in values:\n",
    "            subset_y = y[X[:, feature_index] == value]\n",
    "            entropy_after_split += ((len(subset_y) / len(y)) * self._calculate_entropy(subset_y))\n",
    "        information_gain = parent_entropy - entropy_after_split\n",
    "        return information_gain\n",
    "\n",
    "    # choose the feature that maximizes information gain\n",
    "    def _choose_best_feature(self, X, y, already_chosen_feature_indices=[]):\n",
    "        best_feature = None\n",
    "        best_information_gain = -1\n",
    "        for i in range(X.shape[1]):\n",
    "            if i in already_chosen_feature_indices:\n",
    "                continue\n",
    "            information_gain = self._calculate_information_gain(X, y, i)\n",
    "            if information_gain > best_information_gain:\n",
    "                best_information_gain = information_gain\n",
    "                best_feature = i\n",
    "        return best_feature\n",
    "\n",
    "    # X is current feature set, y is current target set, value is the value of the parent's feature\n",
    "    def _build_tree(self, X, y, value=None, already_chosen_feature_indices=[]):\n",
    "        if len(np.unique(y)) == 1: # pure node\n",
    "            return Node(class_value=y[0], is_leaf=True, value=value)\n",
    "        \n",
    "        if len(X[0]) == 0: # no features left\n",
    "            return Node(class_value=np.bincount(y).argmax(), is_leaf=True, value=value)\n",
    "        \n",
    "        best_feature_index = self._choose_best_feature(X, y, already_chosen_feature_indices)\n",
    "\n",
    "        if best_feature_index is None:\n",
    "            return Node(class_value=np.bincount(y).argmax(), is_leaf=True, value=value)\n",
    "\n",
    "        already_chosen_feature_indices.append(best_feature_index)\n",
    "\n",
    "        curr = Node(feature_index=best_feature_index, value=value, children=[])\n",
    "\n",
    "        for val in np.unique(X[:, best_feature_index]):\n",
    "            subset_X = X[X[:, best_feature_index] == val]\n",
    "            subset_y = y[X[:, best_feature_index] == val]\n",
    "\n",
    "            curr.children.append(self._build_tree(subset_X, subset_y, val, already_chosen_feature_indices))\n",
    "\n",
    "        return curr\n",
    "\n",
    "\n",
    "\n",
    "    def _classify_instance(self, instance, currNode):\n",
    "        if currNode.is_leaf:\n",
    "            return currNode.class_value\n",
    "        \n",
    "        print(currNode.feature_index)\n",
    "        \n",
    "        feature_index = currNode.feature_index\n",
    "\n",
    "        value = instance[feature_index]\n",
    "\n",
    "        child_to_traverse = None\n",
    "        for child in currNode.children:\n",
    "            if value == child.value:\n",
    "                child_to_traverse = child\n",
    "\n",
    "        return self._classify_instance(instance, child_to_traverse)\n",
    "\n",
    "    def predict(self, X):\n",
    "        \"\"\" Predict all classes for a dataset X\n",
    "\n",
    "        Args:\n",
    "            X (array-like): A 2D numpy array with the training data, excluding targets\n",
    "\n",
    "        Returns:\n",
    "            array, shape (n_samples,)\n",
    "                Predicted target values per element in X.\n",
    "        \"\"\"\n",
    "\n",
    "        predictions = []\n",
    "        for instance in X:\n",
    "            predictions.append(self._classify_instance(instance, self.tree))\n",
    "        \n",
    "        return np.array(predictions)\n",
    "\n",
    "    def score(self, X, y):\n",
    "        \"\"\" Return accuracy(Classification Acc) of model on a given dataset. Must implement own score function.\n",
    "\n",
    "        Args:\n",
    "            X (array-like): A 2D numpy array with data, excluding targets\n",
    "            y (array-like): A 1D numpy array of the targets\n",
    "        \"\"\"\n",
    "        y_pred = self.predict(X)\n",
    "        return np.mean(y_pred == y)\n"
   ]
  },
  {
   "cell_type": "code",
   "execution_count": 107,
   "metadata": {},
   "outputs": [
    {
     "data": {
      "text/plain": [
       "0.4444444444444444"
      ]
     },
     "execution_count": 107,
     "metadata": {},
     "output_type": "execute_result"
    }
   ],
   "source": [
    "# Optional Debugging Dataset - Pizza Homework\n",
    "pizza_dataset = np.array([[1,2,0],[0,0,0],[0,1,1],[1,1,1],[1,0,0],[1,0,1],[0,2,1],[1,0,0],[0,2,0]])\n",
    "pizza_labels = np.array([2,0,1,2,1,2,1,1,0])\n",
    "\n",
    "clf = DTClassifier(counts=0)\n",
    "\n",
    "clf.fit(pizza_dataset, pizza_labels)\n",
    "clf.score(pizza_dataset, pizza_labels)"
   ]
  },
  {
   "cell_type": "code",
   "execution_count": 111,
   "metadata": {},
   "outputs": [
    {
     "name": "stdout",
     "output_type": "stream",
     "text": [
      "Training Accuracy: 0.6235632183908046\n",
      "Testing Accuracy: 0.5747126436781609\n"
     ]
    }
   ],
   "source": [
    "X = voting_df.iloc[:, :-1].values\n",
    "y = np.array([x.decode('utf-8') for x in voting_df.iloc[:, -1].values])\n",
    "\n",
    "X = OneHotEncoder().fit_transform(X).toarray()\n",
    "\n",
    "y = [0 if x == 'republican' else 1 for x in y]\n",
    "\n",
    "clf = DTClassifier()\n",
    "\n",
    "X_train, X_test, y_train, y_test = train_test_split(X, y, test_size=0.2)\n",
    "\n",
    "clf.fit(X_train, y_train)\n",
    "print('Training Accuracy:', clf.score(X_train, y_train))\n",
    "print('Testing Accuracy:', clf.score(X_test, y_test))"
   ]
  }
 ],
 "metadata": {
  "colab": {
   "provenance": []
  },
  "kernelspec": {
   "display_name": "Python 3 (ipykernel)",
   "language": "python",
   "name": "python3"
  },
  "language_info": {
   "codemirror_mode": {
    "name": "ipython",
    "version": 3
   },
   "file_extension": ".py",
   "mimetype": "text/x-python",
   "name": "python",
   "nbconvert_exporter": "python",
   "pygments_lexer": "ipython3",
   "version": "3.12.0"
  },
  "vscode": {
   "interpreter": {
    "hash": "cf8c9878be96b81c1c8fce57c4415443b48baf3df3953f8cea607d661f4cb93b"
   }
  },
  "widgets": {
   "application/vnd.jupyter.widget-state+json": {
    "00212f22131c4afa8ae8744aa6894455": {
     "model_module": "@jupyter-widgets/controls",
     "model_module_version": "1.5.0",
     "model_name": "TextareaModel",
     "state": {
      "_dom_classes": [],
      "_model_module": "@jupyter-widgets/controls",
      "_model_module_version": "1.5.0",
      "_model_name": "TextareaModel",
      "_view_count": null,
      "_view_module": "@jupyter-widgets/controls",
      "_view_module_version": "1.5.0",
      "_view_name": "TextareaView",
      "continuous_update": true,
      "description": "",
      "description_tooltip": null,
      "disabled": false,
      "layout": "IPY_MODEL_3abeb3efdc9d4c008b71c2c44178c769",
      "placeholder": "​",
      "rows": 2,
      "style": "IPY_MODEL_38efaf0c3c5e453f88a808f919f4b82c",
      "value": ""
     }
    },
    "00a3f214fb4746d7b1bb8e4fd6231fe6": {
     "model_module": "@jupyter-widgets/base",
     "model_module_version": "1.2.0",
     "model_name": "LayoutModel",
     "state": {
      "_model_module": "@jupyter-widgets/base",
      "_model_module_version": "1.2.0",
      "_model_name": "LayoutModel",
      "_view_count": null,
      "_view_module": "@jupyter-widgets/base",
      "_view_module_version": "1.2.0",
      "_view_name": "LayoutView",
      "align_content": null,
      "align_items": null,
      "align_self": null,
      "border": null,
      "bottom": null,
      "display": null,
      "flex": null,
      "flex_flow": null,
      "grid_area": null,
      "grid_auto_columns": null,
      "grid_auto_flow": null,
      "grid_auto_rows": null,
      "grid_column": null,
      "grid_gap": null,
      "grid_row": null,
      "grid_template_areas": null,
      "grid_template_columns": null,
      "grid_template_rows": null,
      "height": null,
      "justify_content": null,
      "justify_items": null,
      "left": null,
      "margin": null,
      "max_height": null,
      "max_width": null,
      "min_height": null,
      "min_width": null,
      "object_fit": null,
      "object_position": null,
      "order": null,
      "overflow": null,
      "overflow_x": null,
      "overflow_y": null,
      "padding": null,
      "right": null,
      "top": null,
      "visibility": null,
      "width": null
     }
    },
    "01e21456baf5409ea13e3221408dd778": {
     "model_module": "@jupyter-widgets/base",
     "model_module_version": "1.2.0",
     "model_name": "LayoutModel",
     "state": {
      "_model_module": "@jupyter-widgets/base",
      "_model_module_version": "1.2.0",
      "_model_name": "LayoutModel",
      "_view_count": null,
      "_view_module": "@jupyter-widgets/base",
      "_view_module_version": "1.2.0",
      "_view_name": "LayoutView",
      "align_content": null,
      "align_items": null,
      "align_self": null,
      "border": null,
      "bottom": null,
      "display": null,
      "flex": null,
      "flex_flow": null,
      "grid_area": null,
      "grid_auto_columns": null,
      "grid_auto_flow": null,
      "grid_auto_rows": null,
      "grid_column": null,
      "grid_gap": null,
      "grid_row": null,
      "grid_template_areas": null,
      "grid_template_columns": null,
      "grid_template_rows": null,
      "height": null,
      "justify_content": null,
      "justify_items": null,
      "left": null,
      "margin": null,
      "max_height": null,
      "max_width": null,
      "min_height": null,
      "min_width": null,
      "object_fit": null,
      "object_position": null,
      "order": null,
      "overflow": null,
      "overflow_x": null,
      "overflow_y": null,
      "padding": null,
      "right": null,
      "top": null,
      "visibility": null,
      "width": null
     }
    },
    "01eb9f0e42624f2eb44acf9420f7b219": {
     "model_module": "@jupyter-widgets/base",
     "model_module_version": "1.2.0",
     "model_name": "LayoutModel",
     "state": {
      "_model_module": "@jupyter-widgets/base",
      "_model_module_version": "1.2.0",
      "_model_name": "LayoutModel",
      "_view_count": null,
      "_view_module": "@jupyter-widgets/base",
      "_view_module_version": "1.2.0",
      "_view_name": "LayoutView",
      "align_content": null,
      "align_items": null,
      "align_self": null,
      "border": null,
      "bottom": null,
      "display": null,
      "flex": null,
      "flex_flow": null,
      "grid_area": null,
      "grid_auto_columns": null,
      "grid_auto_flow": null,
      "grid_auto_rows": null,
      "grid_column": null,
      "grid_gap": null,
      "grid_row": null,
      "grid_template_areas": null,
      "grid_template_columns": null,
      "grid_template_rows": null,
      "height": null,
      "justify_content": null,
      "justify_items": null,
      "left": null,
      "margin": null,
      "max_height": null,
      "max_width": null,
      "min_height": null,
      "min_width": null,
      "object_fit": null,
      "object_position": null,
      "order": null,
      "overflow": null,
      "overflow_x": null,
      "overflow_y": null,
      "padding": null,
      "right": null,
      "top": null,
      "visibility": null,
      "width": "99%"
     }
    },
    "066ffdcdceb94992a81cdd73aa91d2aa": {
     "model_module": "@jupyter-widgets/base",
     "model_module_version": "1.2.0",
     "model_name": "LayoutModel",
     "state": {
      "_model_module": "@jupyter-widgets/base",
      "_model_module_version": "1.2.0",
      "_model_name": "LayoutModel",
      "_view_count": null,
      "_view_module": "@jupyter-widgets/base",
      "_view_module_version": "1.2.0",
      "_view_name": "LayoutView",
      "align_content": null,
      "align_items": null,
      "align_self": null,
      "border": null,
      "bottom": null,
      "display": null,
      "flex": null,
      "flex_flow": null,
      "grid_area": null,
      "grid_auto_columns": null,
      "grid_auto_flow": null,
      "grid_auto_rows": null,
      "grid_column": null,
      "grid_gap": null,
      "grid_row": null,
      "grid_template_areas": null,
      "grid_template_columns": null,
      "grid_template_rows": null,
      "height": null,
      "justify_content": null,
      "justify_items": null,
      "left": null,
      "margin": null,
      "max_height": null,
      "max_width": null,
      "min_height": null,
      "min_width": null,
      "object_fit": null,
      "object_position": null,
      "order": null,
      "overflow": null,
      "overflow_x": null,
      "overflow_y": null,
      "padding": null,
      "right": null,
      "top": null,
      "visibility": null,
      "width": null
     }
    },
    "086682738ed742b083b761f65093a1c3": {
     "model_module": "@jupyter-widgets/controls",
     "model_module_version": "1.5.0",
     "model_name": "VBoxModel",
     "state": {
      "_dom_classes": [],
      "_model_module": "@jupyter-widgets/controls",
      "_model_module_version": "1.5.0",
      "_model_name": "VBoxModel",
      "_view_count": null,
      "_view_module": "@jupyter-widgets/controls",
      "_view_module_version": "1.5.0",
      "_view_name": "VBoxView",
      "box_style": "",
      "children": [
       "IPY_MODEL_a201e11aab804cb588bbc8f7d99840a2",
       "IPY_MODEL_266b04341cfb4ecfba3e698915999002"
      ],
      "layout": "IPY_MODEL_2f33ebf38c6d4f819a18086a1c8f13e4"
     }
    },
    "0896e16c91ef40038398e48042f3e898": {
     "model_module": "@jupyter-widgets/base",
     "model_module_version": "1.2.0",
     "model_name": "LayoutModel",
     "state": {
      "_model_module": "@jupyter-widgets/base",
      "_model_module_version": "1.2.0",
      "_model_name": "LayoutModel",
      "_view_count": null,
      "_view_module": "@jupyter-widgets/base",
      "_view_module_version": "1.2.0",
      "_view_name": "LayoutView",
      "align_content": null,
      "align_items": null,
      "align_self": null,
      "border": null,
      "bottom": null,
      "display": null,
      "flex": null,
      "flex_flow": null,
      "grid_area": null,
      "grid_auto_columns": null,
      "grid_auto_flow": null,
      "grid_auto_rows": null,
      "grid_column": null,
      "grid_gap": null,
      "grid_row": null,
      "grid_template_areas": null,
      "grid_template_columns": null,
      "grid_template_rows": null,
      "height": null,
      "justify_content": null,
      "justify_items": null,
      "left": null,
      "margin": null,
      "max_height": null,
      "max_width": null,
      "min_height": null,
      "min_width": null,
      "object_fit": null,
      "object_position": null,
      "order": null,
      "overflow": null,
      "overflow_x": null,
      "overflow_y": null,
      "padding": null,
      "right": null,
      "top": null,
      "visibility": null,
      "width": null
     }
    },
    "092d1d1fcb3f4cf59a43793210705d7a": {
     "model_module": "@jupyter-widgets/base",
     "model_module_version": "1.2.0",
     "model_name": "LayoutModel",
     "state": {
      "_model_module": "@jupyter-widgets/base",
      "_model_module_version": "1.2.0",
      "_model_name": "LayoutModel",
      "_view_count": null,
      "_view_module": "@jupyter-widgets/base",
      "_view_module_version": "1.2.0",
      "_view_name": "LayoutView",
      "align_content": null,
      "align_items": null,
      "align_self": null,
      "border": null,
      "bottom": null,
      "display": null,
      "flex": null,
      "flex_flow": null,
      "grid_area": null,
      "grid_auto_columns": null,
      "grid_auto_flow": null,
      "grid_auto_rows": null,
      "grid_column": null,
      "grid_gap": null,
      "grid_row": null,
      "grid_template_areas": null,
      "grid_template_columns": null,
      "grid_template_rows": null,
      "height": null,
      "justify_content": null,
      "justify_items": null,
      "left": null,
      "margin": null,
      "max_height": null,
      "max_width": null,
      "min_height": null,
      "min_width": null,
      "object_fit": null,
      "object_position": null,
      "order": null,
      "overflow": null,
      "overflow_x": null,
      "overflow_y": null,
      "padding": null,
      "right": null,
      "top": null,
      "visibility": null,
      "width": null
     }
    },
    "0bd08490500c41e4ae2b682a1ddd232d": {
     "model_module": "@jupyter-widgets/base",
     "model_module_version": "1.2.0",
     "model_name": "LayoutModel",
     "state": {
      "_model_module": "@jupyter-widgets/base",
      "_model_module_version": "1.2.0",
      "_model_name": "LayoutModel",
      "_view_count": null,
      "_view_module": "@jupyter-widgets/base",
      "_view_module_version": "1.2.0",
      "_view_name": "LayoutView",
      "align_content": null,
      "align_items": null,
      "align_self": null,
      "border": null,
      "bottom": null,
      "display": null,
      "flex": null,
      "flex_flow": null,
      "grid_area": null,
      "grid_auto_columns": null,
      "grid_auto_flow": null,
      "grid_auto_rows": null,
      "grid_column": null,
      "grid_gap": null,
      "grid_row": null,
      "grid_template_areas": null,
      "grid_template_columns": null,
      "grid_template_rows": null,
      "height": null,
      "justify_content": null,
      "justify_items": null,
      "left": null,
      "margin": null,
      "max_height": null,
      "max_width": null,
      "min_height": null,
      "min_width": null,
      "object_fit": null,
      "object_position": null,
      "order": null,
      "overflow": null,
      "overflow_x": null,
      "overflow_y": null,
      "padding": null,
      "right": null,
      "top": null,
      "visibility": null,
      "width": "99%"
     }
    },
    "0d755b41f3f94910bc9fff8b4ac40ea0": {
     "model_module": "@jupyter-widgets/base",
     "model_module_version": "1.2.0",
     "model_name": "LayoutModel",
     "state": {
      "_model_module": "@jupyter-widgets/base",
      "_model_module_version": "1.2.0",
      "_model_name": "LayoutModel",
      "_view_count": null,
      "_view_module": "@jupyter-widgets/base",
      "_view_module_version": "1.2.0",
      "_view_name": "LayoutView",
      "align_content": null,
      "align_items": null,
      "align_self": null,
      "border": null,
      "bottom": null,
      "display": null,
      "flex": null,
      "flex_flow": null,
      "grid_area": null,
      "grid_auto_columns": null,
      "grid_auto_flow": null,
      "grid_auto_rows": null,
      "grid_column": null,
      "grid_gap": null,
      "grid_row": null,
      "grid_template_areas": null,
      "grid_template_columns": null,
      "grid_template_rows": null,
      "height": null,
      "justify_content": null,
      "justify_items": null,
      "left": null,
      "margin": null,
      "max_height": null,
      "max_width": null,
      "min_height": null,
      "min_width": null,
      "object_fit": null,
      "object_position": null,
      "order": null,
      "overflow": null,
      "overflow_x": null,
      "overflow_y": null,
      "padding": null,
      "right": null,
      "top": null,
      "visibility": null,
      "width": null
     }
    },
    "0ed4a382c52c41d785d4c75af86c2499": {
     "model_module": "@jupyter-widgets/controls",
     "model_module_version": "1.5.0",
     "model_name": "LabelModel",
     "state": {
      "_dom_classes": [],
      "_model_module": "@jupyter-widgets/controls",
      "_model_module_version": "1.5.0",
      "_model_name": "LabelModel",
      "_view_count": null,
      "_view_module": "@jupyter-widgets/controls",
      "_view_module_version": "1.5.0",
      "_view_name": "LabelView",
      "description": "",
      "description_tooltip": null,
      "layout": "IPY_MODEL_a80a343ef05b4303925e7b08fa1e0d93",
      "placeholder": "​",
      "style": "IPY_MODEL_eb4292734671422b9c6d72df75e25af3",
      "value": "Were you able to find hyperparameters that achieved a higher testing accuracy than the fully induced tree?"
     }
    },
    "12236568517e4c9e84f4538eab9cd655": {
     "model_module": "@jupyter-widgets/controls",
     "model_module_version": "1.5.0",
     "model_name": "LabelModel",
     "state": {
      "_dom_classes": [],
      "_model_module": "@jupyter-widgets/controls",
      "_model_module_version": "1.5.0",
      "_model_name": "LabelModel",
      "_view_count": null,
      "_view_module": "@jupyter-widgets/controls",
      "_view_module_version": "1.5.0",
      "_view_name": "LabelView",
      "description": "",
      "description_tooltip": null,
      "layout": "IPY_MODEL_0d755b41f3f94910bc9fff8b4ac40ea0",
      "placeholder": "​",
      "style": "IPY_MODEL_2248eb1684a14cf982393bb50d0d899f",
      "value": "Include a general discussion about what you did/learned above."
     }
    },
    "138639ae04f2426c8c14badb86176f05": {
     "model_module": "@jupyter-widgets/controls",
     "model_module_version": "1.5.0",
     "model_name": "LabelModel",
     "state": {
      "_dom_classes": [],
      "_model_module": "@jupyter-widgets/controls",
      "_model_module_version": "1.5.0",
      "_model_name": "LabelModel",
      "_view_count": null,
      "_view_module": "@jupyter-widgets/controls",
      "_view_module_version": "1.5.0",
      "_view_name": "LabelView",
      "description": "",
      "description_tooltip": null,
      "layout": "IPY_MODEL_3e2533f3be974f058867ea5c8367aca8",
      "placeholder": "​",
      "style": "IPY_MODEL_4cab6f150b444aa9b9f2246158e369a6",
      "value": "Which ccp_alpha value achieved the best testing accuracy?"
     }
    },
    "16c936e09a2d4c15a837b621f600f33d": {
     "model_module": "@jupyter-widgets/controls",
     "model_module_version": "1.5.0",
     "model_name": "DescriptionStyleModel",
     "state": {
      "_model_module": "@jupyter-widgets/controls",
      "_model_module_version": "1.5.0",
      "_model_name": "DescriptionStyleModel",
      "_view_count": null,
      "_view_module": "@jupyter-widgets/base",
      "_view_module_version": "1.2.0",
      "_view_name": "StyleView",
      "description_width": ""
     }
    },
    "17f9c8e55c554a39860085c6858e5b85": {
     "model_module": "@jupyter-widgets/controls",
     "model_module_version": "1.5.0",
     "model_name": "DescriptionStyleModel",
     "state": {
      "_model_module": "@jupyter-widgets/controls",
      "_model_module_version": "1.5.0",
      "_model_name": "DescriptionStyleModel",
      "_view_count": null,
      "_view_module": "@jupyter-widgets/base",
      "_view_module_version": "1.2.0",
      "_view_name": "StyleView",
      "description_width": ""
     }
    },
    "19f16f0d90ce4f7dabe188323fb9f1d0": {
     "model_module": "@jupyter-widgets/controls",
     "model_module_version": "1.5.0",
     "model_name": "DescriptionStyleModel",
     "state": {
      "_model_module": "@jupyter-widgets/controls",
      "_model_module_version": "1.5.0",
      "_model_name": "DescriptionStyleModel",
      "_view_count": null,
      "_view_module": "@jupyter-widgets/base",
      "_view_module_version": "1.2.0",
      "_view_name": "StyleView",
      "description_width": ""
     }
    },
    "1d184511a9ad48ef8b915ac5b41c16f5": {
     "model_module": "@jupyter-widgets/controls",
     "model_module_version": "1.5.0",
     "model_name": "ButtonModel",
     "state": {
      "_dom_classes": [],
      "_model_module": "@jupyter-widgets/controls",
      "_model_module_version": "1.5.0",
      "_model_name": "ButtonModel",
      "_view_count": null,
      "_view_module": "@jupyter-widgets/controls",
      "_view_module_version": "1.5.0",
      "_view_name": "ButtonView",
      "button_style": "",
      "description": "Save Answers",
      "disabled": false,
      "icon": "",
      "layout": "IPY_MODEL_26dace420e0246d3bfc96996d1f1eccb",
      "style": "IPY_MODEL_55e21210a4d2457b860ff335cca03aaa",
      "tooltip": ""
     }
    },
    "2248eb1684a14cf982393bb50d0d899f": {
     "model_module": "@jupyter-widgets/controls",
     "model_module_version": "1.5.0",
     "model_name": "DescriptionStyleModel",
     "state": {
      "_model_module": "@jupyter-widgets/controls",
      "_model_module_version": "1.5.0",
      "_model_name": "DescriptionStyleModel",
      "_view_count": null,
      "_view_module": "@jupyter-widgets/base",
      "_view_module_version": "1.2.0",
      "_view_name": "StyleView",
      "description_width": ""
     }
    },
    "234492adc00e48a5a0b12909ca3251d1": {
     "model_module": "@jupyter-widgets/controls",
     "model_module_version": "1.5.0",
     "model_name": "VBoxModel",
     "state": {
      "_dom_classes": [],
      "_model_module": "@jupyter-widgets/controls",
      "_model_module_version": "1.5.0",
      "_model_name": "VBoxModel",
      "_view_count": null,
      "_view_module": "@jupyter-widgets/controls",
      "_view_module_version": "1.5.0",
      "_view_name": "VBoxView",
      "box_style": "",
      "children": [
       "IPY_MODEL_d4d292fa37de4e24b1e5dd7df7c1f436",
       "IPY_MODEL_32eb19873c3d43678373ddfcce57f480"
      ],
      "layout": "IPY_MODEL_967fa381763242f0926bd24b1fcd0788"
     }
    },
    "23e3f47aaa2a4707895827904329aa42": {
     "model_module": "@jupyter-widgets/controls",
     "model_module_version": "1.5.0",
     "model_name": "VBoxModel",
     "state": {
      "_dom_classes": [],
      "_model_module": "@jupyter-widgets/controls",
      "_model_module_version": "1.5.0",
      "_model_name": "VBoxModel",
      "_view_count": null,
      "_view_module": "@jupyter-widgets/controls",
      "_view_module_version": "1.5.0",
      "_view_name": "VBoxView",
      "box_style": "",
      "children": [
       "IPY_MODEL_e5944f0553bc4dc2beeef74b5c6d2f0d",
       "IPY_MODEL_cef36abd312a4dedbc92ddb2b1dcb0c3"
      ],
      "layout": "IPY_MODEL_99c087d22d8c440a9a04f9b1c0eae37d"
     }
    },
    "25843a8f2821499dae6984561d365bdf": {
     "model_module": "@jupyter-widgets/base",
     "model_module_version": "1.2.0",
     "model_name": "LayoutModel",
     "state": {
      "_model_module": "@jupyter-widgets/base",
      "_model_module_version": "1.2.0",
      "_model_name": "LayoutModel",
      "_view_count": null,
      "_view_module": "@jupyter-widgets/base",
      "_view_module_version": "1.2.0",
      "_view_name": "LayoutView",
      "align_content": null,
      "align_items": null,
      "align_self": null,
      "border": null,
      "bottom": null,
      "display": null,
      "flex": null,
      "flex_flow": null,
      "grid_area": null,
      "grid_auto_columns": null,
      "grid_auto_flow": null,
      "grid_auto_rows": null,
      "grid_column": null,
      "grid_gap": null,
      "grid_row": null,
      "grid_template_areas": null,
      "grid_template_columns": null,
      "grid_template_rows": null,
      "height": null,
      "justify_content": null,
      "justify_items": null,
      "left": null,
      "margin": null,
      "max_height": null,
      "max_width": null,
      "min_height": null,
      "min_width": null,
      "object_fit": null,
      "object_position": null,
      "order": null,
      "overflow": null,
      "overflow_x": null,
      "overflow_y": null,
      "padding": null,
      "right": null,
      "top": null,
      "visibility": null,
      "width": null
     }
    },
    "266b04341cfb4ecfba3e698915999002": {
     "model_module": "@jupyter-widgets/controls",
     "model_module_version": "1.5.0",
     "model_name": "TextareaModel",
     "state": {
      "_dom_classes": [],
      "_model_module": "@jupyter-widgets/controls",
      "_model_module_version": "1.5.0",
      "_model_name": "TextareaModel",
      "_view_count": null,
      "_view_module": "@jupyter-widgets/controls",
      "_view_module_version": "1.5.0",
      "_view_name": "TextareaView",
      "continuous_update": true,
      "description": "",
      "description_tooltip": null,
      "disabled": false,
      "layout": "IPY_MODEL_37dc209d3ec9467bada67ca0ec8e61a6",
      "placeholder": "​",
      "rows": 2,
      "style": "IPY_MODEL_d712d49ff06b4a8b89313a47c04637ec",
      "value": ""
     }
    },
    "26dace420e0246d3bfc96996d1f1eccb": {
     "model_module": "@jupyter-widgets/base",
     "model_module_version": "1.2.0",
     "model_name": "LayoutModel",
     "state": {
      "_model_module": "@jupyter-widgets/base",
      "_model_module_version": "1.2.0",
      "_model_name": "LayoutModel",
      "_view_count": null,
      "_view_module": "@jupyter-widgets/base",
      "_view_module_version": "1.2.0",
      "_view_name": "LayoutView",
      "align_content": null,
      "align_items": null,
      "align_self": null,
      "border": null,
      "bottom": null,
      "display": null,
      "flex": null,
      "flex_flow": null,
      "grid_area": null,
      "grid_auto_columns": null,
      "grid_auto_flow": null,
      "grid_auto_rows": null,
      "grid_column": null,
      "grid_gap": null,
      "grid_row": null,
      "grid_template_areas": null,
      "grid_template_columns": null,
      "grid_template_rows": null,
      "height": null,
      "justify_content": null,
      "justify_items": null,
      "left": null,
      "margin": null,
      "max_height": null,
      "max_width": null,
      "min_height": null,
      "min_width": null,
      "object_fit": null,
      "object_position": null,
      "order": null,
      "overflow": null,
      "overflow_x": null,
      "overflow_y": null,
      "padding": null,
      "right": null,
      "top": null,
      "visibility": null,
      "width": null
     }
    },
    "2965743d298f4ffab1e0c0b8152e2c8a": {
     "model_module": "@jupyter-widgets/controls",
     "model_module_version": "1.5.0",
     "model_name": "VBoxModel",
     "state": {
      "_dom_classes": [],
      "_model_module": "@jupyter-widgets/controls",
      "_model_module_version": "1.5.0",
      "_model_name": "VBoxModel",
      "_view_count": null,
      "_view_module": "@jupyter-widgets/controls",
      "_view_module_version": "1.5.0",
      "_view_name": "VBoxView",
      "box_style": "",
      "children": [
       "IPY_MODEL_b03dbc654d86450590a706b8b26285af",
       "IPY_MODEL_a223e84ea820457eb69503cd859d1f2f"
      ],
      "layout": "IPY_MODEL_066ffdcdceb94992a81cdd73aa91d2aa"
     }
    },
    "2ca1bd225d334fe6933028613f2d70e5": {
     "model_module": "@jupyter-widgets/controls",
     "model_module_version": "1.5.0",
     "model_name": "TextareaModel",
     "state": {
      "_dom_classes": [],
      "_model_module": "@jupyter-widgets/controls",
      "_model_module_version": "1.5.0",
      "_model_name": "TextareaModel",
      "_view_count": null,
      "_view_module": "@jupyter-widgets/controls",
      "_view_module_version": "1.5.0",
      "_view_name": "TextareaView",
      "continuous_update": true,
      "description": "",
      "description_tooltip": null,
      "disabled": false,
      "layout": "IPY_MODEL_9996e241ed4a4bc0843772011afb0f47",
      "placeholder": "​",
      "rows": 2,
      "style": "IPY_MODEL_77a8aeece1a84b82983bce02d458657c",
      "value": ""
     }
    },
    "2f33ebf38c6d4f819a18086a1c8f13e4": {
     "model_module": "@jupyter-widgets/base",
     "model_module_version": "1.2.0",
     "model_name": "LayoutModel",
     "state": {
      "_model_module": "@jupyter-widgets/base",
      "_model_module_version": "1.2.0",
      "_model_name": "LayoutModel",
      "_view_count": null,
      "_view_module": "@jupyter-widgets/base",
      "_view_module_version": "1.2.0",
      "_view_name": "LayoutView",
      "align_content": null,
      "align_items": null,
      "align_self": null,
      "border": null,
      "bottom": null,
      "display": null,
      "flex": null,
      "flex_flow": null,
      "grid_area": null,
      "grid_auto_columns": null,
      "grid_auto_flow": null,
      "grid_auto_rows": null,
      "grid_column": null,
      "grid_gap": null,
      "grid_row": null,
      "grid_template_areas": null,
      "grid_template_columns": null,
      "grid_template_rows": null,
      "height": null,
      "justify_content": null,
      "justify_items": null,
      "left": null,
      "margin": null,
      "max_height": null,
      "max_width": null,
      "min_height": null,
      "min_width": null,
      "object_fit": null,
      "object_position": null,
      "order": null,
      "overflow": null,
      "overflow_x": null,
      "overflow_y": null,
      "padding": null,
      "right": null,
      "top": null,
      "visibility": null,
      "width": null
     }
    },
    "2f97ae0a4e6441c9b80de665838c2519": {
     "model_module": "@jupyter-widgets/controls",
     "model_module_version": "1.5.0",
     "model_name": "VBoxModel",
     "state": {
      "_dom_classes": [],
      "_model_module": "@jupyter-widgets/controls",
      "_model_module_version": "1.5.0",
      "_model_name": "VBoxModel",
      "_view_count": null,
      "_view_module": "@jupyter-widgets/controls",
      "_view_module_version": "1.5.0",
      "_view_name": "VBoxView",
      "box_style": "",
      "children": [
       "IPY_MODEL_a228cb836d394a93a0ff249263f1457b",
       "IPY_MODEL_31a01a39e4a34e9298e30ff357ca2e85"
      ],
      "layout": "IPY_MODEL_f3838589770045929d1f19b05c37303e"
     }
    },
    "3057a7cdf2b84843bd88c1e76bfd6f90": {
     "model_module": "@jupyter-widgets/controls",
     "model_module_version": "1.5.0",
     "model_name": "VBoxModel",
     "state": {
      "_dom_classes": [],
      "_model_module": "@jupyter-widgets/controls",
      "_model_module_version": "1.5.0",
      "_model_name": "VBoxModel",
      "_view_count": null,
      "_view_module": "@jupyter-widgets/controls",
      "_view_module_version": "1.5.0",
      "_view_name": "VBoxView",
      "box_style": "",
      "children": [
       "IPY_MODEL_75e3c2f5ff9743369aaef3cec8503a59",
       "IPY_MODEL_5cd328d7a8734eb1ae16a33e0060274f"
      ],
      "layout": "IPY_MODEL_00a3f214fb4746d7b1bb8e4fd6231fe6"
     }
    },
    "31a01a39e4a34e9298e30ff357ca2e85": {
     "model_module": "@jupyter-widgets/controls",
     "model_module_version": "1.5.0",
     "model_name": "TextareaModel",
     "state": {
      "_dom_classes": [],
      "_model_module": "@jupyter-widgets/controls",
      "_model_module_version": "1.5.0",
      "_model_name": "TextareaModel",
      "_view_count": null,
      "_view_module": "@jupyter-widgets/controls",
      "_view_module_version": "1.5.0",
      "_view_name": "TextareaView",
      "continuous_update": true,
      "description": "",
      "description_tooltip": null,
      "disabled": false,
      "layout": "IPY_MODEL_c1e1d6f4ed0544dfb245c86d82d4e805",
      "placeholder": "​",
      "rows": 2,
      "style": "IPY_MODEL_fd0dc2129eee436ca222107914ff133e",
      "value": ""
     }
    },
    "32552ef4d7bb4ab2b4af719ddc834248": {
     "model_module": "@jupyter-widgets/controls",
     "model_module_version": "1.5.0",
     "model_name": "ButtonStyleModel",
     "state": {
      "_model_module": "@jupyter-widgets/controls",
      "_model_module_version": "1.5.0",
      "_model_name": "ButtonStyleModel",
      "_view_count": null,
      "_view_module": "@jupyter-widgets/base",
      "_view_module_version": "1.2.0",
      "_view_name": "StyleView",
      "button_color": null,
      "font_weight": ""
     }
    },
    "32eb19873c3d43678373ddfcce57f480": {
     "model_module": "@jupyter-widgets/controls",
     "model_module_version": "1.5.0",
     "model_name": "TextareaModel",
     "state": {
      "_dom_classes": [],
      "_model_module": "@jupyter-widgets/controls",
      "_model_module_version": "1.5.0",
      "_model_name": "TextareaModel",
      "_view_count": null,
      "_view_module": "@jupyter-widgets/controls",
      "_view_module_version": "1.5.0",
      "_view_name": "TextareaView",
      "continuous_update": true,
      "description": "",
      "description_tooltip": null,
      "disabled": false,
      "layout": "IPY_MODEL_678226e0e867427e99dbb4fbeafc2fc5",
      "placeholder": "​",
      "rows": 2,
      "style": "IPY_MODEL_a318b984c9ec46d4b15cb8370c28c334",
      "value": "I also learned to debug and evaluate!"
     }
    },
    "3473df29e36f45abb599d01b324a4d1a": {
     "model_module": "@jupyter-widgets/base",
     "model_module_version": "1.2.0",
     "model_name": "LayoutModel",
     "state": {
      "_model_module": "@jupyter-widgets/base",
      "_model_module_version": "1.2.0",
      "_model_name": "LayoutModel",
      "_view_count": null,
      "_view_module": "@jupyter-widgets/base",
      "_view_module_version": "1.2.0",
      "_view_name": "LayoutView",
      "align_content": null,
      "align_items": null,
      "align_self": null,
      "border": null,
      "bottom": null,
      "display": null,
      "flex": null,
      "flex_flow": null,
      "grid_area": null,
      "grid_auto_columns": null,
      "grid_auto_flow": null,
      "grid_auto_rows": null,
      "grid_column": null,
      "grid_gap": null,
      "grid_row": null,
      "grid_template_areas": null,
      "grid_template_columns": null,
      "grid_template_rows": null,
      "height": null,
      "justify_content": null,
      "justify_items": null,
      "left": null,
      "margin": null,
      "max_height": null,
      "max_width": null,
      "min_height": null,
      "min_width": null,
      "object_fit": null,
      "object_position": null,
      "order": null,
      "overflow": null,
      "overflow_x": null,
      "overflow_y": null,
      "padding": null,
      "right": null,
      "top": null,
      "visibility": null,
      "width": "99%"
     }
    },
    "34e687ce1a294d959a8387efdb8e008a": {
     "model_module": "@jupyter-widgets/base",
     "model_module_version": "1.2.0",
     "model_name": "LayoutModel",
     "state": {
      "_model_module": "@jupyter-widgets/base",
      "_model_module_version": "1.2.0",
      "_model_name": "LayoutModel",
      "_view_count": null,
      "_view_module": "@jupyter-widgets/base",
      "_view_module_version": "1.2.0",
      "_view_name": "LayoutView",
      "align_content": null,
      "align_items": null,
      "align_self": null,
      "border": null,
      "bottom": null,
      "display": null,
      "flex": null,
      "flex_flow": null,
      "grid_area": null,
      "grid_auto_columns": null,
      "grid_auto_flow": null,
      "grid_auto_rows": null,
      "grid_column": null,
      "grid_gap": null,
      "grid_row": null,
      "grid_template_areas": null,
      "grid_template_columns": null,
      "grid_template_rows": null,
      "height": null,
      "justify_content": null,
      "justify_items": null,
      "left": null,
      "margin": null,
      "max_height": null,
      "max_width": null,
      "min_height": null,
      "min_width": null,
      "object_fit": null,
      "object_position": null,
      "order": null,
      "overflow": null,
      "overflow_x": null,
      "overflow_y": null,
      "padding": null,
      "right": null,
      "top": null,
      "visibility": null,
      "width": "99%"
     }
    },
    "37dc209d3ec9467bada67ca0ec8e61a6": {
     "model_module": "@jupyter-widgets/base",
     "model_module_version": "1.2.0",
     "model_name": "LayoutModel",
     "state": {
      "_model_module": "@jupyter-widgets/base",
      "_model_module_version": "1.2.0",
      "_model_name": "LayoutModel",
      "_view_count": null,
      "_view_module": "@jupyter-widgets/base",
      "_view_module_version": "1.2.0",
      "_view_name": "LayoutView",
      "align_content": null,
      "align_items": null,
      "align_self": null,
      "border": null,
      "bottom": null,
      "display": null,
      "flex": null,
      "flex_flow": null,
      "grid_area": null,
      "grid_auto_columns": null,
      "grid_auto_flow": null,
      "grid_auto_rows": null,
      "grid_column": null,
      "grid_gap": null,
      "grid_row": null,
      "grid_template_areas": null,
      "grid_template_columns": null,
      "grid_template_rows": null,
      "height": null,
      "justify_content": null,
      "justify_items": null,
      "left": null,
      "margin": null,
      "max_height": null,
      "max_width": null,
      "min_height": null,
      "min_width": null,
      "object_fit": null,
      "object_position": null,
      "order": null,
      "overflow": null,
      "overflow_x": null,
      "overflow_y": null,
      "padding": null,
      "right": null,
      "top": null,
      "visibility": null,
      "width": "99%"
     }
    },
    "38efaf0c3c5e453f88a808f919f4b82c": {
     "model_module": "@jupyter-widgets/controls",
     "model_module_version": "1.5.0",
     "model_name": "DescriptionStyleModel",
     "state": {
      "_model_module": "@jupyter-widgets/controls",
      "_model_module_version": "1.5.0",
      "_model_name": "DescriptionStyleModel",
      "_view_count": null,
      "_view_module": "@jupyter-widgets/base",
      "_view_module_version": "1.2.0",
      "_view_name": "StyleView",
      "description_width": ""
     }
    },
    "3abeb3efdc9d4c008b71c2c44178c769": {
     "model_module": "@jupyter-widgets/base",
     "model_module_version": "1.2.0",
     "model_name": "LayoutModel",
     "state": {
      "_model_module": "@jupyter-widgets/base",
      "_model_module_version": "1.2.0",
      "_model_name": "LayoutModel",
      "_view_count": null,
      "_view_module": "@jupyter-widgets/base",
      "_view_module_version": "1.2.0",
      "_view_name": "LayoutView",
      "align_content": null,
      "align_items": null,
      "align_self": null,
      "border": null,
      "bottom": null,
      "display": null,
      "flex": null,
      "flex_flow": null,
      "grid_area": null,
      "grid_auto_columns": null,
      "grid_auto_flow": null,
      "grid_auto_rows": null,
      "grid_column": null,
      "grid_gap": null,
      "grid_row": null,
      "grid_template_areas": null,
      "grid_template_columns": null,
      "grid_template_rows": null,
      "height": null,
      "justify_content": null,
      "justify_items": null,
      "left": null,
      "margin": null,
      "max_height": null,
      "max_width": null,
      "min_height": null,
      "min_width": null,
      "object_fit": null,
      "object_position": null,
      "order": null,
      "overflow": null,
      "overflow_x": null,
      "overflow_y": null,
      "padding": null,
      "right": null,
      "top": null,
      "visibility": null,
      "width": "99%"
     }
    },
    "3d31f683eff54674b181f8d45bd333b7": {
     "model_module": "@jupyter-widgets/controls",
     "model_module_version": "1.5.0",
     "model_name": "VBoxModel",
     "state": {
      "_dom_classes": [],
      "_model_module": "@jupyter-widgets/controls",
      "_model_module_version": "1.5.0",
      "_model_name": "VBoxModel",
      "_view_count": null,
      "_view_module": "@jupyter-widgets/controls",
      "_view_module_version": "1.5.0",
      "_view_name": "VBoxView",
      "box_style": "",
      "children": [
       "IPY_MODEL_0ed4a382c52c41d785d4c75af86c2499",
       "IPY_MODEL_e9ba103104434e11a79b1af7ab2d0864"
      ],
      "layout": "IPY_MODEL_c3550a36ec714f90bf2c38546697f15f"
     }
    },
    "3de4276ed7034b2ab0f5ff0f378776cc": {
     "model_module": "@jupyter-widgets/controls",
     "model_module_version": "1.5.0",
     "model_name": "ButtonModel",
     "state": {
      "_dom_classes": [],
      "_model_module": "@jupyter-widgets/controls",
      "_model_module_version": "1.5.0",
      "_model_name": "ButtonModel",
      "_view_count": null,
      "_view_module": "@jupyter-widgets/controls",
      "_view_module_version": "1.5.0",
      "_view_name": "ButtonView",
      "button_style": "",
      "description": "Save Answers",
      "disabled": false,
      "icon": "",
      "layout": "IPY_MODEL_01e21456baf5409ea13e3221408dd778",
      "style": "IPY_MODEL_dae416c13a72467da912e0bba5f65f2f",
      "tooltip": ""
     }
    },
    "3e2533f3be974f058867ea5c8367aca8": {
     "model_module": "@jupyter-widgets/base",
     "model_module_version": "1.2.0",
     "model_name": "LayoutModel",
     "state": {
      "_model_module": "@jupyter-widgets/base",
      "_model_module_version": "1.2.0",
      "_model_name": "LayoutModel",
      "_view_count": null,
      "_view_module": "@jupyter-widgets/base",
      "_view_module_version": "1.2.0",
      "_view_name": "LayoutView",
      "align_content": null,
      "align_items": null,
      "align_self": null,
      "border": null,
      "bottom": null,
      "display": null,
      "flex": null,
      "flex_flow": null,
      "grid_area": null,
      "grid_auto_columns": null,
      "grid_auto_flow": null,
      "grid_auto_rows": null,
      "grid_column": null,
      "grid_gap": null,
      "grid_row": null,
      "grid_template_areas": null,
      "grid_template_columns": null,
      "grid_template_rows": null,
      "height": null,
      "justify_content": null,
      "justify_items": null,
      "left": null,
      "margin": null,
      "max_height": null,
      "max_width": null,
      "min_height": null,
      "min_width": null,
      "object_fit": null,
      "object_position": null,
      "order": null,
      "overflow": null,
      "overflow_x": null,
      "overflow_y": null,
      "padding": null,
      "right": null,
      "top": null,
      "visibility": null,
      "width": null
     }
    },
    "3ef33f11936c4baf9b4d8ddf02df5eff": {
     "model_module": "@jupyter-widgets/base",
     "model_module_version": "1.2.0",
     "model_name": "LayoutModel",
     "state": {
      "_model_module": "@jupyter-widgets/base",
      "_model_module_version": "1.2.0",
      "_model_name": "LayoutModel",
      "_view_count": null,
      "_view_module": "@jupyter-widgets/base",
      "_view_module_version": "1.2.0",
      "_view_name": "LayoutView",
      "align_content": null,
      "align_items": null,
      "align_self": null,
      "border": null,
      "bottom": null,
      "display": null,
      "flex": null,
      "flex_flow": null,
      "grid_area": null,
      "grid_auto_columns": null,
      "grid_auto_flow": null,
      "grid_auto_rows": null,
      "grid_column": null,
      "grid_gap": null,
      "grid_row": null,
      "grid_template_areas": null,
      "grid_template_columns": null,
      "grid_template_rows": null,
      "height": null,
      "justify_content": null,
      "justify_items": null,
      "left": null,
      "margin": null,
      "max_height": null,
      "max_width": null,
      "min_height": null,
      "min_width": null,
      "object_fit": null,
      "object_position": null,
      "order": null,
      "overflow": null,
      "overflow_x": null,
      "overflow_y": null,
      "padding": null,
      "right": null,
      "top": null,
      "visibility": null,
      "width": null
     }
    },
    "3f4b203aca734ababb4e70b6a75de468": {
     "model_module": "@jupyter-widgets/controls",
     "model_module_version": "1.5.0",
     "model_name": "DescriptionStyleModel",
     "state": {
      "_model_module": "@jupyter-widgets/controls",
      "_model_module_version": "1.5.0",
      "_model_name": "DescriptionStyleModel",
      "_view_count": null,
      "_view_module": "@jupyter-widgets/base",
      "_view_module_version": "1.2.0",
      "_view_name": "StyleView",
      "description_width": ""
     }
    },
    "3fc84f41b73545a3b06389a1c841ec0a": {
     "model_module": "@jupyter-widgets/base",
     "model_module_version": "1.2.0",
     "model_name": "LayoutModel",
     "state": {
      "_model_module": "@jupyter-widgets/base",
      "_model_module_version": "1.2.0",
      "_model_name": "LayoutModel",
      "_view_count": null,
      "_view_module": "@jupyter-widgets/base",
      "_view_module_version": "1.2.0",
      "_view_name": "LayoutView",
      "align_content": null,
      "align_items": null,
      "align_self": null,
      "border": null,
      "bottom": null,
      "display": null,
      "flex": null,
      "flex_flow": null,
      "grid_area": null,
      "grid_auto_columns": null,
      "grid_auto_flow": null,
      "grid_auto_rows": null,
      "grid_column": null,
      "grid_gap": null,
      "grid_row": null,
      "grid_template_areas": null,
      "grid_template_columns": null,
      "grid_template_rows": null,
      "height": null,
      "justify_content": null,
      "justify_items": null,
      "left": null,
      "margin": null,
      "max_height": null,
      "max_width": null,
      "min_height": null,
      "min_width": null,
      "object_fit": null,
      "object_position": null,
      "order": null,
      "overflow": null,
      "overflow_x": null,
      "overflow_y": null,
      "padding": null,
      "right": null,
      "top": null,
      "visibility": null,
      "width": null
     }
    },
    "4120503eafa64eeea8f2c792a3166c19": {
     "model_module": "@jupyter-widgets/base",
     "model_module_version": "1.2.0",
     "model_name": "LayoutModel",
     "state": {
      "_model_module": "@jupyter-widgets/base",
      "_model_module_version": "1.2.0",
      "_model_name": "LayoutModel",
      "_view_count": null,
      "_view_module": "@jupyter-widgets/base",
      "_view_module_version": "1.2.0",
      "_view_name": "LayoutView",
      "align_content": null,
      "align_items": null,
      "align_self": null,
      "border": null,
      "bottom": null,
      "display": null,
      "flex": null,
      "flex_flow": null,
      "grid_area": null,
      "grid_auto_columns": null,
      "grid_auto_flow": null,
      "grid_auto_rows": null,
      "grid_column": null,
      "grid_gap": null,
      "grid_row": null,
      "grid_template_areas": null,
      "grid_template_columns": null,
      "grid_template_rows": null,
      "height": null,
      "justify_content": null,
      "justify_items": null,
      "left": null,
      "margin": null,
      "max_height": null,
      "max_width": null,
      "min_height": null,
      "min_width": null,
      "object_fit": null,
      "object_position": null,
      "order": null,
      "overflow": null,
      "overflow_x": null,
      "overflow_y": null,
      "padding": null,
      "right": null,
      "top": null,
      "visibility": null,
      "width": null
     }
    },
    "44679409f9de41148fba105e60243bd8": {
     "model_module": "@jupyter-widgets/base",
     "model_module_version": "1.2.0",
     "model_name": "LayoutModel",
     "state": {
      "_model_module": "@jupyter-widgets/base",
      "_model_module_version": "1.2.0",
      "_model_name": "LayoutModel",
      "_view_count": null,
      "_view_module": "@jupyter-widgets/base",
      "_view_module_version": "1.2.0",
      "_view_name": "LayoutView",
      "align_content": null,
      "align_items": null,
      "align_self": null,
      "border": null,
      "bottom": null,
      "display": null,
      "flex": null,
      "flex_flow": null,
      "grid_area": null,
      "grid_auto_columns": null,
      "grid_auto_flow": null,
      "grid_auto_rows": null,
      "grid_column": null,
      "grid_gap": null,
      "grid_row": null,
      "grid_template_areas": null,
      "grid_template_columns": null,
      "grid_template_rows": null,
      "height": null,
      "justify_content": null,
      "justify_items": null,
      "left": null,
      "margin": null,
      "max_height": null,
      "max_width": null,
      "min_height": null,
      "min_width": null,
      "object_fit": null,
      "object_position": null,
      "order": null,
      "overflow": null,
      "overflow_x": null,
      "overflow_y": null,
      "padding": null,
      "right": null,
      "top": null,
      "visibility": null,
      "width": null
     }
    },
    "455d543414bb407f80fc68d7012667b4": {
     "model_module": "@jupyter-widgets/controls",
     "model_module_version": "1.5.0",
     "model_name": "ButtonStyleModel",
     "state": {
      "_model_module": "@jupyter-widgets/controls",
      "_model_module_version": "1.5.0",
      "_model_name": "ButtonStyleModel",
      "_view_count": null,
      "_view_module": "@jupyter-widgets/base",
      "_view_module_version": "1.2.0",
      "_view_name": "StyleView",
      "button_color": null,
      "font_weight": ""
     }
    },
    "48c31f5a131b4d719cdb9bffffd75311": {
     "model_module": "@jupyter-widgets/controls",
     "model_module_version": "1.5.0",
     "model_name": "ButtonModel",
     "state": {
      "_dom_classes": [],
      "_model_module": "@jupyter-widgets/controls",
      "_model_module_version": "1.5.0",
      "_model_name": "ButtonModel",
      "_view_count": null,
      "_view_module": "@jupyter-widgets/controls",
      "_view_module_version": "1.5.0",
      "_view_name": "ButtonView",
      "button_style": "",
      "description": "Save Answers",
      "disabled": false,
      "icon": "",
      "layout": "IPY_MODEL_54335aaba8aa49dcb718d118318fecbf",
      "style": "IPY_MODEL_d67b68fb3bbb4360bb86fe3d0b8d21aa",
      "tooltip": ""
     }
    },
    "4cab6f150b444aa9b9f2246158e369a6": {
     "model_module": "@jupyter-widgets/controls",
     "model_module_version": "1.5.0",
     "model_name": "DescriptionStyleModel",
     "state": {
      "_model_module": "@jupyter-widgets/controls",
      "_model_module_version": "1.5.0",
      "_model_name": "DescriptionStyleModel",
      "_view_count": null,
      "_view_module": "@jupyter-widgets/base",
      "_view_module_version": "1.2.0",
      "_view_name": "StyleView",
      "description_width": ""
     }
    },
    "4d0964e161de4a2aa46c215a7709e5c7": {
     "model_module": "@jupyter-widgets/controls",
     "model_module_version": "1.5.0",
     "model_name": "DescriptionStyleModel",
     "state": {
      "_model_module": "@jupyter-widgets/controls",
      "_model_module_version": "1.5.0",
      "_model_name": "DescriptionStyleModel",
      "_view_count": null,
      "_view_module": "@jupyter-widgets/base",
      "_view_module_version": "1.2.0",
      "_view_name": "StyleView",
      "description_width": ""
     }
    },
    "50b7d9646f81477b81fac30ea63feb89": {
     "model_module": "@jupyter-widgets/controls",
     "model_module_version": "1.5.0",
     "model_name": "ButtonStyleModel",
     "state": {
      "_model_module": "@jupyter-widgets/controls",
      "_model_module_version": "1.5.0",
      "_model_name": "ButtonStyleModel",
      "_view_count": null,
      "_view_module": "@jupyter-widgets/base",
      "_view_module_version": "1.2.0",
      "_view_name": "StyleView",
      "button_color": null,
      "font_weight": ""
     }
    },
    "50eda07be98b43fe9e9e1b138212e7fc": {
     "model_module": "@jupyter-widgets/controls",
     "model_module_version": "1.5.0",
     "model_name": "VBoxModel",
     "state": {
      "_dom_classes": [],
      "_model_module": "@jupyter-widgets/controls",
      "_model_module_version": "1.5.0",
      "_model_name": "VBoxModel",
      "_view_count": null,
      "_view_module": "@jupyter-widgets/controls",
      "_view_module_version": "1.5.0",
      "_view_name": "VBoxView",
      "box_style": "",
      "children": [
       "IPY_MODEL_7ea4c6e331e748109de5e2f5b519f61f",
       "IPY_MODEL_f084819c70ce4e16acbcba09ef44cddd"
      ],
      "layout": "IPY_MODEL_abb643f883294f6c8c299cc66a7ac442"
     }
    },
    "54335aaba8aa49dcb718d118318fecbf": {
     "model_module": "@jupyter-widgets/base",
     "model_module_version": "1.2.0",
     "model_name": "LayoutModel",
     "state": {
      "_model_module": "@jupyter-widgets/base",
      "_model_module_version": "1.2.0",
      "_model_name": "LayoutModel",
      "_view_count": null,
      "_view_module": "@jupyter-widgets/base",
      "_view_module_version": "1.2.0",
      "_view_name": "LayoutView",
      "align_content": null,
      "align_items": null,
      "align_self": null,
      "border": null,
      "bottom": null,
      "display": null,
      "flex": null,
      "flex_flow": null,
      "grid_area": null,
      "grid_auto_columns": null,
      "grid_auto_flow": null,
      "grid_auto_rows": null,
      "grid_column": null,
      "grid_gap": null,
      "grid_row": null,
      "grid_template_areas": null,
      "grid_template_columns": null,
      "grid_template_rows": null,
      "height": null,
      "justify_content": null,
      "justify_items": null,
      "left": null,
      "margin": null,
      "max_height": null,
      "max_width": null,
      "min_height": null,
      "min_width": null,
      "object_fit": null,
      "object_position": null,
      "order": null,
      "overflow": null,
      "overflow_x": null,
      "overflow_y": null,
      "padding": null,
      "right": null,
      "top": null,
      "visibility": null,
      "width": null
     }
    },
    "55e21210a4d2457b860ff335cca03aaa": {
     "model_module": "@jupyter-widgets/controls",
     "model_module_version": "1.5.0",
     "model_name": "ButtonStyleModel",
     "state": {
      "_model_module": "@jupyter-widgets/controls",
      "_model_module_version": "1.5.0",
      "_model_name": "ButtonStyleModel",
      "_view_count": null,
      "_view_module": "@jupyter-widgets/base",
      "_view_module_version": "1.2.0",
      "_view_name": "StyleView",
      "button_color": null,
      "font_weight": ""
     }
    },
    "56f0b22810384f56a1922d838c3be152": {
     "model_module": "@jupyter-widgets/controls",
     "model_module_version": "1.5.0",
     "model_name": "DescriptionStyleModel",
     "state": {
      "_model_module": "@jupyter-widgets/controls",
      "_model_module_version": "1.5.0",
      "_model_name": "DescriptionStyleModel",
      "_view_count": null,
      "_view_module": "@jupyter-widgets/base",
      "_view_module_version": "1.2.0",
      "_view_name": "StyleView",
      "description_width": ""
     }
    },
    "591496cbb48349638ced12aa3ece037d": {
     "model_module": "@jupyter-widgets/controls",
     "model_module_version": "1.5.0",
     "model_name": "VBoxModel",
     "state": {
      "_dom_classes": [],
      "_model_module": "@jupyter-widgets/controls",
      "_model_module_version": "1.5.0",
      "_model_name": "VBoxModel",
      "_view_count": null,
      "_view_module": "@jupyter-widgets/controls",
      "_view_module_version": "1.5.0",
      "_view_name": "VBoxView",
      "box_style": "",
      "children": [
       "IPY_MODEL_db4f1f05404d4ac688f20100c095af53",
       "IPY_MODEL_b323c76b0a8f41109a233d84793ead88"
      ],
      "layout": "IPY_MODEL_3fc84f41b73545a3b06389a1c841ec0a"
     }
    },
    "5cd328d7a8734eb1ae16a33e0060274f": {
     "model_module": "@jupyter-widgets/controls",
     "model_module_version": "1.5.0",
     "model_name": "TextareaModel",
     "state": {
      "_dom_classes": [],
      "_model_module": "@jupyter-widgets/controls",
      "_model_module_version": "1.5.0",
      "_model_name": "TextareaModel",
      "_view_count": null,
      "_view_module": "@jupyter-widgets/controls",
      "_view_module_version": "1.5.0",
      "_view_name": "TextareaView",
      "continuous_update": true,
      "description": "",
      "description_tooltip": null,
      "disabled": false,
      "layout": "IPY_MODEL_8f40e50b06f140e59b2214c182af6bb9",
      "placeholder": "​",
      "rows": 2,
      "style": "IPY_MODEL_dba4a77e2b5148cd8a41c6e486ca9129",
      "value": ""
     }
    },
    "62f8be6f785a4dfeb87e597ab2ee82b5": {
     "model_module": "@jupyter-widgets/controls",
     "model_module_version": "1.5.0",
     "model_name": "ButtonStyleModel",
     "state": {
      "_model_module": "@jupyter-widgets/controls",
      "_model_module_version": "1.5.0",
      "_model_name": "ButtonStyleModel",
      "_view_count": null,
      "_view_module": "@jupyter-widgets/base",
      "_view_module_version": "1.2.0",
      "_view_name": "StyleView",
      "button_color": null,
      "font_weight": ""
     }
    },
    "64975750ca6b498a80e6649c93944517": {
     "model_module": "@jupyter-widgets/base",
     "model_module_version": "1.2.0",
     "model_name": "LayoutModel",
     "state": {
      "_model_module": "@jupyter-widgets/base",
      "_model_module_version": "1.2.0",
      "_model_name": "LayoutModel",
      "_view_count": null,
      "_view_module": "@jupyter-widgets/base",
      "_view_module_version": "1.2.0",
      "_view_name": "LayoutView",
      "align_content": null,
      "align_items": null,
      "align_self": null,
      "border": null,
      "bottom": null,
      "display": null,
      "flex": null,
      "flex_flow": null,
      "grid_area": null,
      "grid_auto_columns": null,
      "grid_auto_flow": null,
      "grid_auto_rows": null,
      "grid_column": null,
      "grid_gap": null,
      "grid_row": null,
      "grid_template_areas": null,
      "grid_template_columns": null,
      "grid_template_rows": null,
      "height": null,
      "justify_content": null,
      "justify_items": null,
      "left": null,
      "margin": null,
      "max_height": null,
      "max_width": null,
      "min_height": null,
      "min_width": null,
      "object_fit": null,
      "object_position": null,
      "order": null,
      "overflow": null,
      "overflow_x": null,
      "overflow_y": null,
      "padding": null,
      "right": null,
      "top": null,
      "visibility": null,
      "width": null
     }
    },
    "658e115e22794ac4b85d3c4a4f1e92e3": {
     "model_module": "@jupyter-widgets/base",
     "model_module_version": "1.2.0",
     "model_name": "LayoutModel",
     "state": {
      "_model_module": "@jupyter-widgets/base",
      "_model_module_version": "1.2.0",
      "_model_name": "LayoutModel",
      "_view_count": null,
      "_view_module": "@jupyter-widgets/base",
      "_view_module_version": "1.2.0",
      "_view_name": "LayoutView",
      "align_content": null,
      "align_items": null,
      "align_self": null,
      "border": null,
      "bottom": null,
      "display": null,
      "flex": null,
      "flex_flow": null,
      "grid_area": null,
      "grid_auto_columns": null,
      "grid_auto_flow": null,
      "grid_auto_rows": null,
      "grid_column": null,
      "grid_gap": null,
      "grid_row": null,
      "grid_template_areas": null,
      "grid_template_columns": null,
      "grid_template_rows": null,
      "height": null,
      "justify_content": null,
      "justify_items": null,
      "left": null,
      "margin": null,
      "max_height": null,
      "max_width": null,
      "min_height": null,
      "min_width": null,
      "object_fit": null,
      "object_position": null,
      "order": null,
      "overflow": null,
      "overflow_x": null,
      "overflow_y": null,
      "padding": null,
      "right": null,
      "top": null,
      "visibility": null,
      "width": null
     }
    },
    "663353c451924c4ea218ea15b9b5c3a2": {
     "model_module": "@jupyter-widgets/controls",
     "model_module_version": "1.5.0",
     "model_name": "ButtonModel",
     "state": {
      "_dom_classes": [],
      "_model_module": "@jupyter-widgets/controls",
      "_model_module_version": "1.5.0",
      "_model_name": "ButtonModel",
      "_view_count": null,
      "_view_module": "@jupyter-widgets/controls",
      "_view_module_version": "1.5.0",
      "_view_name": "ButtonView",
      "button_style": "",
      "description": "Save Answers",
      "disabled": false,
      "icon": "",
      "layout": "IPY_MODEL_8f1d163788444bb1a34668de3f72a2bf",
      "style": "IPY_MODEL_62f8be6f785a4dfeb87e597ab2ee82b5",
      "tooltip": ""
     }
    },
    "678226e0e867427e99dbb4fbeafc2fc5": {
     "model_module": "@jupyter-widgets/base",
     "model_module_version": "1.2.0",
     "model_name": "LayoutModel",
     "state": {
      "_model_module": "@jupyter-widgets/base",
      "_model_module_version": "1.2.0",
      "_model_name": "LayoutModel",
      "_view_count": null,
      "_view_module": "@jupyter-widgets/base",
      "_view_module_version": "1.2.0",
      "_view_name": "LayoutView",
      "align_content": null,
      "align_items": null,
      "align_self": null,
      "border": null,
      "bottom": null,
      "display": null,
      "flex": null,
      "flex_flow": null,
      "grid_area": null,
      "grid_auto_columns": null,
      "grid_auto_flow": null,
      "grid_auto_rows": null,
      "grid_column": null,
      "grid_gap": null,
      "grid_row": null,
      "grid_template_areas": null,
      "grid_template_columns": null,
      "grid_template_rows": null,
      "height": null,
      "justify_content": null,
      "justify_items": null,
      "left": null,
      "margin": null,
      "max_height": null,
      "max_width": null,
      "min_height": null,
      "min_width": null,
      "object_fit": null,
      "object_position": null,
      "order": null,
      "overflow": null,
      "overflow_x": null,
      "overflow_y": null,
      "padding": null,
      "right": null,
      "top": null,
      "visibility": null,
      "width": "99%"
     }
    },
    "68c42583782546b1ada70a14df4c2663": {
     "model_module": "@jupyter-widgets/controls",
     "model_module_version": "1.5.0",
     "model_name": "DescriptionStyleModel",
     "state": {
      "_model_module": "@jupyter-widgets/controls",
      "_model_module_version": "1.5.0",
      "_model_name": "DescriptionStyleModel",
      "_view_count": null,
      "_view_module": "@jupyter-widgets/base",
      "_view_module_version": "1.2.0",
      "_view_name": "StyleView",
      "description_width": ""
     }
    },
    "6d2ae1e29c40479e8ea54a927ffe9db5": {
     "model_module": "@jupyter-widgets/controls",
     "model_module_version": "1.5.0",
     "model_name": "DescriptionStyleModel",
     "state": {
      "_model_module": "@jupyter-widgets/controls",
      "_model_module_version": "1.5.0",
      "_model_name": "DescriptionStyleModel",
      "_view_count": null,
      "_view_module": "@jupyter-widgets/base",
      "_view_module_version": "1.2.0",
      "_view_name": "StyleView",
      "description_width": ""
     }
    },
    "75e3c2f5ff9743369aaef3cec8503a59": {
     "model_module": "@jupyter-widgets/controls",
     "model_module_version": "1.5.0",
     "model_name": "LabelModel",
     "state": {
      "_dom_classes": [],
      "_model_module": "@jupyter-widgets/controls",
      "_model_module_version": "1.5.0",
      "_model_name": "LabelModel",
      "_view_count": null,
      "_view_module": "@jupyter-widgets/controls",
      "_view_module_version": "1.5.0",
      "_view_name": "LabelView",
      "description": "",
      "description_tooltip": null,
      "layout": "IPY_MODEL_ed1a5cd4e34946f4b53923e95bf5713b",
      "placeholder": "​",
      "style": "IPY_MODEL_4d0964e161de4a2aa46c215a7709e5c7",
      "value": "How did you handle the missing values?"
     }
    },
    "76579d9aacbc40998f3823ece66be559": {
     "model_module": "@jupyter-widgets/base",
     "model_module_version": "1.2.0",
     "model_name": "LayoutModel",
     "state": {
      "_model_module": "@jupyter-widgets/base",
      "_model_module_version": "1.2.0",
      "_model_name": "LayoutModel",
      "_view_count": null,
      "_view_module": "@jupyter-widgets/base",
      "_view_module_version": "1.2.0",
      "_view_name": "LayoutView",
      "align_content": null,
      "align_items": null,
      "align_self": null,
      "border": null,
      "bottom": null,
      "display": null,
      "flex": null,
      "flex_flow": null,
      "grid_area": null,
      "grid_auto_columns": null,
      "grid_auto_flow": null,
      "grid_auto_rows": null,
      "grid_column": null,
      "grid_gap": null,
      "grid_row": null,
      "grid_template_areas": null,
      "grid_template_columns": null,
      "grid_template_rows": null,
      "height": null,
      "justify_content": null,
      "justify_items": null,
      "left": null,
      "margin": null,
      "max_height": null,
      "max_width": null,
      "min_height": null,
      "min_width": null,
      "object_fit": null,
      "object_position": null,
      "order": null,
      "overflow": null,
      "overflow_x": null,
      "overflow_y": null,
      "padding": null,
      "right": null,
      "top": null,
      "visibility": null,
      "width": null
     }
    },
    "77a8aeece1a84b82983bce02d458657c": {
     "model_module": "@jupyter-widgets/controls",
     "model_module_version": "1.5.0",
     "model_name": "DescriptionStyleModel",
     "state": {
      "_model_module": "@jupyter-widgets/controls",
      "_model_module_version": "1.5.0",
      "_model_name": "DescriptionStyleModel",
      "_view_count": null,
      "_view_module": "@jupyter-widgets/base",
      "_view_module_version": "1.2.0",
      "_view_name": "StyleView",
      "description_width": ""
     }
    },
    "7a969b662a4e41629765424e60f6d444": {
     "model_module": "@jupyter-widgets/controls",
     "model_module_version": "1.5.0",
     "model_name": "DescriptionStyleModel",
     "state": {
      "_model_module": "@jupyter-widgets/controls",
      "_model_module_version": "1.5.0",
      "_model_name": "DescriptionStyleModel",
      "_view_count": null,
      "_view_module": "@jupyter-widgets/base",
      "_view_module_version": "1.2.0",
      "_view_name": "StyleView",
      "description_width": ""
     }
    },
    "7ea4c6e331e748109de5e2f5b519f61f": {
     "model_module": "@jupyter-widgets/controls",
     "model_module_version": "1.5.0",
     "model_name": "LabelModel",
     "state": {
      "_dom_classes": [],
      "_model_module": "@jupyter-widgets/controls",
      "_model_module_version": "1.5.0",
      "_model_name": "LabelModel",
      "_view_count": null,
      "_view_module": "@jupyter-widgets/controls",
      "_view_module_version": "1.5.0",
      "_view_name": "LabelView",
      "description": "",
      "description_tooltip": null,
      "layout": "IPY_MODEL_64975750ca6b498a80e6649c93944517",
      "placeholder": "​",
      "style": "IPY_MODEL_16c936e09a2d4c15a837b621f600f33d",
      "value": "Interpret your table."
     }
    },
    "8b7de9d5e18546dc956849ef430bbf54": {
     "model_module": "@jupyter-widgets/base",
     "model_module_version": "1.2.0",
     "model_name": "LayoutModel",
     "state": {
      "_model_module": "@jupyter-widgets/base",
      "_model_module_version": "1.2.0",
      "_model_name": "LayoutModel",
      "_view_count": null,
      "_view_module": "@jupyter-widgets/base",
      "_view_module_version": "1.2.0",
      "_view_name": "LayoutView",
      "align_content": null,
      "align_items": null,
      "align_self": null,
      "border": null,
      "bottom": null,
      "display": null,
      "flex": null,
      "flex_flow": null,
      "grid_area": null,
      "grid_auto_columns": null,
      "grid_auto_flow": null,
      "grid_auto_rows": null,
      "grid_column": null,
      "grid_gap": null,
      "grid_row": null,
      "grid_template_areas": null,
      "grid_template_columns": null,
      "grid_template_rows": null,
      "height": null,
      "justify_content": null,
      "justify_items": null,
      "left": null,
      "margin": null,
      "max_height": null,
      "max_width": null,
      "min_height": null,
      "min_width": null,
      "object_fit": null,
      "object_position": null,
      "order": null,
      "overflow": null,
      "overflow_x": null,
      "overflow_y": null,
      "padding": null,
      "right": null,
      "top": null,
      "visibility": null,
      "width": null
     }
    },
    "8d83741aa95c46cda1968f1c0c38bc0f": {
     "model_module": "@jupyter-widgets/controls",
     "model_module_version": "1.5.0",
     "model_name": "DescriptionStyleModel",
     "state": {
      "_model_module": "@jupyter-widgets/controls",
      "_model_module_version": "1.5.0",
      "_model_name": "DescriptionStyleModel",
      "_view_count": null,
      "_view_module": "@jupyter-widgets/base",
      "_view_module_version": "1.2.0",
      "_view_name": "StyleView",
      "description_width": ""
     }
    },
    "8f1d163788444bb1a34668de3f72a2bf": {
     "model_module": "@jupyter-widgets/base",
     "model_module_version": "1.2.0",
     "model_name": "LayoutModel",
     "state": {
      "_model_module": "@jupyter-widgets/base",
      "_model_module_version": "1.2.0",
      "_model_name": "LayoutModel",
      "_view_count": null,
      "_view_module": "@jupyter-widgets/base",
      "_view_module_version": "1.2.0",
      "_view_name": "LayoutView",
      "align_content": null,
      "align_items": null,
      "align_self": null,
      "border": null,
      "bottom": null,
      "display": null,
      "flex": null,
      "flex_flow": null,
      "grid_area": null,
      "grid_auto_columns": null,
      "grid_auto_flow": null,
      "grid_auto_rows": null,
      "grid_column": null,
      "grid_gap": null,
      "grid_row": null,
      "grid_template_areas": null,
      "grid_template_columns": null,
      "grid_template_rows": null,
      "height": null,
      "justify_content": null,
      "justify_items": null,
      "left": null,
      "margin": null,
      "max_height": null,
      "max_width": null,
      "min_height": null,
      "min_width": null,
      "object_fit": null,
      "object_position": null,
      "order": null,
      "overflow": null,
      "overflow_x": null,
      "overflow_y": null,
      "padding": null,
      "right": null,
      "top": null,
      "visibility": null,
      "width": null
     }
    },
    "8f40e50b06f140e59b2214c182af6bb9": {
     "model_module": "@jupyter-widgets/base",
     "model_module_version": "1.2.0",
     "model_name": "LayoutModel",
     "state": {
      "_model_module": "@jupyter-widgets/base",
      "_model_module_version": "1.2.0",
      "_model_name": "LayoutModel",
      "_view_count": null,
      "_view_module": "@jupyter-widgets/base",
      "_view_module_version": "1.2.0",
      "_view_name": "LayoutView",
      "align_content": null,
      "align_items": null,
      "align_self": null,
      "border": null,
      "bottom": null,
      "display": null,
      "flex": null,
      "flex_flow": null,
      "grid_area": null,
      "grid_auto_columns": null,
      "grid_auto_flow": null,
      "grid_auto_rows": null,
      "grid_column": null,
      "grid_gap": null,
      "grid_row": null,
      "grid_template_areas": null,
      "grid_template_columns": null,
      "grid_template_rows": null,
      "height": null,
      "justify_content": null,
      "justify_items": null,
      "left": null,
      "margin": null,
      "max_height": null,
      "max_width": null,
      "min_height": null,
      "min_width": null,
      "object_fit": null,
      "object_position": null,
      "order": null,
      "overflow": null,
      "overflow_x": null,
      "overflow_y": null,
      "padding": null,
      "right": null,
      "top": null,
      "visibility": null,
      "width": "99%"
     }
    },
    "912d658b3689442b8d14a7907b8f1e81": {
     "model_module": "@jupyter-widgets/base",
     "model_module_version": "1.2.0",
     "model_name": "LayoutModel",
     "state": {
      "_model_module": "@jupyter-widgets/base",
      "_model_module_version": "1.2.0",
      "_model_name": "LayoutModel",
      "_view_count": null,
      "_view_module": "@jupyter-widgets/base",
      "_view_module_version": "1.2.0",
      "_view_name": "LayoutView",
      "align_content": null,
      "align_items": null,
      "align_self": null,
      "border": null,
      "bottom": null,
      "display": null,
      "flex": null,
      "flex_flow": null,
      "grid_area": null,
      "grid_auto_columns": null,
      "grid_auto_flow": null,
      "grid_auto_rows": null,
      "grid_column": null,
      "grid_gap": null,
      "grid_row": null,
      "grid_template_areas": null,
      "grid_template_columns": null,
      "grid_template_rows": null,
      "height": null,
      "justify_content": null,
      "justify_items": null,
      "left": null,
      "margin": null,
      "max_height": null,
      "max_width": null,
      "min_height": null,
      "min_width": null,
      "object_fit": null,
      "object_position": null,
      "order": null,
      "overflow": null,
      "overflow_x": null,
      "overflow_y": null,
      "padding": null,
      "right": null,
      "top": null,
      "visibility": null,
      "width": null
     }
    },
    "937e12a1d7fc42f389604ce435d06859": {
     "model_module": "@jupyter-widgets/base",
     "model_module_version": "1.2.0",
     "model_name": "LayoutModel",
     "state": {
      "_model_module": "@jupyter-widgets/base",
      "_model_module_version": "1.2.0",
      "_model_name": "LayoutModel",
      "_view_count": null,
      "_view_module": "@jupyter-widgets/base",
      "_view_module_version": "1.2.0",
      "_view_name": "LayoutView",
      "align_content": null,
      "align_items": null,
      "align_self": null,
      "border": null,
      "bottom": null,
      "display": null,
      "flex": null,
      "flex_flow": null,
      "grid_area": null,
      "grid_auto_columns": null,
      "grid_auto_flow": null,
      "grid_auto_rows": null,
      "grid_column": null,
      "grid_gap": null,
      "grid_row": null,
      "grid_template_areas": null,
      "grid_template_columns": null,
      "grid_template_rows": null,
      "height": null,
      "justify_content": null,
      "justify_items": null,
      "left": null,
      "margin": null,
      "max_height": null,
      "max_width": null,
      "min_height": null,
      "min_width": null,
      "object_fit": null,
      "object_position": null,
      "order": null,
      "overflow": null,
      "overflow_x": null,
      "overflow_y": null,
      "padding": null,
      "right": null,
      "top": null,
      "visibility": null,
      "width": null
     }
    },
    "959ed9fe2595409bb22345a3c9c9080c": {
     "model_module": "@jupyter-widgets/controls",
     "model_module_version": "1.5.0",
     "model_name": "ButtonModel",
     "state": {
      "_dom_classes": [],
      "_model_module": "@jupyter-widgets/controls",
      "_model_module_version": "1.5.0",
      "_model_name": "ButtonModel",
      "_view_count": null,
      "_view_module": "@jupyter-widgets/controls",
      "_view_module_version": "1.5.0",
      "_view_name": "ButtonView",
      "button_style": "",
      "description": "Save Answers",
      "disabled": false,
      "icon": "",
      "layout": "IPY_MODEL_eb5999ed75484a62b99365cd2cf5aae5",
      "style": "IPY_MODEL_32552ef4d7bb4ab2b4af719ddc834248",
      "tooltip": ""
     }
    },
    "967fa381763242f0926bd24b1fcd0788": {
     "model_module": "@jupyter-widgets/base",
     "model_module_version": "1.2.0",
     "model_name": "LayoutModel",
     "state": {
      "_model_module": "@jupyter-widgets/base",
      "_model_module_version": "1.2.0",
      "_model_name": "LayoutModel",
      "_view_count": null,
      "_view_module": "@jupyter-widgets/base",
      "_view_module_version": "1.2.0",
      "_view_name": "LayoutView",
      "align_content": null,
      "align_items": null,
      "align_self": null,
      "border": null,
      "bottom": null,
      "display": null,
      "flex": null,
      "flex_flow": null,
      "grid_area": null,
      "grid_auto_columns": null,
      "grid_auto_flow": null,
      "grid_auto_rows": null,
      "grid_column": null,
      "grid_gap": null,
      "grid_row": null,
      "grid_template_areas": null,
      "grid_template_columns": null,
      "grid_template_rows": null,
      "height": null,
      "justify_content": null,
      "justify_items": null,
      "left": null,
      "margin": null,
      "max_height": null,
      "max_width": null,
      "min_height": null,
      "min_width": null,
      "object_fit": null,
      "object_position": null,
      "order": null,
      "overflow": null,
      "overflow_x": null,
      "overflow_y": null,
      "padding": null,
      "right": null,
      "top": null,
      "visibility": null,
      "width": null
     }
    },
    "9996e241ed4a4bc0843772011afb0f47": {
     "model_module": "@jupyter-widgets/base",
     "model_module_version": "1.2.0",
     "model_name": "LayoutModel",
     "state": {
      "_model_module": "@jupyter-widgets/base",
      "_model_module_version": "1.2.0",
      "_model_name": "LayoutModel",
      "_view_count": null,
      "_view_module": "@jupyter-widgets/base",
      "_view_module_version": "1.2.0",
      "_view_name": "LayoutView",
      "align_content": null,
      "align_items": null,
      "align_self": null,
      "border": null,
      "bottom": null,
      "display": null,
      "flex": null,
      "flex_flow": null,
      "grid_area": null,
      "grid_auto_columns": null,
      "grid_auto_flow": null,
      "grid_auto_rows": null,
      "grid_column": null,
      "grid_gap": null,
      "grid_row": null,
      "grid_template_areas": null,
      "grid_template_columns": null,
      "grid_template_rows": null,
      "height": null,
      "justify_content": null,
      "justify_items": null,
      "left": null,
      "margin": null,
      "max_height": null,
      "max_width": null,
      "min_height": null,
      "min_width": null,
      "object_fit": null,
      "object_position": null,
      "order": null,
      "overflow": null,
      "overflow_x": null,
      "overflow_y": null,
      "padding": null,
      "right": null,
      "top": null,
      "visibility": null,
      "width": "99%"
     }
    },
    "99c087d22d8c440a9a04f9b1c0eae37d": {
     "model_module": "@jupyter-widgets/base",
     "model_module_version": "1.2.0",
     "model_name": "LayoutModel",
     "state": {
      "_model_module": "@jupyter-widgets/base",
      "_model_module_version": "1.2.0",
      "_model_name": "LayoutModel",
      "_view_count": null,
      "_view_module": "@jupyter-widgets/base",
      "_view_module_version": "1.2.0",
      "_view_name": "LayoutView",
      "align_content": null,
      "align_items": null,
      "align_self": null,
      "border": null,
      "bottom": null,
      "display": null,
      "flex": null,
      "flex_flow": null,
      "grid_area": null,
      "grid_auto_columns": null,
      "grid_auto_flow": null,
      "grid_auto_rows": null,
      "grid_column": null,
      "grid_gap": null,
      "grid_row": null,
      "grid_template_areas": null,
      "grid_template_columns": null,
      "grid_template_rows": null,
      "height": null,
      "justify_content": null,
      "justify_items": null,
      "left": null,
      "margin": null,
      "max_height": null,
      "max_width": null,
      "min_height": null,
      "min_width": null,
      "object_fit": null,
      "object_position": null,
      "order": null,
      "overflow": null,
      "overflow_x": null,
      "overflow_y": null,
      "padding": null,
      "right": null,
      "top": null,
      "visibility": null,
      "width": null
     }
    },
    "9dba10fab70f488383575f5c2dc591ca": {
     "model_module": "@jupyter-widgets/controls",
     "model_module_version": "1.5.0",
     "model_name": "ButtonModel",
     "state": {
      "_dom_classes": [],
      "_model_module": "@jupyter-widgets/controls",
      "_model_module_version": "1.5.0",
      "_model_name": "ButtonModel",
      "_view_count": null,
      "_view_module": "@jupyter-widgets/controls",
      "_view_module_version": "1.5.0",
      "_view_name": "ButtonView",
      "button_style": "",
      "description": "Save Answers",
      "disabled": false,
      "icon": "",
      "layout": "IPY_MODEL_dc36366200d649c2b6525454a1ca53f3",
      "style": "IPY_MODEL_455d543414bb407f80fc68d7012667b4",
      "tooltip": ""
     }
    },
    "a201e11aab804cb588bbc8f7d99840a2": {
     "model_module": "@jupyter-widgets/controls",
     "model_module_version": "1.5.0",
     "model_name": "LabelModel",
     "state": {
      "_dom_classes": [],
      "_model_module": "@jupyter-widgets/controls",
      "_model_module_version": "1.5.0",
      "_model_name": "LabelModel",
      "_view_count": null,
      "_view_module": "@jupyter-widgets/controls",
      "_view_module_version": "1.5.0",
      "_view_name": "LabelView",
      "description": "",
      "description_tooltip": null,
      "layout": "IPY_MODEL_d9d110fd3da349839a99d91a71439543",
      "placeholder": "​",
      "style": "IPY_MODEL_56f0b22810384f56a1922d838c3be152",
      "value": "Discuss the effects each split criterion had."
     }
    },
    "a223e84ea820457eb69503cd859d1f2f": {
     "model_module": "@jupyter-widgets/controls",
     "model_module_version": "1.5.0",
     "model_name": "TextareaModel",
     "state": {
      "_dom_classes": [],
      "_model_module": "@jupyter-widgets/controls",
      "_model_module_version": "1.5.0",
      "_model_name": "TextareaModel",
      "_view_count": null,
      "_view_module": "@jupyter-widgets/controls",
      "_view_module_version": "1.5.0",
      "_view_name": "TextareaView",
      "continuous_update": true,
      "description": "",
      "description_tooltip": null,
      "disabled": false,
      "layout": "IPY_MODEL_3473df29e36f45abb599d01b324a4d1a",
      "placeholder": "​",
      "rows": 2,
      "style": "IPY_MODEL_7a969b662a4e41629765424e60f6d444",
      "value": ""
     }
    },
    "a228cb836d394a93a0ff249263f1457b": {
     "model_module": "@jupyter-widgets/controls",
     "model_module_version": "1.5.0",
     "model_name": "LabelModel",
     "state": {
      "_dom_classes": [],
      "_model_module": "@jupyter-widgets/controls",
      "_model_module_version": "1.5.0",
      "_model_name": "LabelModel",
      "_view_count": null,
      "_view_module": "@jupyter-widgets/controls",
      "_view_module_version": "1.5.0",
      "_view_name": "LabelView",
      "description": "",
      "description_tooltip": null,
      "layout": "IPY_MODEL_0896e16c91ef40038398e48042f3e898",
      "placeholder": "​",
      "style": "IPY_MODEL_c9ddee44549d44febad221e40bff353b",
      "value": "Discuss your general findings."
     }
    },
    "a23aed8f383e44deb7ea55297a9e1d1a": {
     "model_module": "@jupyter-widgets/base",
     "model_module_version": "1.2.0",
     "model_name": "LayoutModel",
     "state": {
      "_model_module": "@jupyter-widgets/base",
      "_model_module_version": "1.2.0",
      "_model_name": "LayoutModel",
      "_view_count": null,
      "_view_module": "@jupyter-widgets/base",
      "_view_module_version": "1.2.0",
      "_view_name": "LayoutView",
      "align_content": null,
      "align_items": null,
      "align_self": null,
      "border": null,
      "bottom": null,
      "display": null,
      "flex": null,
      "flex_flow": null,
      "grid_area": null,
      "grid_auto_columns": null,
      "grid_auto_flow": null,
      "grid_auto_rows": null,
      "grid_column": null,
      "grid_gap": null,
      "grid_row": null,
      "grid_template_areas": null,
      "grid_template_columns": null,
      "grid_template_rows": null,
      "height": null,
      "justify_content": null,
      "justify_items": null,
      "left": null,
      "margin": null,
      "max_height": null,
      "max_width": null,
      "min_height": null,
      "min_width": null,
      "object_fit": null,
      "object_position": null,
      "order": null,
      "overflow": null,
      "overflow_x": null,
      "overflow_y": null,
      "padding": null,
      "right": null,
      "top": null,
      "visibility": null,
      "width": "99%"
     }
    },
    "a318b984c9ec46d4b15cb8370c28c334": {
     "model_module": "@jupyter-widgets/controls",
     "model_module_version": "1.5.0",
     "model_name": "DescriptionStyleModel",
     "state": {
      "_model_module": "@jupyter-widgets/controls",
      "_model_module_version": "1.5.0",
      "_model_name": "DescriptionStyleModel",
      "_view_count": null,
      "_view_module": "@jupyter-widgets/base",
      "_view_module_version": "1.2.0",
      "_view_name": "StyleView",
      "description_width": ""
     }
    },
    "a356d10f38994896b150f6e2146fe20f": {
     "model_module": "@jupyter-widgets/controls",
     "model_module_version": "1.5.0",
     "model_name": "DescriptionStyleModel",
     "state": {
      "_model_module": "@jupyter-widgets/controls",
      "_model_module_version": "1.5.0",
      "_model_name": "DescriptionStyleModel",
      "_view_count": null,
      "_view_module": "@jupyter-widgets/base",
      "_view_module_version": "1.2.0",
      "_view_name": "StyleView",
      "description_width": ""
     }
    },
    "a4d0b781961a4e54a8cf210d0d173670": {
     "model_module": "@jupyter-widgets/controls",
     "model_module_version": "1.5.0",
     "model_name": "TextareaModel",
     "state": {
      "_dom_classes": [],
      "_model_module": "@jupyter-widgets/controls",
      "_model_module_version": "1.5.0",
      "_model_name": "TextareaModel",
      "_view_count": null,
      "_view_module": "@jupyter-widgets/controls",
      "_view_module_version": "1.5.0",
      "_view_name": "TextareaView",
      "continuous_update": true,
      "description": "",
      "description_tooltip": null,
      "disabled": false,
      "layout": "IPY_MODEL_01eb9f0e42624f2eb44acf9420f7b219",
      "placeholder": "​",
      "rows": 2,
      "style": "IPY_MODEL_c96eb673d62241b693d6ea44b9c1b0fe",
      "value": ""
     }
    },
    "a80a343ef05b4303925e7b08fa1e0d93": {
     "model_module": "@jupyter-widgets/base",
     "model_module_version": "1.2.0",
     "model_name": "LayoutModel",
     "state": {
      "_model_module": "@jupyter-widgets/base",
      "_model_module_version": "1.2.0",
      "_model_name": "LayoutModel",
      "_view_count": null,
      "_view_module": "@jupyter-widgets/base",
      "_view_module_version": "1.2.0",
      "_view_name": "LayoutView",
      "align_content": null,
      "align_items": null,
      "align_self": null,
      "border": null,
      "bottom": null,
      "display": null,
      "flex": null,
      "flex_flow": null,
      "grid_area": null,
      "grid_auto_columns": null,
      "grid_auto_flow": null,
      "grid_auto_rows": null,
      "grid_column": null,
      "grid_gap": null,
      "grid_row": null,
      "grid_template_areas": null,
      "grid_template_columns": null,
      "grid_template_rows": null,
      "height": null,
      "justify_content": null,
      "justify_items": null,
      "left": null,
      "margin": null,
      "max_height": null,
      "max_width": null,
      "min_height": null,
      "min_width": null,
      "object_fit": null,
      "object_position": null,
      "order": null,
      "overflow": null,
      "overflow_x": null,
      "overflow_y": null,
      "padding": null,
      "right": null,
      "top": null,
      "visibility": null,
      "width": null
     }
    },
    "a9d7bb2adcae4c218fa402b1513e1017": {
     "model_module": "@jupyter-widgets/base",
     "model_module_version": "1.2.0",
     "model_name": "LayoutModel",
     "state": {
      "_model_module": "@jupyter-widgets/base",
      "_model_module_version": "1.2.0",
      "_model_name": "LayoutModel",
      "_view_count": null,
      "_view_module": "@jupyter-widgets/base",
      "_view_module_version": "1.2.0",
      "_view_name": "LayoutView",
      "align_content": null,
      "align_items": null,
      "align_self": null,
      "border": null,
      "bottom": null,
      "display": null,
      "flex": null,
      "flex_flow": null,
      "grid_area": null,
      "grid_auto_columns": null,
      "grid_auto_flow": null,
      "grid_auto_rows": null,
      "grid_column": null,
      "grid_gap": null,
      "grid_row": null,
      "grid_template_areas": null,
      "grid_template_columns": null,
      "grid_template_rows": null,
      "height": null,
      "justify_content": null,
      "justify_items": null,
      "left": null,
      "margin": null,
      "max_height": null,
      "max_width": null,
      "min_height": null,
      "min_width": null,
      "object_fit": null,
      "object_position": null,
      "order": null,
      "overflow": null,
      "overflow_x": null,
      "overflow_y": null,
      "padding": null,
      "right": null,
      "top": null,
      "visibility": null,
      "width": "99%"
     }
    },
    "abb643f883294f6c8c299cc66a7ac442": {
     "model_module": "@jupyter-widgets/base",
     "model_module_version": "1.2.0",
     "model_name": "LayoutModel",
     "state": {
      "_model_module": "@jupyter-widgets/base",
      "_model_module_version": "1.2.0",
      "_model_name": "LayoutModel",
      "_view_count": null,
      "_view_module": "@jupyter-widgets/base",
      "_view_module_version": "1.2.0",
      "_view_name": "LayoutView",
      "align_content": null,
      "align_items": null,
      "align_self": null,
      "border": null,
      "bottom": null,
      "display": null,
      "flex": null,
      "flex_flow": null,
      "grid_area": null,
      "grid_auto_columns": null,
      "grid_auto_flow": null,
      "grid_auto_rows": null,
      "grid_column": null,
      "grid_gap": null,
      "grid_row": null,
      "grid_template_areas": null,
      "grid_template_columns": null,
      "grid_template_rows": null,
      "height": null,
      "justify_content": null,
      "justify_items": null,
      "left": null,
      "margin": null,
      "max_height": null,
      "max_width": null,
      "min_height": null,
      "min_width": null,
      "object_fit": null,
      "object_position": null,
      "order": null,
      "overflow": null,
      "overflow_x": null,
      "overflow_y": null,
      "padding": null,
      "right": null,
      "top": null,
      "visibility": null,
      "width": null
     }
    },
    "b03dbc654d86450590a706b8b26285af": {
     "model_module": "@jupyter-widgets/controls",
     "model_module_version": "1.5.0",
     "model_name": "LabelModel",
     "state": {
      "_dom_classes": [],
      "_model_module": "@jupyter-widgets/controls",
      "_model_module_version": "1.5.0",
      "_model_name": "LabelModel",
      "_view_count": null,
      "_view_module": "@jupyter-widgets/controls",
      "_view_module_version": "1.5.0",
      "_view_name": "LabelView",
      "description": "",
      "description_tooltip": null,
      "layout": "IPY_MODEL_d424c0df4dcd4dd58225b54bf33dfb19",
      "placeholder": "​",
      "style": "IPY_MODEL_17f9c8e55c554a39860085c6858e5b85",
      "value": "Discuss what you learned about overfit."
     }
    },
    "b03ee0372a7c4359952e90e383afac6e": {
     "model_module": "@jupyter-widgets/controls",
     "model_module_version": "1.5.0",
     "model_name": "VBoxModel",
     "state": {
      "_dom_classes": [],
      "_model_module": "@jupyter-widgets/controls",
      "_model_module_version": "1.5.0",
      "_model_name": "VBoxModel",
      "_view_count": null,
      "_view_module": "@jupyter-widgets/controls",
      "_view_module_version": "1.5.0",
      "_view_name": "VBoxView",
      "box_style": "",
      "children": [
       "IPY_MODEL_f452c6b66c194d9da1b812c326d84684",
       "IPY_MODEL_efa00317f8e741c0bda03283e80363e9"
      ],
      "layout": "IPY_MODEL_4120503eafa64eeea8f2c792a3166c19"
     }
    },
    "b323c76b0a8f41109a233d84793ead88": {
     "model_module": "@jupyter-widgets/controls",
     "model_module_version": "1.5.0",
     "model_name": "TextareaModel",
     "state": {
      "_dom_classes": [],
      "_model_module": "@jupyter-widgets/controls",
      "_model_module_version": "1.5.0",
      "_model_name": "TextareaModel",
      "_view_count": null,
      "_view_module": "@jupyter-widgets/controls",
      "_view_module_version": "1.5.0",
      "_view_name": "TextareaView",
      "continuous_update": true,
      "description": "",
      "description_tooltip": null,
      "disabled": false,
      "layout": "IPY_MODEL_0bd08490500c41e4ae2b682a1ddd232d",
      "placeholder": "​",
      "rows": 2,
      "style": "IPY_MODEL_ecfe341cc8a74b46a9c889647f2f9ac8",
      "value": ""
     }
    },
    "b62824f9c77244e4b1b6d35dd1c4b751": {
     "model_module": "@jupyter-widgets/controls",
     "model_module_version": "1.5.0",
     "model_name": "VBoxModel",
     "state": {
      "_dom_classes": [],
      "_model_module": "@jupyter-widgets/controls",
      "_model_module_version": "1.5.0",
      "_model_name": "VBoxModel",
      "_view_count": null,
      "_view_module": "@jupyter-widgets/controls",
      "_view_module_version": "1.5.0",
      "_view_name": "VBoxView",
      "box_style": "",
      "children": [
       "IPY_MODEL_d7e5a659e73d4e2f997a1fc56e96d51d",
       "IPY_MODEL_a4d0b781961a4e54a8cf210d0d173670"
      ],
      "layout": "IPY_MODEL_658e115e22794ac4b85d3c4a4f1e92e3"
     }
    },
    "b742d223a7844b5396c4bdb3923b1fb7": {
     "model_module": "@jupyter-widgets/base",
     "model_module_version": "1.2.0",
     "model_name": "LayoutModel",
     "state": {
      "_model_module": "@jupyter-widgets/base",
      "_model_module_version": "1.2.0",
      "_model_name": "LayoutModel",
      "_view_count": null,
      "_view_module": "@jupyter-widgets/base",
      "_view_module_version": "1.2.0",
      "_view_name": "LayoutView",
      "align_content": null,
      "align_items": null,
      "align_self": null,
      "border": null,
      "bottom": null,
      "display": null,
      "flex": null,
      "flex_flow": null,
      "grid_area": null,
      "grid_auto_columns": null,
      "grid_auto_flow": null,
      "grid_auto_rows": null,
      "grid_column": null,
      "grid_gap": null,
      "grid_row": null,
      "grid_template_areas": null,
      "grid_template_columns": null,
      "grid_template_rows": null,
      "height": null,
      "justify_content": null,
      "justify_items": null,
      "left": null,
      "margin": null,
      "max_height": null,
      "max_width": null,
      "min_height": null,
      "min_width": null,
      "object_fit": null,
      "object_position": null,
      "order": null,
      "overflow": null,
      "overflow_x": null,
      "overflow_y": null,
      "padding": null,
      "right": null,
      "top": null,
      "visibility": null,
      "width": null
     }
    },
    "bfad9afff7aa4ce5ae9f2afdb507b305": {
     "model_module": "@jupyter-widgets/controls",
     "model_module_version": "1.5.0",
     "model_name": "ButtonStyleModel",
     "state": {
      "_model_module": "@jupyter-widgets/controls",
      "_model_module_version": "1.5.0",
      "_model_name": "ButtonStyleModel",
      "_view_count": null,
      "_view_module": "@jupyter-widgets/base",
      "_view_module_version": "1.2.0",
      "_view_name": "StyleView",
      "button_color": null,
      "font_weight": ""
     }
    },
    "c1e1d6f4ed0544dfb245c86d82d4e805": {
     "model_module": "@jupyter-widgets/base",
     "model_module_version": "1.2.0",
     "model_name": "LayoutModel",
     "state": {
      "_model_module": "@jupyter-widgets/base",
      "_model_module_version": "1.2.0",
      "_model_name": "LayoutModel",
      "_view_count": null,
      "_view_module": "@jupyter-widgets/base",
      "_view_module_version": "1.2.0",
      "_view_name": "LayoutView",
      "align_content": null,
      "align_items": null,
      "align_self": null,
      "border": null,
      "bottom": null,
      "display": null,
      "flex": null,
      "flex_flow": null,
      "grid_area": null,
      "grid_auto_columns": null,
      "grid_auto_flow": null,
      "grid_auto_rows": null,
      "grid_column": null,
      "grid_gap": null,
      "grid_row": null,
      "grid_template_areas": null,
      "grid_template_columns": null,
      "grid_template_rows": null,
      "height": null,
      "justify_content": null,
      "justify_items": null,
      "left": null,
      "margin": null,
      "max_height": null,
      "max_width": null,
      "min_height": null,
      "min_width": null,
      "object_fit": null,
      "object_position": null,
      "order": null,
      "overflow": null,
      "overflow_x": null,
      "overflow_y": null,
      "padding": null,
      "right": null,
      "top": null,
      "visibility": null,
      "width": "99%"
     }
    },
    "c3550a36ec714f90bf2c38546697f15f": {
     "model_module": "@jupyter-widgets/base",
     "model_module_version": "1.2.0",
     "model_name": "LayoutModel",
     "state": {
      "_model_module": "@jupyter-widgets/base",
      "_model_module_version": "1.2.0",
      "_model_name": "LayoutModel",
      "_view_count": null,
      "_view_module": "@jupyter-widgets/base",
      "_view_module_version": "1.2.0",
      "_view_name": "LayoutView",
      "align_content": null,
      "align_items": null,
      "align_self": null,
      "border": null,
      "bottom": null,
      "display": null,
      "flex": null,
      "flex_flow": null,
      "grid_area": null,
      "grid_auto_columns": null,
      "grid_auto_flow": null,
      "grid_auto_rows": null,
      "grid_column": null,
      "grid_gap": null,
      "grid_row": null,
      "grid_template_areas": null,
      "grid_template_columns": null,
      "grid_template_rows": null,
      "height": null,
      "justify_content": null,
      "justify_items": null,
      "left": null,
      "margin": null,
      "max_height": null,
      "max_width": null,
      "min_height": null,
      "min_width": null,
      "object_fit": null,
      "object_position": null,
      "order": null,
      "overflow": null,
      "overflow_x": null,
      "overflow_y": null,
      "padding": null,
      "right": null,
      "top": null,
      "visibility": null,
      "width": null
     }
    },
    "c49aa35ed0794b6484268b9d42c484d3": {
     "model_module": "@jupyter-widgets/controls",
     "model_module_version": "1.5.0",
     "model_name": "ButtonModel",
     "state": {
      "_dom_classes": [],
      "_model_module": "@jupyter-widgets/controls",
      "_model_module_version": "1.5.0",
      "_model_name": "ButtonModel",
      "_view_count": null,
      "_view_module": "@jupyter-widgets/controls",
      "_view_module_version": "1.5.0",
      "_view_name": "ButtonView",
      "button_style": "",
      "description": "Save Answers",
      "disabled": false,
      "icon": "",
      "layout": "IPY_MODEL_76579d9aacbc40998f3823ece66be559",
      "style": "IPY_MODEL_50b7d9646f81477b81fac30ea63feb89",
      "tooltip": ""
     }
    },
    "c96eb673d62241b693d6ea44b9c1b0fe": {
     "model_module": "@jupyter-widgets/controls",
     "model_module_version": "1.5.0",
     "model_name": "DescriptionStyleModel",
     "state": {
      "_model_module": "@jupyter-widgets/controls",
      "_model_module_version": "1.5.0",
      "_model_name": "DescriptionStyleModel",
      "_view_count": null,
      "_view_module": "@jupyter-widgets/base",
      "_view_module_version": "1.2.0",
      "_view_name": "StyleView",
      "description_width": ""
     }
    },
    "c9ddee44549d44febad221e40bff353b": {
     "model_module": "@jupyter-widgets/controls",
     "model_module_version": "1.5.0",
     "model_name": "DescriptionStyleModel",
     "state": {
      "_model_module": "@jupyter-widgets/controls",
      "_model_module_version": "1.5.0",
      "_model_name": "DescriptionStyleModel",
      "_view_count": null,
      "_view_module": "@jupyter-widgets/base",
      "_view_module_version": "1.2.0",
      "_view_name": "StyleView",
      "description_width": ""
     }
    },
    "cd0d80446e0b4709b3dea5fbab3342c4": {
     "model_module": "@jupyter-widgets/controls",
     "model_module_version": "1.5.0",
     "model_name": "ButtonModel",
     "state": {
      "_dom_classes": [],
      "_model_module": "@jupyter-widgets/controls",
      "_model_module_version": "1.5.0",
      "_model_name": "ButtonModel",
      "_view_count": null,
      "_view_module": "@jupyter-widgets/controls",
      "_view_module_version": "1.5.0",
      "_view_name": "ButtonView",
      "button_style": "",
      "description": "Save Answers",
      "disabled": false,
      "icon": "",
      "layout": "IPY_MODEL_092d1d1fcb3f4cf59a43793210705d7a",
      "style": "IPY_MODEL_f8a95a4861f346419b00d6f873d4abaf",
      "tooltip": ""
     }
    },
    "cd9041a27a8847c7b7bc33962436ea4f": {
     "model_module": "@jupyter-widgets/controls",
     "model_module_version": "1.5.0",
     "model_name": "VBoxModel",
     "state": {
      "_dom_classes": [],
      "_model_module": "@jupyter-widgets/controls",
      "_model_module_version": "1.5.0",
      "_model_name": "VBoxModel",
      "_view_count": null,
      "_view_module": "@jupyter-widgets/controls",
      "_view_module_version": "1.5.0",
      "_view_name": "VBoxView",
      "box_style": "",
      "children": [
       "IPY_MODEL_12236568517e4c9e84f4538eab9cd655",
       "IPY_MODEL_00212f22131c4afa8ae8744aa6894455"
      ],
      "layout": "IPY_MODEL_912d658b3689442b8d14a7907b8f1e81"
     }
    },
    "cef36abd312a4dedbc92ddb2b1dcb0c3": {
     "model_module": "@jupyter-widgets/controls",
     "model_module_version": "1.5.0",
     "model_name": "TextareaModel",
     "state": {
      "_dom_classes": [],
      "_model_module": "@jupyter-widgets/controls",
      "_model_module_version": "1.5.0",
      "_model_name": "TextareaModel",
      "_view_count": null,
      "_view_module": "@jupyter-widgets/controls",
      "_view_module_version": "1.5.0",
      "_view_name": "TextareaView",
      "continuous_update": true,
      "description": "",
      "description_tooltip": null,
      "disabled": false,
      "layout": "IPY_MODEL_a9d7bb2adcae4c218fa402b1513e1017",
      "placeholder": "​",
      "rows": 2,
      "style": "IPY_MODEL_19f16f0d90ce4f7dabe188323fb9f1d0",
      "value": ""
     }
    },
    "d424c0df4dcd4dd58225b54bf33dfb19": {
     "model_module": "@jupyter-widgets/base",
     "model_module_version": "1.2.0",
     "model_name": "LayoutModel",
     "state": {
      "_model_module": "@jupyter-widgets/base",
      "_model_module_version": "1.2.0",
      "_model_name": "LayoutModel",
      "_view_count": null,
      "_view_module": "@jupyter-widgets/base",
      "_view_module_version": "1.2.0",
      "_view_name": "LayoutView",
      "align_content": null,
      "align_items": null,
      "align_self": null,
      "border": null,
      "bottom": null,
      "display": null,
      "flex": null,
      "flex_flow": null,
      "grid_area": null,
      "grid_auto_columns": null,
      "grid_auto_flow": null,
      "grid_auto_rows": null,
      "grid_column": null,
      "grid_gap": null,
      "grid_row": null,
      "grid_template_areas": null,
      "grid_template_columns": null,
      "grid_template_rows": null,
      "height": null,
      "justify_content": null,
      "justify_items": null,
      "left": null,
      "margin": null,
      "max_height": null,
      "max_width": null,
      "min_height": null,
      "min_width": null,
      "object_fit": null,
      "object_position": null,
      "order": null,
      "overflow": null,
      "overflow_x": null,
      "overflow_y": null,
      "padding": null,
      "right": null,
      "top": null,
      "visibility": null,
      "width": null
     }
    },
    "d4d292fa37de4e24b1e5dd7df7c1f436": {
     "model_module": "@jupyter-widgets/controls",
     "model_module_version": "1.5.0",
     "model_name": "LabelModel",
     "state": {
      "_dom_classes": [],
      "_model_module": "@jupyter-widgets/controls",
      "_model_module_version": "1.5.0",
      "_model_name": "LabelModel",
      "_view_count": null,
      "_view_module": "@jupyter-widgets/controls",
      "_view_module_version": "1.5.0",
      "_view_name": "LabelView",
      "description": "",
      "description_tooltip": null,
      "layout": "IPY_MODEL_b742d223a7844b5396c4bdb3923b1fb7",
      "placeholder": "​",
      "style": "IPY_MODEL_8d83741aa95c46cda1968f1c0c38bc0f",
      "value": "Include a general discussion about what you did/learned above."
     }
    },
    "d67b68fb3bbb4360bb86fe3d0b8d21aa": {
     "model_module": "@jupyter-widgets/controls",
     "model_module_version": "1.5.0",
     "model_name": "ButtonStyleModel",
     "state": {
      "_model_module": "@jupyter-widgets/controls",
      "_model_module_version": "1.5.0",
      "_model_name": "ButtonStyleModel",
      "_view_count": null,
      "_view_module": "@jupyter-widgets/base",
      "_view_module_version": "1.2.0",
      "_view_name": "StyleView",
      "button_color": null,
      "font_weight": ""
     }
    },
    "d712d49ff06b4a8b89313a47c04637ec": {
     "model_module": "@jupyter-widgets/controls",
     "model_module_version": "1.5.0",
     "model_name": "DescriptionStyleModel",
     "state": {
      "_model_module": "@jupyter-widgets/controls",
      "_model_module_version": "1.5.0",
      "_model_name": "DescriptionStyleModel",
      "_view_count": null,
      "_view_module": "@jupyter-widgets/base",
      "_view_module_version": "1.2.0",
      "_view_name": "StyleView",
      "description_width": ""
     }
    },
    "d7e5a659e73d4e2f997a1fc56e96d51d": {
     "model_module": "@jupyter-widgets/controls",
     "model_module_version": "1.5.0",
     "model_name": "LabelModel",
     "state": {
      "_dom_classes": [],
      "_model_module": "@jupyter-widgets/controls",
      "_model_module_version": "1.5.0",
      "_model_name": "LabelModel",
      "_view_count": null,
      "_view_module": "@jupyter-widgets/controls",
      "_view_module_version": "1.5.0",
      "_view_name": "LabelView",
      "description": "",
      "description_tooltip": null,
      "layout": "IPY_MODEL_8b7de9d5e18546dc956849ef430bbf54",
      "placeholder": "​",
      "style": "IPY_MODEL_3f4b203aca734ababb4e70b6a75de468",
      "value": "What did the Decision Tree learn about the Cars dataset?"
     }
    },
    "d9d110fd3da349839a99d91a71439543": {
     "model_module": "@jupyter-widgets/base",
     "model_module_version": "1.2.0",
     "model_name": "LayoutModel",
     "state": {
      "_model_module": "@jupyter-widgets/base",
      "_model_module_version": "1.2.0",
      "_model_name": "LayoutModel",
      "_view_count": null,
      "_view_module": "@jupyter-widgets/base",
      "_view_module_version": "1.2.0",
      "_view_name": "LayoutView",
      "align_content": null,
      "align_items": null,
      "align_self": null,
      "border": null,
      "bottom": null,
      "display": null,
      "flex": null,
      "flex_flow": null,
      "grid_area": null,
      "grid_auto_columns": null,
      "grid_auto_flow": null,
      "grid_auto_rows": null,
      "grid_column": null,
      "grid_gap": null,
      "grid_row": null,
      "grid_template_areas": null,
      "grid_template_columns": null,
      "grid_template_rows": null,
      "height": null,
      "justify_content": null,
      "justify_items": null,
      "left": null,
      "margin": null,
      "max_height": null,
      "max_width": null,
      "min_height": null,
      "min_width": null,
      "object_fit": null,
      "object_position": null,
      "order": null,
      "overflow": null,
      "overflow_x": null,
      "overflow_y": null,
      "padding": null,
      "right": null,
      "top": null,
      "visibility": null,
      "width": null
     }
    },
    "dae416c13a72467da912e0bba5f65f2f": {
     "model_module": "@jupyter-widgets/controls",
     "model_module_version": "1.5.0",
     "model_name": "ButtonStyleModel",
     "state": {
      "_model_module": "@jupyter-widgets/controls",
      "_model_module_version": "1.5.0",
      "_model_name": "ButtonStyleModel",
      "_view_count": null,
      "_view_module": "@jupyter-widgets/base",
      "_view_module_version": "1.2.0",
      "_view_name": "StyleView",
      "button_color": null,
      "font_weight": ""
     }
    },
    "db4f1f05404d4ac688f20100c095af53": {
     "model_module": "@jupyter-widgets/controls",
     "model_module_version": "1.5.0",
     "model_name": "LabelModel",
     "state": {
      "_dom_classes": [],
      "_model_module": "@jupyter-widgets/controls",
      "_model_module_version": "1.5.0",
      "_model_name": "LabelModel",
      "_view_count": null,
      "_view_module": "@jupyter-widgets/controls",
      "_view_module_version": "1.5.0",
      "_view_name": "LabelView",
      "description": "",
      "description_tooltip": null,
      "layout": "IPY_MODEL_3ef33f11936c4baf9b4d8ddf02df5eff",
      "placeholder": "​",
      "style": "IPY_MODEL_eaf35a2111b34e7ab9be5094d7b09ed9",
      "value": "Include a general discussion about what you did/learned by implementing your own C4.5 Decission Tree."
     }
    },
    "db8d5d5d153849bdac52dfa5193ccbbe": {
     "model_module": "@jupyter-widgets/controls",
     "model_module_version": "1.5.0",
     "model_name": "DescriptionStyleModel",
     "state": {
      "_model_module": "@jupyter-widgets/controls",
      "_model_module_version": "1.5.0",
      "_model_name": "DescriptionStyleModel",
      "_view_count": null,
      "_view_module": "@jupyter-widgets/base",
      "_view_module_version": "1.2.0",
      "_view_name": "StyleView",
      "description_width": ""
     }
    },
    "dba4a77e2b5148cd8a41c6e486ca9129": {
     "model_module": "@jupyter-widgets/controls",
     "model_module_version": "1.5.0",
     "model_name": "DescriptionStyleModel",
     "state": {
      "_model_module": "@jupyter-widgets/controls",
      "_model_module_version": "1.5.0",
      "_model_name": "DescriptionStyleModel",
      "_view_count": null,
      "_view_module": "@jupyter-widgets/base",
      "_view_module_version": "1.2.0",
      "_view_name": "StyleView",
      "description_width": ""
     }
    },
    "dc36366200d649c2b6525454a1ca53f3": {
     "model_module": "@jupyter-widgets/base",
     "model_module_version": "1.2.0",
     "model_name": "LayoutModel",
     "state": {
      "_model_module": "@jupyter-widgets/base",
      "_model_module_version": "1.2.0",
      "_model_name": "LayoutModel",
      "_view_count": null,
      "_view_module": "@jupyter-widgets/base",
      "_view_module_version": "1.2.0",
      "_view_name": "LayoutView",
      "align_content": null,
      "align_items": null,
      "align_self": null,
      "border": null,
      "bottom": null,
      "display": null,
      "flex": null,
      "flex_flow": null,
      "grid_area": null,
      "grid_auto_columns": null,
      "grid_auto_flow": null,
      "grid_auto_rows": null,
      "grid_column": null,
      "grid_gap": null,
      "grid_row": null,
      "grid_template_areas": null,
      "grid_template_columns": null,
      "grid_template_rows": null,
      "height": null,
      "justify_content": null,
      "justify_items": null,
      "left": null,
      "margin": null,
      "max_height": null,
      "max_width": null,
      "min_height": null,
      "min_width": null,
      "object_fit": null,
      "object_position": null,
      "order": null,
      "overflow": null,
      "overflow_x": null,
      "overflow_y": null,
      "padding": null,
      "right": null,
      "top": null,
      "visibility": null,
      "width": null
     }
    },
    "dd4e08564b954a0e8d1e0258b0637690": {
     "model_module": "@jupyter-widgets/controls",
     "model_module_version": "1.5.0",
     "model_name": "ButtonModel",
     "state": {
      "_dom_classes": [],
      "_model_module": "@jupyter-widgets/controls",
      "_model_module_version": "1.5.0",
      "_model_name": "ButtonModel",
      "_view_count": null,
      "_view_module": "@jupyter-widgets/controls",
      "_view_module_version": "1.5.0",
      "_view_name": "ButtonView",
      "button_style": "",
      "description": "Save Answers",
      "disabled": false,
      "icon": "",
      "layout": "IPY_MODEL_44679409f9de41148fba105e60243bd8",
      "style": "IPY_MODEL_bfad9afff7aa4ce5ae9f2afdb507b305",
      "tooltip": ""
     }
    },
    "e5944f0553bc4dc2beeef74b5c6d2f0d": {
     "model_module": "@jupyter-widgets/controls",
     "model_module_version": "1.5.0",
     "model_name": "LabelModel",
     "state": {
      "_dom_classes": [],
      "_model_module": "@jupyter-widgets/controls",
      "_model_module_version": "1.5.0",
      "_model_name": "LabelModel",
      "_view_count": null,
      "_view_module": "@jupyter-widgets/controls",
      "_view_module_version": "1.5.0",
      "_view_name": "LabelView",
      "description": "",
      "description_tooltip": null,
      "layout": "IPY_MODEL_f08c1d6ee70d4096a77fe9b563ae7dc4",
      "placeholder": "​",
      "style": "IPY_MODEL_f5ed89a6a3eb42ea8418bf71b534864f",
      "value": "Did you adjust any hyperparameters to achieve a greater testing accuracy?"
     }
    },
    "e5bbf1be57b045f1af8e04f5df11b356": {
     "model_module": "@jupyter-widgets/controls",
     "model_module_version": "1.5.0",
     "model_name": "VBoxModel",
     "state": {
      "_dom_classes": [],
      "_model_module": "@jupyter-widgets/controls",
      "_model_module_version": "1.5.0",
      "_model_name": "VBoxModel",
      "_view_count": null,
      "_view_module": "@jupyter-widgets/controls",
      "_view_module_version": "1.5.0",
      "_view_name": "VBoxView",
      "box_style": "",
      "children": [
       "IPY_MODEL_138639ae04f2426c8c14badb86176f05",
       "IPY_MODEL_2ca1bd225d334fe6933028613f2d70e5"
      ],
      "layout": "IPY_MODEL_937e12a1d7fc42f389604ce435d06859"
     }
    },
    "e9ba103104434e11a79b1af7ab2d0864": {
     "model_module": "@jupyter-widgets/controls",
     "model_module_version": "1.5.0",
     "model_name": "TextareaModel",
     "state": {
      "_dom_classes": [],
      "_model_module": "@jupyter-widgets/controls",
      "_model_module_version": "1.5.0",
      "_model_name": "TextareaModel",
      "_view_count": null,
      "_view_module": "@jupyter-widgets/controls",
      "_view_module_version": "1.5.0",
      "_view_name": "TextareaView",
      "continuous_update": true,
      "description": "",
      "description_tooltip": null,
      "disabled": false,
      "layout": "IPY_MODEL_a23aed8f383e44deb7ea55297a9e1d1a",
      "placeholder": "​",
      "rows": 2,
      "style": "IPY_MODEL_6d2ae1e29c40479e8ea54a927ffe9db5",
      "value": ""
     }
    },
    "eaf35a2111b34e7ab9be5094d7b09ed9": {
     "model_module": "@jupyter-widgets/controls",
     "model_module_version": "1.5.0",
     "model_name": "DescriptionStyleModel",
     "state": {
      "_model_module": "@jupyter-widgets/controls",
      "_model_module_version": "1.5.0",
      "_model_name": "DescriptionStyleModel",
      "_view_count": null,
      "_view_module": "@jupyter-widgets/base",
      "_view_module_version": "1.2.0",
      "_view_name": "StyleView",
      "description_width": ""
     }
    },
    "eb4292734671422b9c6d72df75e25af3": {
     "model_module": "@jupyter-widgets/controls",
     "model_module_version": "1.5.0",
     "model_name": "DescriptionStyleModel",
     "state": {
      "_model_module": "@jupyter-widgets/controls",
      "_model_module_version": "1.5.0",
      "_model_name": "DescriptionStyleModel",
      "_view_count": null,
      "_view_module": "@jupyter-widgets/base",
      "_view_module_version": "1.2.0",
      "_view_name": "StyleView",
      "description_width": ""
     }
    },
    "eb5999ed75484a62b99365cd2cf5aae5": {
     "model_module": "@jupyter-widgets/base",
     "model_module_version": "1.2.0",
     "model_name": "LayoutModel",
     "state": {
      "_model_module": "@jupyter-widgets/base",
      "_model_module_version": "1.2.0",
      "_model_name": "LayoutModel",
      "_view_count": null,
      "_view_module": "@jupyter-widgets/base",
      "_view_module_version": "1.2.0",
      "_view_name": "LayoutView",
      "align_content": null,
      "align_items": null,
      "align_self": null,
      "border": null,
      "bottom": null,
      "display": null,
      "flex": null,
      "flex_flow": null,
      "grid_area": null,
      "grid_auto_columns": null,
      "grid_auto_flow": null,
      "grid_auto_rows": null,
      "grid_column": null,
      "grid_gap": null,
      "grid_row": null,
      "grid_template_areas": null,
      "grid_template_columns": null,
      "grid_template_rows": null,
      "height": null,
      "justify_content": null,
      "justify_items": null,
      "left": null,
      "margin": null,
      "max_height": null,
      "max_width": null,
      "min_height": null,
      "min_width": null,
      "object_fit": null,
      "object_position": null,
      "order": null,
      "overflow": null,
      "overflow_x": null,
      "overflow_y": null,
      "padding": null,
      "right": null,
      "top": null,
      "visibility": null,
      "width": null
     }
    },
    "ecfe341cc8a74b46a9c889647f2f9ac8": {
     "model_module": "@jupyter-widgets/controls",
     "model_module_version": "1.5.0",
     "model_name": "DescriptionStyleModel",
     "state": {
      "_model_module": "@jupyter-widgets/controls",
      "_model_module_version": "1.5.0",
      "_model_name": "DescriptionStyleModel",
      "_view_count": null,
      "_view_module": "@jupyter-widgets/base",
      "_view_module_version": "1.2.0",
      "_view_name": "StyleView",
      "description_width": ""
     }
    },
    "ed1a5cd4e34946f4b53923e95bf5713b": {
     "model_module": "@jupyter-widgets/base",
     "model_module_version": "1.2.0",
     "model_name": "LayoutModel",
     "state": {
      "_model_module": "@jupyter-widgets/base",
      "_model_module_version": "1.2.0",
      "_model_name": "LayoutModel",
      "_view_count": null,
      "_view_module": "@jupyter-widgets/base",
      "_view_module_version": "1.2.0",
      "_view_name": "LayoutView",
      "align_content": null,
      "align_items": null,
      "align_self": null,
      "border": null,
      "bottom": null,
      "display": null,
      "flex": null,
      "flex_flow": null,
      "grid_area": null,
      "grid_auto_columns": null,
      "grid_auto_flow": null,
      "grid_auto_rows": null,
      "grid_column": null,
      "grid_gap": null,
      "grid_row": null,
      "grid_template_areas": null,
      "grid_template_columns": null,
      "grid_template_rows": null,
      "height": null,
      "justify_content": null,
      "justify_items": null,
      "left": null,
      "margin": null,
      "max_height": null,
      "max_width": null,
      "min_height": null,
      "min_width": null,
      "object_fit": null,
      "object_position": null,
      "order": null,
      "overflow": null,
      "overflow_x": null,
      "overflow_y": null,
      "padding": null,
      "right": null,
      "top": null,
      "visibility": null,
      "width": null
     }
    },
    "efa00317f8e741c0bda03283e80363e9": {
     "model_module": "@jupyter-widgets/controls",
     "model_module_version": "1.5.0",
     "model_name": "TextareaModel",
     "state": {
      "_dom_classes": [],
      "_model_module": "@jupyter-widgets/controls",
      "_model_module_version": "1.5.0",
      "_model_name": "TextareaModel",
      "_view_count": null,
      "_view_module": "@jupyter-widgets/controls",
      "_view_module_version": "1.5.0",
      "_view_name": "TextareaView",
      "continuous_update": true,
      "description": "",
      "description_tooltip": null,
      "disabled": false,
      "layout": "IPY_MODEL_f425897c5e8f48f1b4319aba57dd2fb7",
      "placeholder": "​",
      "rows": 2,
      "style": "IPY_MODEL_a356d10f38994896b150f6e2146fe20f",
      "value": ""
     }
    },
    "f084819c70ce4e16acbcba09ef44cddd": {
     "model_module": "@jupyter-widgets/controls",
     "model_module_version": "1.5.0",
     "model_name": "TextareaModel",
     "state": {
      "_dom_classes": [],
      "_model_module": "@jupyter-widgets/controls",
      "_model_module_version": "1.5.0",
      "_model_name": "TextareaModel",
      "_view_count": null,
      "_view_module": "@jupyter-widgets/controls",
      "_view_module_version": "1.5.0",
      "_view_name": "TextareaView",
      "continuous_update": true,
      "description": "",
      "description_tooltip": null,
      "disabled": false,
      "layout": "IPY_MODEL_34e687ce1a294d959a8387efdb8e008a",
      "placeholder": "​",
      "rows": 2,
      "style": "IPY_MODEL_68c42583782546b1ada70a14df4c2663",
      "value": ""
     }
    },
    "f08c1d6ee70d4096a77fe9b563ae7dc4": {
     "model_module": "@jupyter-widgets/base",
     "model_module_version": "1.2.0",
     "model_name": "LayoutModel",
     "state": {
      "_model_module": "@jupyter-widgets/base",
      "_model_module_version": "1.2.0",
      "_model_name": "LayoutModel",
      "_view_count": null,
      "_view_module": "@jupyter-widgets/base",
      "_view_module_version": "1.2.0",
      "_view_name": "LayoutView",
      "align_content": null,
      "align_items": null,
      "align_self": null,
      "border": null,
      "bottom": null,
      "display": null,
      "flex": null,
      "flex_flow": null,
      "grid_area": null,
      "grid_auto_columns": null,
      "grid_auto_flow": null,
      "grid_auto_rows": null,
      "grid_column": null,
      "grid_gap": null,
      "grid_row": null,
      "grid_template_areas": null,
      "grid_template_columns": null,
      "grid_template_rows": null,
      "height": null,
      "justify_content": null,
      "justify_items": null,
      "left": null,
      "margin": null,
      "max_height": null,
      "max_width": null,
      "min_height": null,
      "min_width": null,
      "object_fit": null,
      "object_position": null,
      "order": null,
      "overflow": null,
      "overflow_x": null,
      "overflow_y": null,
      "padding": null,
      "right": null,
      "top": null,
      "visibility": null,
      "width": null
     }
    },
    "f3838589770045929d1f19b05c37303e": {
     "model_module": "@jupyter-widgets/base",
     "model_module_version": "1.2.0",
     "model_name": "LayoutModel",
     "state": {
      "_model_module": "@jupyter-widgets/base",
      "_model_module_version": "1.2.0",
      "_model_name": "LayoutModel",
      "_view_count": null,
      "_view_module": "@jupyter-widgets/base",
      "_view_module_version": "1.2.0",
      "_view_name": "LayoutView",
      "align_content": null,
      "align_items": null,
      "align_self": null,
      "border": null,
      "bottom": null,
      "display": null,
      "flex": null,
      "flex_flow": null,
      "grid_area": null,
      "grid_auto_columns": null,
      "grid_auto_flow": null,
      "grid_auto_rows": null,
      "grid_column": null,
      "grid_gap": null,
      "grid_row": null,
      "grid_template_areas": null,
      "grid_template_columns": null,
      "grid_template_rows": null,
      "height": null,
      "justify_content": null,
      "justify_items": null,
      "left": null,
      "margin": null,
      "max_height": null,
      "max_width": null,
      "min_height": null,
      "min_width": null,
      "object_fit": null,
      "object_position": null,
      "order": null,
      "overflow": null,
      "overflow_x": null,
      "overflow_y": null,
      "padding": null,
      "right": null,
      "top": null,
      "visibility": null,
      "width": null
     }
    },
    "f425897c5e8f48f1b4319aba57dd2fb7": {
     "model_module": "@jupyter-widgets/base",
     "model_module_version": "1.2.0",
     "model_name": "LayoutModel",
     "state": {
      "_model_module": "@jupyter-widgets/base",
      "_model_module_version": "1.2.0",
      "_model_name": "LayoutModel",
      "_view_count": null,
      "_view_module": "@jupyter-widgets/base",
      "_view_module_version": "1.2.0",
      "_view_name": "LayoutView",
      "align_content": null,
      "align_items": null,
      "align_self": null,
      "border": null,
      "bottom": null,
      "display": null,
      "flex": null,
      "flex_flow": null,
      "grid_area": null,
      "grid_auto_columns": null,
      "grid_auto_flow": null,
      "grid_auto_rows": null,
      "grid_column": null,
      "grid_gap": null,
      "grid_row": null,
      "grid_template_areas": null,
      "grid_template_columns": null,
      "grid_template_rows": null,
      "height": null,
      "justify_content": null,
      "justify_items": null,
      "left": null,
      "margin": null,
      "max_height": null,
      "max_width": null,
      "min_height": null,
      "min_width": null,
      "object_fit": null,
      "object_position": null,
      "order": null,
      "overflow": null,
      "overflow_x": null,
      "overflow_y": null,
      "padding": null,
      "right": null,
      "top": null,
      "visibility": null,
      "width": "99%"
     }
    },
    "f452c6b66c194d9da1b812c326d84684": {
     "model_module": "@jupyter-widgets/controls",
     "model_module_version": "1.5.0",
     "model_name": "LabelModel",
     "state": {
      "_dom_classes": [],
      "_model_module": "@jupyter-widgets/controls",
      "_model_module_version": "1.5.0",
      "_model_name": "LabelModel",
      "_view_count": null,
      "_view_module": "@jupyter-widgets/controls",
      "_view_module_version": "1.5.0",
      "_view_name": "LabelView",
      "description": "",
      "description_tooltip": null,
      "layout": "IPY_MODEL_25843a8f2821499dae6984561d365bdf",
      "placeholder": "​",
      "style": "IPY_MODEL_db8d5d5d153849bdac52dfa5193ccbbe",
      "value": "What did the Decision Tree learn about the Voting dataset?"
     }
    },
    "f5ed89a6a3eb42ea8418bf71b534864f": {
     "model_module": "@jupyter-widgets/controls",
     "model_module_version": "1.5.0",
     "model_name": "DescriptionStyleModel",
     "state": {
      "_model_module": "@jupyter-widgets/controls",
      "_model_module_version": "1.5.0",
      "_model_name": "DescriptionStyleModel",
      "_view_count": null,
      "_view_module": "@jupyter-widgets/base",
      "_view_module_version": "1.2.0",
      "_view_name": "StyleView",
      "description_width": ""
     }
    },
    "f8a95a4861f346419b00d6f873d4abaf": {
     "model_module": "@jupyter-widgets/controls",
     "model_module_version": "1.5.0",
     "model_name": "ButtonStyleModel",
     "state": {
      "_model_module": "@jupyter-widgets/controls",
      "_model_module_version": "1.5.0",
      "_model_name": "ButtonStyleModel",
      "_view_count": null,
      "_view_module": "@jupyter-widgets/base",
      "_view_module_version": "1.2.0",
      "_view_name": "StyleView",
      "button_color": null,
      "font_weight": ""
     }
    },
    "fd0dc2129eee436ca222107914ff133e": {
     "model_module": "@jupyter-widgets/controls",
     "model_module_version": "1.5.0",
     "model_name": "DescriptionStyleModel",
     "state": {
      "_model_module": "@jupyter-widgets/controls",
      "_model_module_version": "1.5.0",
      "_model_name": "DescriptionStyleModel",
      "_view_count": null,
      "_view_module": "@jupyter-widgets/base",
      "_view_module_version": "1.2.0",
      "_view_name": "StyleView",
      "description_width": ""
     }
    }
   }
  }
 },
 "nbformat": 4,
 "nbformat_minor": 1
}
