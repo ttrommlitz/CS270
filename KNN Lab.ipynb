{
 "cells": [
  {
   "cell_type": "markdown",
   "metadata": {
    "id": "DVL7_bgmIAPR"
   },
   "source": [
    "# K-Nearest Neighbor Lab\n",
    "Read over the sklearn info on [nearest neighbor learners](https://scikit-learn.org/stable/modules/neighbors.html#nearest-neighbors-classification)\n",
    "\n",
    "\n"
   ]
  },
  {
   "cell_type": "code",
   "execution_count": 2,
   "metadata": {
    "id": "6ZbYjZZZ_yLV"
   },
   "outputs": [],
   "source": [
    "from sklearn.neighbors import KNeighborsClassifier, KNeighborsRegressor\n",
    "import numpy as np\n",
    "import pandas as pd\n",
    "from scipy.io import arff\n",
    "import matplotlib.pyplot as plt\n",
    "from sklearn.model_selection import train_test_split\n",
    "from CS270Boi.discussion270 import Discussion\n",
    "import urllib.request"
   ]
  },
  {
   "cell_type": "markdown",
   "metadata": {},
   "source": [
    "## 1.0 (0%) Set `net_id` to Your NetID"
   ]
  },
  {
   "cell_type": "code",
   "execution_count": 3,
   "metadata": {},
   "outputs": [],
   "source": [
    "# This should match your BYU email.\n",
    "# For example, if my BYU email were jake270@byu.edu, I would set net_id to \"jake270\"\n",
    "\n",
    "net_id = \"ttromm6\""
   ]
  },
  {
   "cell_type": "markdown",
   "metadata": {},
   "source": [
    "# --------------------_Make sure to run all of the cells before continuing_--------------------\n",
    "### The discussions and text box are loaded in by running the cell associated with the discussion.\n",
    "### If you experience any problems/errors with the discussions, please send Jake Cahoon (TA) a message on Discord :)"
   ]
  },
  {
   "cell_type": "markdown",
   "metadata": {},
   "source": [
    "## 1 K-Nearest Neighbor (KNN) algorithm\n",
    "\n",
    "### 1.1 (15%) Basic KNN Classification\n",
    "\n",
    "Learn the [Glass data set](https://archive.ics.uci.edu/dataset/42/glass+identification) using [KNeighborsClassifier](https://scikit-learn.org/stable/modules/generated/sklearn.neighbors.KNeighborsClassifier.html#sklearn.neighbors.KNeighborsClassifier) with default parameters.\n",
    "- Randomly split your data into train/test.  Anytime we don't tell you specifics (such as what percentage is train vs test) choose your own reasonable values\n",
    "- Give typical train and test set accuracies after running with different random splits\n",
    "- Print the output probabilities for a test set (predict_proba)\n",
    "- Try it with different p values (Minkowskian exponent) and discuss any differences"
   ]
  },
  {
   "cell_type": "code",
   "execution_count": 4,
   "metadata": {},
   "outputs": [
    {
     "name": "stdout",
     "output_type": "stream",
     "text": [
      "+-----------+--------------------+---------------------+--------------------+\n",
      "|   p-value |   train test split |   training accuracy |   testing accuracy |\n",
      "+===========+====================+=====================+====================+\n",
      "|         1 |               0.15 |            0.79558  |           0.757576 |\n",
      "+-----------+--------------------+---------------------+--------------------+\n",
      "|         1 |               0.2  |            0.783626 |           0.767442 |\n",
      "+-----------+--------------------+---------------------+--------------------+\n",
      "|         1 |               0.25 |            0.775    |           0.722222 |\n",
      "+-----------+--------------------+---------------------+--------------------+\n",
      "+-----------+--------------------+---------------------+--------------------+\n",
      "|   p-value |   train test split |   training accuracy |   testing accuracy |\n",
      "+===========+====================+=====================+====================+\n",
      "|         2 |               0.15 |            0.740331 |           0.757576 |\n",
      "+-----------+--------------------+---------------------+--------------------+\n",
      "|         2 |               0.2  |            0.748538 |           0.72093  |\n",
      "+-----------+--------------------+---------------------+--------------------+\n",
      "|         2 |               0.25 |            0.73125  |           0.722222 |\n",
      "+-----------+--------------------+---------------------+--------------------+\n",
      "+-----------+--------------------+---------------------+--------------------+\n",
      "|   p-value |   train test split |   training accuracy |   testing accuracy |\n",
      "+===========+====================+=====================+====================+\n",
      "|         3 |               0.15 |            0.756906 |           0.727273 |\n",
      "+-----------+--------------------+---------------------+--------------------+\n",
      "|         3 |               0.2  |            0.74269  |           0.697674 |\n",
      "+-----------+--------------------+---------------------+--------------------+\n",
      "|         3 |               0.25 |            0.73125  |           0.703704 |\n",
      "+-----------+--------------------+---------------------+--------------------+\n",
      "Output probabilities:  [[0.  0.  0.  0.6 0.4 0. ]\n",
      " [0.  0.  0.  0.  0.  1. ]\n",
      " [0.  0.6 0.  0.4 0.  0. ]\n",
      " [0.  0.8 0.  0.2 0.  0. ]\n",
      " [0.4 0.2 0.2 0.  0.  0.2]\n",
      " [1.  0.  0.  0.  0.  0. ]\n",
      " [0.2 0.6 0.2 0.  0.  0. ]\n",
      " [0.6 0.2 0.2 0.  0.  0. ]\n",
      " [0.6 0.4 0.  0.  0.  0. ]\n",
      " [1.  0.  0.  0.  0.  0. ]\n",
      " [0.  1.  0.  0.  0.  0. ]\n",
      " [0.8 0.  0.2 0.  0.  0. ]\n",
      " [0.2 0.8 0.  0.  0.  0. ]\n",
      " [1.  0.  0.  0.  0.  0. ]\n",
      " [0.4 0.  0.4 0.  0.  0.2]\n",
      " [0.  0.8 0.  0.2 0.  0. ]\n",
      " [0.6 0.4 0.  0.  0.  0. ]\n",
      " [0.8 0.2 0.  0.  0.  0. ]\n",
      " [0.6 0.  0.4 0.  0.  0. ]\n",
      " [0.8 0.  0.2 0.  0.  0. ]\n",
      " [0.8 0.2 0.  0.  0.  0. ]\n",
      " [0.  0.  0.  0.  0.  1. ]\n",
      " [0.2 0.8 0.  0.  0.  0. ]\n",
      " [1.  0.  0.  0.  0.  0. ]\n",
      " [0.4 0.2 0.2 0.  0.  0.2]\n",
      " [0.6 0.2 0.2 0.  0.  0. ]\n",
      " [0.2 0.8 0.  0.  0.  0. ]\n",
      " [0.  1.  0.  0.  0.  0. ]\n",
      " [0.4 0.4 0.2 0.  0.  0. ]\n",
      " [0.8 0.  0.2 0.  0.  0. ]\n",
      " [0.  0.  0.  0.8 0.2 0. ]\n",
      " [0.  0.2 0.  0.  0.4 0.4]\n",
      " [1.  0.  0.  0.  0.  0. ]\n",
      " [1.  0.  0.  0.  0.  0. ]\n",
      " [0.6 0.2 0.2 0.  0.  0. ]\n",
      " [0.4 0.6 0.  0.  0.  0. ]\n",
      " [0.6 0.2 0.2 0.  0.  0. ]\n",
      " [0.6 0.2 0.2 0.  0.  0. ]\n",
      " [0.  0.2 0.  0.6 0.2 0. ]\n",
      " [1.  0.  0.  0.  0.  0. ]\n",
      " [1.  0.  0.  0.  0.  0. ]\n",
      " [0.  0.  0.  0.  0.  1. ]\n",
      " [0.  0.  0.  0.  0.  1. ]]\n"
     ]
    }
   ],
   "source": [
    "# Learn the glass data\n",
    "from ucimlrepo import fetch_ucirepo \n",
    "from tabulate import tabulate\n",
    "glass_identification = fetch_ucirepo(id=42) \n",
    "\n",
    "X = glass_identification.data.features.values\n",
    "y = glass_identification.data.targets.values.ravel()\n",
    "\n",
    "table_headers = [\"p-value\", \"train test split\", \"training accuracy\", \"testing accuracy\"]\n",
    "results = []\n",
    "\n",
    "splits = [.15, .2, .25]\n",
    "\n",
    "\n",
    "for split in splits:\n",
    "    clf = KNeighborsClassifier(p=1)\n",
    "    X_train, X_test, y_train, y_test = train_test_split(X, y, test_size=split, random_state=1)\n",
    "    clf.fit(X_train, y_train)\n",
    "    results.append([1, split, clf.score(X_train, y_train), clf.score(X_test, y_test)])\n",
    "\n",
    "print(tabulate(results, headers=table_headers, tablefmt=\"grid\"))\n",
    "\n",
    "results = []\n",
    "for split in splits:\n",
    "    clf = KNeighborsClassifier(p=2)\n",
    "    X_train, X_test, y_train, y_test = train_test_split(X, y, test_size=split, random_state=1)\n",
    "    clf.fit(X_train, y_train)\n",
    "    results.append([2, split, clf.score(X_train, y_train), clf.score(X_test, y_test)])\n",
    "\n",
    "print(tabulate(results, headers=table_headers, tablefmt=\"grid\"))\n",
    "\n",
    "results = []\n",
    "for split in splits:\n",
    "    clf = KNeighborsClassifier(p=3)\n",
    "    X_train, X_test, y_train, y_test = train_test_split(X, y, test_size=split, random_state=1)\n",
    "    clf.fit(X_train, y_train)\n",
    "    results.append([3, split, clf.score(X_train, y_train), clf.score(X_test, y_test)])\n",
    "\n",
    "print(tabulate(results, headers=table_headers, tablefmt=\"grid\"))\n",
    "\n",
    "\n",
    "# predict_proba for a test set\n",
    "clf = KNeighborsClassifier()\n",
    "X_train, X_test, y_train, y_test = train_test_split(X, y, test_size=.2, random_state=1)\n",
    "clf.fit(X_train, y_train)\n",
    "print('Output probabilities: ', clf.predict_proba(X_test))"
   ]
  },
  {
   "cell_type": "code",
   "execution_count": 5,
   "metadata": {},
   "outputs": [
    {
     "data": {
      "application/vnd.jupyter.widget-view+json": {
       "model_id": "fd64b3136845404c9ccb288fd8889513",
       "version_major": 2,
       "version_minor": 0
      },
      "text/plain": [
       "VBox(children=(Label(value='Include a general discussion about what you did/learned above.'), Textarea(value=\"…"
      ]
     },
     "metadata": {},
     "output_type": "display_data"
    },
    {
     "data": {
      "application/vnd.jupyter.widget-view+json": {
       "model_id": "034d9ce4773b4f76959ff349c9676ad2",
       "version_major": 2,
       "version_minor": 0
      },
      "text/plain": [
       "Button(description='Save Answers', style=ButtonStyle())"
      ]
     },
     "metadata": {},
     "output_type": "display_data"
    },
    {
     "data": {
      "text/markdown": [
       "**Include a general discussion about what you did/learned above.**\n",
       "\n",
       "The p value represents the minkowski exponent, which is used for calculating distances. p=1 corresponds to the Manhattan distance (sum of distances), p=2 corresponds to the Euclidean distance (square root of sum of distances), and p=3 is the cubed root of the sum of distances. I ran the classifier for p values of 1, 2, and 3, along with test train splits of .15, .2, and .25. The training and testing accuracy results are in the tables above. p values of 1 and 2 had similar performances to each other across the 3 train-test splits in the testing accuracy, while p=1 had slightly higher training accuracies. A p value of 3 performed similarly in training accuracy to p=2 but slightly worse in testing accuracy, dropping by about 3% across each train-test split. This may mean that a higher p value leads to slightly more overfit for this dataset. In general, independent of the split, a p value of 1 is best for this dataset because it as the highest training accuracies and is about tied for the highest testing accuracies. In particular, a good train-test split would be .2 because that had the highest testing accuracy when p=1. \n",
       "\n",
       "I calculated the predict-proba probabilities on a test set when using default hyperparameters (k=5, p=2) and a train-test split of .2. These represent the probabilities of a given instance being predicted as each output class. There are 6 possible classes, so each instance has 6 different probabilities that sum to 1. When examinining the probabilities, there are a few instances that the model was very uncertain about, where the highest probability was only .4. Instances such as these are probably why the model's testing accuracies were in the .70s."
      ],
      "text/plain": [
       "<IPython.core.display.Markdown object>"
      ]
     },
     "metadata": {},
     "output_type": "display_data"
    }
   ],
   "source": [
    "# @title 1.1 Discussion { display-mode: \"form\" }\n",
    "# PLEASE DO NOT ALTER THIS CODE\n",
    "if net_id == \"\":\n",
    "  raise Exception(\"You need to set your net_id, silly goose.\")\n",
    "discussion_id = \"1.1KNN\"\n",
    "questions = [\"Include a general discussion about what you did/learned above.\"]\n",
    "Discussion(discussion_id, questions, net_id); pass"
   ]
  },
  {
   "cell_type": "markdown",
   "metadata": {
    "id": "9vWiTdlbR2Xh"
   },
   "source": [
    "## 2 KNN Classification with normalization and distance weighting\n",
    "\n",
    "Use the [magic telescope](https://axon.cs.byu.edu/data/uci_class/MagicTelescope.arff) dataset\n",
    "\n",
    "### 2.1 (5%) - Without Normalization or Distance Weighting\n",
    "- Do random 80/20 train/test splits each time\n",
    "- Run with k=3 and *without* distance weighting and *without* normalization\n",
    "- Show train and test set accuracy"
   ]
  },
  {
   "cell_type": "code",
   "execution_count": 6,
   "metadata": {
    "id": "4SSoasDQSKXb"
   },
   "outputs": [
    {
     "name": "stdout",
     "output_type": "stream",
     "text": [
      "Training Accuracy: 0.8861067297581493\n",
      "Testing Accuracy: 0.7970557308096741\n"
     ]
    }
   ],
   "source": [
    "# Learn magic telescope data\n",
    "magic_gamma_telescope = fetch_ucirepo(id=159)\n",
    "X = magic_gamma_telescope.data.features.values \n",
    "y = magic_gamma_telescope.data.targets.values.ravel()\n",
    "\n",
    "clf = KNeighborsClassifier(n_neighbors=3)\n",
    "X_train, X_test, y_train, y_test = train_test_split(X, y, test_size=0.2, random_state=1)\n",
    "\n",
    "clf.fit(X_train, y_train)\n",
    "print('Training Accuracy:', clf.score(X_train, y_train))\n",
    "print('Testing Accuracy:', clf.score(X_test, y_test))"
   ]
  },
  {
   "cell_type": "code",
   "execution_count": 7,
   "metadata": {},
   "outputs": [
    {
     "data": {
      "application/vnd.jupyter.widget-view+json": {
       "model_id": "bbc57d2f95d64fa3a63635d9fc48bb79",
       "version_major": 2,
       "version_minor": 0
      },
      "text/plain": [
       "VBox(children=(Label(value='Include a general discussion about what you did/learned above.'), Textarea(value='…"
      ]
     },
     "metadata": {},
     "output_type": "display_data"
    },
    {
     "data": {
      "application/vnd.jupyter.widget-view+json": {
       "model_id": "f7840b9c4f944f1e82f9bffc4404d7a8",
       "version_major": 2,
       "version_minor": 0
      },
      "text/plain": [
       "Button(description='Save Answers', style=ButtonStyle())"
      ]
     },
     "metadata": {},
     "output_type": "display_data"
    },
    {
     "data": {
      "text/markdown": [
       "**Include a general discussion about what you did/learned above.**\n",
       "\n",
       "I used no input normalization and no distance weighting with k=3. The model gave a .89 training accuracy and a .80 testing accuracy. These are relatively good accuacies, but there is room for improvement, especially in the testing accuracy. This shows that preprocessing data and tuning hyperparameters is important, because defaults can lead to lower scores, as they did in this case.  "
      ],
      "text/plain": [
       "<IPython.core.display.Markdown object>"
      ]
     },
     "metadata": {},
     "output_type": "display_data"
    }
   ],
   "source": [
    "# @title 2.1 Discussion { display-mode: \"form\" }\n",
    "# PLEASE DO NOT ALTER THIS CODE\n",
    "if net_id == \"\":\n",
    "  raise Exception(\"You need to set your net_id, silly goose.\")\n",
    "discussion_id = \"2.1KNN\"\n",
    "questions = [\"Include a general discussion about what you did/learned above.\"]\n",
    "Discussion(discussion_id, questions, net_id); pass"
   ]
  },
  {
   "cell_type": "markdown",
   "metadata": {},
   "source": [
    "### 2.2 (10%) With Normalization\n",
    "- Try it with k=3 without distance weighting but *with* normalization of input features.  You may use any reasonable normalization approach (e.g. standard min-max normalization between 0-1, z-transform, etc.)"
   ]
  },
  {
   "cell_type": "code",
   "execution_count": 8,
   "metadata": {},
   "outputs": [
    {
     "name": "stdout",
     "output_type": "stream",
     "text": [
      "Training Accuracy: 0.9070057833859095\n",
      "Testing Accuracy: 0.8314931650893796\n"
     ]
    }
   ],
   "source": [
    "# Train/Predict with normalization\n",
    "from sklearn.preprocessing import StandardScaler\n",
    "\n",
    "magic_gamma_telescope = fetch_ucirepo(id=159)\n",
    "X = magic_gamma_telescope.data.features.values\n",
    "y = magic_gamma_telescope.data.targets.values.ravel()\n",
    "\n",
    "scaler = StandardScaler()\n",
    "X = scaler.fit_transform(X)\n",
    "\n",
    "clf = KNeighborsClassifier(n_neighbors=3)\n",
    "X_train, X_test, y_train, y_test = train_test_split(X, y, test_size=0.2, random_state=1)\n",
    "\n",
    "clf.fit(X_train, y_train)\n",
    "print('Training Accuracy:', clf.score(X_train, y_train))\n",
    "print('Testing Accuracy:', clf.score(X_test, y_test))\n"
   ]
  },
  {
   "cell_type": "code",
   "execution_count": 9,
   "metadata": {},
   "outputs": [
    {
     "data": {
      "application/vnd.jupyter.widget-view+json": {
       "model_id": "f2d9ec9f853445fd840fe1a1b7126ee2",
       "version_major": 2,
       "version_minor": 0
      },
      "text/plain": [
       "VBox(children=(Label(value='Discuss the results of using normalized data vs. unnormalized data.'), Textarea(va…"
      ]
     },
     "metadata": {},
     "output_type": "display_data"
    },
    {
     "data": {
      "application/vnd.jupyter.widget-view+json": {
       "model_id": "f73814d939a54382a23ffce7a4d8f442",
       "version_major": 2,
       "version_minor": 0
      },
      "text/plain": [
       "VBox(children=(Label(value='Why is it a good idea to normalize data before using KNN?'), Textarea(value='It is…"
      ]
     },
     "metadata": {},
     "output_type": "display_data"
    },
    {
     "data": {
      "application/vnd.jupyter.widget-view+json": {
       "model_id": "6f2f1deb46024758ad1d1d134fb05846",
       "version_major": 2,
       "version_minor": 0
      },
      "text/plain": [
       "Button(description='Save Answers', style=ButtonStyle())"
      ]
     },
     "metadata": {},
     "output_type": "display_data"
    },
    {
     "data": {
      "text/markdown": [
       "**Discuss the results of using normalized data vs. unnormalized data.**\n",
       "\n",
       "I normalized by scaling the features according to their z-score (standardization). When using unnormalized data, we got a training accuracy of .89 and a testing accuracy of .80. When using normalized data, we got a training accuracy of .91 and a testing accuracy of .83. Because accuracy scores increased for both training and testing data, normalizing the data beforehand shows clear benefits and is not a result of overfit or any other effect.  "
      ],
      "text/plain": [
       "<IPython.core.display.Markdown object>"
      ]
     },
     "metadata": {},
     "output_type": "display_data"
    },
    {
     "data": {
      "text/markdown": [
       "**Why is it a good idea to normalize data before using KNN?**\n",
       "\n",
       "It is smart to normalize data before KNN so that features with different units or scale are not unduly rewarded or penalized when calculating their distance. A feature with very large numbers (such as the mass of a planet) would be artificially penalized with a large distance away because its number is so large. We should normalize input data so that when calculating distance to discover the k-nearest neighbors, all features are considered equally."
      ],
      "text/plain": [
       "<IPython.core.display.Markdown object>"
      ]
     },
     "metadata": {},
     "output_type": "display_data"
    }
   ],
   "source": [
    "# @title 2.2 Discussion { display-mode: \"form\" }\n",
    "# PLEASE DO NOT ALTER THIS CODE\n",
    "if net_id == \"\":\n",
    "  raise Exception(\"You need to set your net_id, silly goose.\")\n",
    "discussion_id = \"2.2KNN\"\n",
    "questions = [\"Discuss the results of using normalized data vs. unnormalized data.\", \"Why is it a good idea to normalize data before using KNN?\"]\n",
    "Discussion(discussion_id, questions, net_id); pass"
   ]
  },
  {
   "cell_type": "markdown",
   "metadata": {},
   "source": [
    "### 2.3 (10%) With Distance Weighting\n",
    "- Try it with k=3 and with distance weighting *and* normalization"
   ]
  },
  {
   "cell_type": "code",
   "execution_count": 10,
   "metadata": {},
   "outputs": [
    {
     "name": "stdout",
     "output_type": "stream",
     "text": [
      "Training Accuracy: 1.0\n",
      "Testing Accuracy: 0.8333333333333334\n"
     ]
    }
   ],
   "source": [
    "#Train/Precdict with normalization and distance weighting\n",
    "from sklearn.preprocessing import StandardScaler\n",
    "\n",
    "magic_gamma_telescope = fetch_ucirepo(id=159)\n",
    "X = magic_gamma_telescope.data.features.values\n",
    "y = magic_gamma_telescope.data.targets.values.ravel()\n",
    "\n",
    "scaler = StandardScaler()\n",
    "X = scaler.fit_transform(X)\n",
    "\n",
    "clf = KNeighborsClassifier(n_neighbors=3, weights='distance')\n",
    "X_train, X_test, y_train, y_test = train_test_split(X, y, test_size=0.2, random_state=1)\n",
    "\n",
    "clf.fit(X_train, y_train)\n",
    "print('Training Accuracy:', clf.score(X_train, y_train))\n",
    "print('Testing Accuracy:', clf.score(X_test, y_test))"
   ]
  },
  {
   "cell_type": "code",
   "execution_count": 11,
   "metadata": {},
   "outputs": [
    {
     "data": {
      "application/vnd.jupyter.widget-view+json": {
       "model_id": "623894ebc4f94d4dbe623e95941c4737",
       "version_major": 2,
       "version_minor": 0
      },
      "text/plain": [
       "VBox(children=(Label(value='How did the results change when you used distance weighting?'), Textarea(value=\"Wh…"
      ]
     },
     "metadata": {},
     "output_type": "display_data"
    },
    {
     "data": {
      "application/vnd.jupyter.widget-view+json": {
       "model_id": "60490c8c8f814ad8ad4beef2ac49cceb",
       "version_major": 2,
       "version_minor": 0
      },
      "text/plain": [
       "Button(description='Save Answers', style=ButtonStyle())"
      ]
     },
     "metadata": {},
     "output_type": "display_data"
    },
    {
     "data": {
      "text/markdown": [
       "**How did the results change when you used distance weighting?**\n",
       "\n",
       "When using inverse-squared distance weighting, our training accuracy jumped up to 1.0 and our testing accuracy stayed at .83. I do not think that this is a sign of overfit because the testing accuracy did not decrease, so I believe that this is still an overall improvement due to the jump in training accuracy. I'm not sure why the inclusion of distance weighting affected training accuracy so much but not testing accuracy. My hypothesis is that the dataset is not complex enough to benefit heavily from distance weighting, and the default of uniform weighting is already capturing the best possible testing accuracy for KNN. "
      ],
      "text/plain": [
       "<IPython.core.display.Markdown object>"
      ]
     },
     "metadata": {},
     "output_type": "display_data"
    }
   ],
   "source": [
    "# @title 2.3 Discussion { display-mode: \"form\" }\n",
    "# PLEASE DO NOT ALTER THIS CODE\n",
    "if net_id == \"\":\n",
    "  raise Exception(\"You need to set your net_id, silly goose.\")\n",
    "discussion_id = \"2.3KNN\"\n",
    "questions = [\"How did the results change when you used distance weighting?\"]\n",
    "Discussion(discussion_id, questions, net_id); pass"
   ]
  },
  {
   "cell_type": "markdown",
   "metadata": {},
   "source": [
    "### 2.4 (10%) Different k Values\n",
    "- Using your normalized data with distance weighting, create one graph with classification accuracy on the test set on the y-axis and k values on the x-axis.\n",
    "- Use values of k from 1 to 15.  Use the same train/test split for each. "
   ]
  },
  {
   "cell_type": "code",
   "execution_count": 24,
   "metadata": {},
   "outputs": [
    {
     "name": "stdout",
     "output_type": "stream",
     "text": [
      "Best k value: 14\n",
      "Best accuracy: 0.8427970557308097\n"
     ]
    },
    {
     "data": {
      "text/plain": [
       "Text(0.5, 1.0, 'Classification Accuracy vs k value')"
      ]
     },
     "execution_count": 24,
     "metadata": {},
     "output_type": "execute_result"
    },
    {
     "data": {
      "image/png": "[encoded data removed]",
      "text/plain": [
       "<Figure size 640x480 with 1 Axes>"
      ]
     },
     "metadata": {},
     "output_type": "display_data"
    }
   ],
   "source": [
    "# Calculate and Graph classification accuracy vs k values\n",
    "from sklearn.preprocessing import StandardScaler\n",
    "\n",
    "magic_gamma_telescope = fetch_ucirepo(id=159)\n",
    "X = magic_gamma_telescope.data.features.values\n",
    "y = magic_gamma_telescope.data.targets.values.ravel()\n",
    "\n",
    "scaler = StandardScaler()\n",
    "X = scaler.fit_transform(X)\n",
    "\n",
    "X_train, X_test, y_train, y_test = train_test_split(X, y, test_size=0.2, random_state=1)\n",
    "\n",
    "k_values = range(1, 16)\n",
    "testing_accuracies = []\n",
    "\n",
    "best_k = 0\n",
    "best_accuracy = 0\n",
    "\n",
    "for k in k_values:\n",
    "    clf = KNeighborsClassifier(n_neighbors=k, weights='distance')\n",
    "    clf.fit(X_train, y_train)\n",
    "    testing_accuracies.append(clf.score(X_test, y_test))\n",
    "    if clf.score(X_test, y_test) > best_accuracy:\n",
    "        best_accuracy = clf.score(X_test, y_test)\n",
    "        best_k = k\n",
    "  \n",
    "print('Best k value:', best_k)\n",
    "print('Best accuracy:', best_accuracy)\n",
    "plt.plot(k_values, testing_accuracies)\n",
    "plt.xlabel('k value')\n",
    "plt.ylabel('Testing Accuracy')\n",
    "plt.title('Classification Accuracy vs k value')"
   ]
  },
  {
   "cell_type": "code",
   "execution_count": 13,
   "metadata": {},
   "outputs": [
    {
     "data": {
      "application/vnd.jupyter.widget-view+json": {
       "model_id": "7bd2dacd1d0e41a49d370071d79b10f3",
       "version_major": 2,
       "version_minor": 0
      },
      "text/plain": [
       "VBox(children=(Label(value='Which is the best k value for the `magic_telescope` dataset?'), Textarea(value=\"Th…"
      ]
     },
     "metadata": {},
     "output_type": "display_data"
    },
    {
     "data": {
      "application/vnd.jupyter.widget-view+json": {
       "model_id": "10fae871ccec4e9287a260c739b614f8",
       "version_major": 2,
       "version_minor": 0
      },
      "text/plain": [
       "VBox(children=(Label(value='Interpret/describe your graph.'), Textarea(value='From k=1, to k=15, the graph ten…"
      ]
     },
     "metadata": {},
     "output_type": "display_data"
    },
    {
     "data": {
      "application/vnd.jupyter.widget-view+json": {
       "model_id": "f8f3f9d6f83a4c1b8821df538d4e563e",
       "version_major": 2,
       "version_minor": 0
      },
      "text/plain": [
       "Button(description='Save Answers', style=ButtonStyle())"
      ]
     },
     "metadata": {},
     "output_type": "display_data"
    },
    {
     "data": {
      "text/markdown": [
       "**Which is the best k value for the `magic_telescope` dataset?**\n",
       "\n",
       "The best k value for the magic_telescope dataset that I found was k=14, with a testing accuracy of .843. I am surprised that a higher k value was the best option. Generally, higher k values lead to underfit in the model because the generated neighborhoods of classes become larger. I think that the reason that a higher k value is the best for this dataset is likely because the data is complex enough that many neighboring nodes are required to accurately predict a given instance's class. "
      ],
      "text/plain": [
       "<IPython.core.display.Markdown object>"
      ]
     },
     "metadata": {},
     "output_type": "display_data"
    },
    {
     "data": {
      "text/markdown": [
       "**Interpret/describe your graph.**\n",
       "\n",
       "From k=1, to k=15, the graph tends to be trending upwards in testing accuracy, meaning that testing accuracies are improving as k gets large. However, from about k=9 and up, it looks like the graph is becoming stagnant, with little improvement in testing accuracies. My hypothesis is that if we were to try k values above 15 (perhaps up to 20 or 30), we would begin to see testing accuracies decrease as the model would begin to underfit the data. "
      ],
      "text/plain": [
       "<IPython.core.display.Markdown object>"
      ]
     },
     "metadata": {},
     "output_type": "display_data"
    }
   ],
   "source": [
    "# @title 2.4 Discussion { display-mode: \"form\" }\n",
    "# PLEASE DO NOT ALTER THIS CODE\n",
    "if net_id == \"\":\n",
    "  raise Exception(\"You need to set your net_id, silly goose.\")\n",
    "discussion_id = \"2.4KNN\"\n",
    "questions = [\"Which is the best k value for the `magic_telescope` dataset?\", \"Interpret/describe your graph.\"]\n",
    "Discussion(discussion_id, questions, net_id); pass"
   ]
  },
  {
   "cell_type": "markdown",
   "metadata": {
    "id": "SIRG42TgSR4x"
   },
   "source": [
    "## 3 KNN Regression with normalization and distance weighting\n",
    "\n",
    "Use the [sklean KNeighborsRegressor](https://scikit-learn.org/stable/modules/generated/sklearn.neighbors.KNeighborsRegressor.html#sklearn.neighbors.KNeighborsRegressor) on the [housing price prediction](https://axon.cs.byu.edu/data/uci_regression/housing.arff) problem.  \n",
    "### 3.1 (5%) Ethical Data\n",
    "Note this data set has an example of an inappropriate input feature which we discussed.  State which feature is inappropriate and discuss why."
   ]
  },
  {
   "cell_type": "code",
   "execution_count": 14,
   "metadata": {},
   "outputs": [
    {
     "data": {
      "application/vnd.jupyter.widget-view+json": {
       "model_id": "6bf26302dc234412ac17cba8ce16ed07",
       "version_major": 2,
       "version_minor": 0
      },
      "text/plain": [
       "VBox(children=(Label(value='Which feature is innapropriate and why?'), Textarea(value='According to the ARFF f…"
      ]
     },
     "metadata": {},
     "output_type": "display_data"
    },
    {
     "data": {
      "application/vnd.jupyter.widget-view+json": {
       "model_id": "2d19504c0b8644858933dd199d135a0a",
       "version_major": 2,
       "version_minor": 0
      },
      "text/plain": [
       "Button(description='Save Answers', style=ButtonStyle())"
      ]
     },
     "metadata": {},
     "output_type": "display_data"
    },
    {
     "data": {
      "text/markdown": [
       "**Which feature is innapropriate and why?**\n",
       "\n",
       "According to the ARFF file, the attribute B is 1000(Bk - 0.63)^2 where Bk is the proportion of blacks by town. Racial data such as this is highly inappropriate and is not suited to be passed into the learning algorithm because we do not want the model to learn any racial biases. It would be unethical and perhaps illegal if a model began using racial features for regression or classification depending on the task."
      ],
      "text/plain": [
       "<IPython.core.display.Markdown object>"
      ]
     },
     "metadata": {},
     "output_type": "display_data"
    }
   ],
   "source": [
    "# @title 3.1 Discussion { display-mode: \"form\" }\n",
    "# PLEASE DO NOT ALTER THIS CODE\n",
    "if net_id == \"\":\n",
    "  raise Exception(\"You need to set your net_id, silly goose.\")\n",
    "discussion_id = \"3.1KNN\"\n",
    "questions = [\"Which feature is innapropriate and why?\"]\n",
    "Discussion(discussion_id, questions, net_id); pass"
   ]
  },
  {
   "cell_type": "markdown",
   "metadata": {},
   "source": [
    "### 3.2 (15%) - KNN Regression \n",
    "- Do random 80/20 train/test splits each time\n",
    "- Run with k=3\n",
    "- Print the score (coefficient of determination) and Mean Absolute Error (MAE) for the train and test set for the cases of\n",
    "  - No input normalization and no distance weighting\n",
    "  - Normalization and no distance weighting\n",
    "  - Normalization and distance weighting\n",
    "- Normalize inputs features where needed but do not normalize the output"
   ]
  },
  {
   "cell_type": "code",
   "execution_count": 25,
   "metadata": {
    "id": "KBGUn43ASiXW"
   },
   "outputs": [
    {
     "name": "stdout",
     "output_type": "stream",
     "text": [
      "No normalization or distance weighting Testing Score: 0.42630732803822236\n",
      "No normalization or distance weighting MAE: 4.363725490196079\n",
      "Input normalization but no distance weighting Testing Score: 0.7576414644687843\n",
      "Input normalization but no distance weighting MAE: 2.6898692810457523\n",
      "Input normalization and distance weighting Testing Score: 0.7866249671485452\n",
      "Input normalization and distance weighting MAE: 2.5861505541085816\n"
     ]
    }
   ],
   "source": [
    "# Learn and experiment with housing price prediction data\n",
    "from io import StringIO\n",
    "from sklearn.metrics import mean_absolute_error\n",
    "url = 'https://axon.cs.byu.edu/data/uci_regression/housing.arff'\n",
    "resp = urllib.request.urlopen(url)\n",
    "data, meta = arff.loadarff(StringIO(resp.read().decode('utf-8')))\n",
    "\n",
    "df = pd.DataFrame(data)\n",
    "\n",
    "X = df.iloc[:, :-1].values\n",
    "y = df.iloc[:, -1].values\n",
    "\n",
    "# no input normalization or distance weighting\n",
    "X_train, X_test, y_train, y_test = train_test_split(X, y, test_size=0.2, random_state=1)\n",
    "clf = KNeighborsRegressor(n_neighbors=3)\n",
    "clf.fit(X_train, y_train)\n",
    "print('No normalization or distance weighting Testing Score:', clf.score(X_test, y_test))\n",
    "print('No normalization or distance weighting MAE:', mean_absolute_error(y_test, clf.predict(X_test)))\n",
    "\n",
    "# input normalization but no distance weighting\n",
    "scaler = StandardScaler()\n",
    "X = scaler.fit_transform(X)\n",
    "X_train, X_test, y_train, y_test = train_test_split(X, y, test_size=0.2, random_state=1)\n",
    "clf = KNeighborsRegressor(n_neighbors=3)\n",
    "clf.fit(X_train, y_train)\n",
    "print('Input normalization but no distance weighting Testing Score:', clf.score(X_test, y_test))\n",
    "print('Input normalization but no distance weighting MAE:', mean_absolute_error(y_test, clf.predict(X_test)))\n",
    "\n",
    "# input normalization and distance weighting\n",
    "X_train, X_test, y_train, y_test = train_test_split(X, y, test_size=0.2, random_state=1)\n",
    "clf = KNeighborsRegressor(n_neighbors=3, weights='distance')\n",
    "clf.fit(X_train, y_train)\n",
    "print('Input normalization and distance weighting Testing Score:', clf.score(X_test, y_test))\n",
    "print('Input normalization and distance weighting MAE:', mean_absolute_error(y_test, clf.predict(X_test)))\n",
    "\n",
    "\n"
   ]
  },
  {
   "cell_type": "code",
   "execution_count": null,
   "metadata": {},
   "outputs": [
    {
     "data": {
      "application/vnd.jupyter.widget-view+json": {
       "model_id": "b0018894523946259e11f818f639e80f",
       "version_major": 2,
       "version_minor": 0
      },
      "text/plain": [
       "VBox(children=(Label(value='Discuss your results.'), Textarea(value='No normalization or distance weighting ha…"
      ]
     },
     "metadata": {},
     "output_type": "display_data"
    },
    {
     "data": {
      "application/vnd.jupyter.widget-view+json": {
       "model_id": "eee3aebff13c434e9cf2e30b8cea1d77",
       "version_major": 2,
       "version_minor": 0
      },
      "text/plain": [
       "VBox(children=(Label(value='Which method was the best?'), Textarea(value='When evaluating a model, better mode…"
      ]
     },
     "metadata": {},
     "output_type": "display_data"
    },
    {
     "data": {
      "application/vnd.jupyter.widget-view+json": {
       "model_id": "0d906697d1d84cc689cecd6500db26c8",
       "version_major": 2,
       "version_minor": 0
      },
      "text/plain": [
       "Button(description='Save Answers', style=ButtonStyle())"
      ]
     },
     "metadata": {},
     "output_type": "display_data"
    },
    {
     "data": {
      "text/markdown": [
       "**Discuss your results.**\n",
       "\n",
       "No normalization or distance weighting had the lowest testing score of .43 and the highest MAE of 4.36. Normalization without distance weighting had the middle testing score of .76 and the middle MAE of 2.69. Normalization and distance weighting had the highest testing score of .79 and the lowest MAE of 2.59. In general, as we added normalization and distance weighting, the testing accuracies increased and MAE decreased. This makes sense because normalization and distance weighting tend to help a KNN model perform better due to considering all features equally and prioritizing closer instances. "
      ],
      "text/plain": [
       "<IPython.core.display.Markdown object>"
      ]
     },
     "metadata": {},
     "output_type": "display_data"
    },
    {
     "data": {
      "text/markdown": [
       "**Which method was the best?**\n",
       "\n",
       "When evaluating a model, better models have higher testing accuries and lower Mean Absolute Errors (MAE). This means that the best method was normalization along with distance weighting. Again, this makes sense because of the benefits that these strategies bring to a KNN model as discussed above. "
      ],
      "text/plain": [
       "<IPython.core.display.Markdown object>"
      ]
     },
     "metadata": {},
     "output_type": "display_data"
    }
   ],
   "source": [
    "# @title 3.2 Discussion { display-mode: \"form\" }\n",
    "# PLEASE DO NOT ALTER THIS CODE\n",
    "if net_id == \"\":\n",
    "  raise Exception(\"You need to set your net_id, silly goose.\")\n",
    "discussion_id = \"3.2KNN\"\n",
    "questions = [\"Discuss your results.\", \"Which method was the best?\"]\n",
    "Discussion(discussion_id, questions, net_id); pass"
   ]
  },
  {
   "cell_type": "markdown",
   "metadata": {},
   "source": [
    "### 3.3 (10%)  Different k Values\n",
    "- Using housing with normalized data and distance weighting, create one graph with MAE on the test set on the y-axis and k values on the x-axis\n",
    "- Use values of k from 1 to 15.  Use the same train/test split for each. "
   ]
  },
  {
   "cell_type": "code",
   "execution_count": 26,
   "metadata": {},
   "outputs": [
    {
     "name": "stdout",
     "output_type": "stream",
     "text": [
      "Best k value: 2\n",
      "Best MAE: 2.5287844800735684\n"
     ]
    },
    {
     "data": {
      "text/plain": [
       "Text(0.5, 1.0, 'Mean Absolute Error vs k value')"
      ]
     },
     "execution_count": 26,
     "metadata": {},
     "output_type": "execute_result"
    },
    {
     "data": {
      "image/png": "[encoded data removed]",
      "text/plain": [
       "<Figure size 640x480 with 1 Axes>"
      ]
     },
     "metadata": {},
     "output_type": "display_data"
    }
   ],
   "source": [
    "# Learn and graph for different k values\n",
    "from io import StringIO\n",
    "url = 'https://axon.cs.byu.edu/data/uci_regression/housing.arff'\n",
    "resp = urllib.request.urlopen(url)\n",
    "data, meta = arff.loadarff(StringIO(resp.read().decode('utf-8')))\n",
    "\n",
    "df = pd.DataFrame(data)\n",
    "\n",
    "X = df.iloc[:, :-1].values\n",
    "y = df.iloc[:, -1].values\n",
    "\n",
    "scaler = StandardScaler()\n",
    "X = scaler.fit_transform(X)\n",
    "\n",
    "X_train, X_test, y_train, y_test = train_test_split(X, y, test_size=0.2, random_state=1)\n",
    "\n",
    "k_values = range(1, 16)\n",
    "MAE_values = []\n",
    "\n",
    "best_k = 0\n",
    "best_MAE = float('inf')\n",
    "\n",
    "for k in k_values:\n",
    "    clf = KNeighborsRegressor(n_neighbors=k, weights='distance')\n",
    "    clf.fit(X_train, y_train)\n",
    "    MAE = mean_absolute_error(y_test, clf.predict(X_test))\n",
    "    MAE_values.append(MAE)\n",
    "    if MAE < best_MAE:\n",
    "        best_MAE = MAE\n",
    "        best_k = k\n",
    "\n",
    "print('Best k value:', best_k)\n",
    "print('Best MAE:', best_MAE)\n",
    "plt.plot(k_values, MAE_values)\n",
    "plt.xlabel('k value')\n",
    "plt.ylabel('Mean Absolute Error')\n",
    "plt.title('Mean Absolute Error vs k value')"
   ]
  },
  {
   "cell_type": "code",
   "execution_count": 18,
   "metadata": {},
   "outputs": [
    {
     "data": {
      "application/vnd.jupyter.widget-view+json": {
       "model_id": "536013e2230f465d9e0945b4caa62b3a",
       "version_major": 2,
       "version_minor": 0
      },
      "text/plain": [
       "VBox(children=(Label(value='Which is the best k value for the `housing` dataset?'), Textarea(value='The best k…"
      ]
     },
     "metadata": {},
     "output_type": "display_data"
    },
    {
     "data": {
      "application/vnd.jupyter.widget-view+json": {
       "model_id": "5a15d2265ec64ecfb9c5ac4ea768e512",
       "version_major": 2,
       "version_minor": 0
      },
      "text/plain": [
       "VBox(children=(Label(value='Interpret/describe your graph.'), Textarea(value='The graph visualizes MAE as k in…"
      ]
     },
     "metadata": {},
     "output_type": "display_data"
    },
    {
     "data": {
      "application/vnd.jupyter.widget-view+json": {
       "model_id": "4fe03de305aa481d94a5df4ef3f781ba",
       "version_major": 2,
       "version_minor": 0
      },
      "text/plain": [
       "Button(description='Save Answers', style=ButtonStyle())"
      ]
     },
     "metadata": {},
     "output_type": "display_data"
    },
    {
     "data": {
      "text/markdown": [
       "**Which is the best k value for the `housing` dataset?**\n",
       "\n",
       "The best k value for the housing dataset was k=2. This means that, when predicting a new instance, the model only considers the class of its 2 nearest neighbors. This leads to small neighborhoods in the model."
      ],
      "text/plain": [
       "<IPython.core.display.Markdown object>"
      ]
     },
     "metadata": {},
     "output_type": "display_data"
    },
    {
     "data": {
      "text/markdown": [
       "**Interpret/describe your graph.**\n",
       "\n",
       "The graph visualizes MAE as k increases. Lower MAEs are better, which is why k=2 is best because it has the lowest MAE of 2.53. In the graph, MAE starts high ( >3) when k=1, drops to 2.53 when k=2, then gradually but consistently increases as k increases. This means that higher k values are leading to higher MAEs. This is likely because the model is underfitting with higher k values and is leading to greater disparities when predicting the regression value of a new instance, which is why MAE is higher. "
      ],
      "text/plain": [
       "<IPython.core.display.Markdown object>"
      ]
     },
     "metadata": {},
     "output_type": "display_data"
    }
   ],
   "source": [
    "# @title 3.3 Discussion { display-mode: \"form\" }\n",
    "# PLEASE DO NOT ALTER THIS CODE\n",
    "if net_id == \"\":\n",
    "  raise Exception(\"You need to set your net_id, silly goose.\")\n",
    "discussion_id = \"3.3KNN\"\n",
    "questions = [\"Which is the best k value for the `housing` dataset?\", \"Interpret/describe your graph.\"]\n",
    "Discussion(discussion_id, questions, net_id); pass"
   ]
  },
  {
   "cell_type": "markdown",
   "metadata": {},
   "source": [
    "## 4. (20%) KNN with nominal and real data\n",
    "\n",
    "- Use the [lymph dataset](https://axon.cs.byu.edu/data/uci_class/lymph.arff)\n",
    "- Use a 80/20 split of the data for the training/test set\n",
    "- This dataset has both continuous and nominal attributes \n",
    "- Implement a distance metric which uses Euclidean distance for continuous features and 0/1 distance for nominal. Hints:\n",
    "    - Write your own distance function (e.g. mydist) and use clf = KNeighborsClassifier(metric=mydist)\n",
    "    - Change the nominal features in the data set to integer values since KNeighborsClassifier expects numeric features. I used Label_Encoder on the nominal features.\n",
    "    - Keep a list of which features are nominal which mydist can use to decide which distance measure to use\n",
    "    - There was an occasional bug in SK version 1.3.0 (\"Flags object has no attribute 'c_contiguous'\") that went away when I upgraded to the lastest SK version 1.3.1 \n",
    "- Use your own choice for k and other parameters"
   ]
  },
  {
   "cell_type": "code",
   "execution_count": 19,
   "metadata": {},
   "outputs": [
    {
     "name": "stdout",
     "output_type": "stream",
     "text": [
      "Training Accuracy: 0.8813559322033898\n",
      "Testing Accuracy: 0.7666666666666667\n"
     ]
    }
   ],
   "source": [
    "# Train/Predict lymph with your own distance metric\n",
    "from io import StringIO\n",
    "url = 'https://axon.cs.byu.edu/data/uci_class/lymph.arff'\n",
    "resp = urllib.request.urlopen(url)\n",
    "data, meta = arff.loadarff(StringIO(resp.read().decode('utf-8')))\n",
    "\n",
    "df = pd.DataFrame(data)\n",
    "\n",
    "nominal_features = ['lymphatics', 'block_of_affere', 'bl_of_lymph_c', 'bl_of_lymph_s',\n",
    "  'by_pass', 'extravasates', 'regeneration_of', 'early_uptake_in',\n",
    "  'changes_in_lym', 'defect_in_node', 'changes_in_node', 'changes_in_stru',\n",
    "  'special_forms', 'dislocation_of', 'exclusion_of_no'\n",
    "]\n",
    "# distance function that uses euclidean distance for continuous features and 0/1 distance for nominal features\n",
    "def mydist(x, y):\n",
    "    dist = 0\n",
    "    for i in range(len(x)):\n",
    "        if df.columns[i] in nominal_features:\n",
    "            if x[i] != y[i]:\n",
    "                dist += 1\n",
    "        else:\n",
    "            dist += (x[i] - y[i])**2\n",
    "    return np.sqrt(dist)\n",
    "\n",
    "# label encode the nominal features\n",
    "from sklearn.preprocessing import LabelEncoder\n",
    "le = LabelEncoder()\n",
    "for feature in nominal_features:\n",
    "    df[feature] = le.fit_transform(df[feature])\n",
    "\n",
    "X = df.drop('class', axis=1).values\n",
    "y = df['class'].values\n",
    "y = np.array([x.decode('utf-8') for x in y])\n",
    "\n",
    "clf = KNeighborsClassifier(n_neighbors=3, metric=mydist)\n",
    "X_train, X_test, y_train, y_test = train_test_split(X, y, test_size=0.2, random_state=1)\n",
    "clf.fit(X_train, y_train)\n",
    "print('Training Accuracy:', clf.score(X_train, y_train))\n",
    "print('Testing Accuracy:', clf.score(X_test, y_test))"
   ]
  },
  {
   "cell_type": "code",
   "execution_count": null,
   "metadata": {},
   "outputs": [
    {
     "data": {
      "application/vnd.jupyter.widget-view+json": {
       "model_id": "fbd5c59c7c8a445a8be5eab01649bcd5",
       "version_major": 2,
       "version_minor": 0
      },
      "text/plain": [
       "VBox(children=(Label(value='Explain your distance metric.'), Textarea(value='Many of the features in the lymph…"
      ]
     },
     "metadata": {},
     "output_type": "display_data"
    },
    {
     "data": {
      "application/vnd.jupyter.widget-view+json": {
       "model_id": "2ecdddf42e1a4f278470e72d80cfacf7",
       "version_major": 2,
       "version_minor": 0
      },
      "text/plain": [
       "VBox(children=(Label(value='Discuss the results of using your own distance metric.'), Textarea(value='Using th…"
      ]
     },
     "metadata": {},
     "output_type": "display_data"
    },
    {
     "data": {
      "application/vnd.jupyter.widget-view+json": {
       "model_id": "3bb84d4b7d5f4d94abc14ec73120a076",
       "version_major": 2,
       "version_minor": 0
      },
      "text/plain": [
       "Button(description='Save Answers', style=ButtonStyle())"
      ]
     },
     "metadata": {},
     "output_type": "display_data"
    },
    {
     "data": {
      "text/markdown": [
       "**Explain your distance metric.**\n",
       "\n",
       "Many of the features in the lymph dataset are nominal. To solve this, I implemented a custom distance function that used euclidean distance between numerical (real) features and 0/1 distance between nominal features. 0/1 distance means that if the features have the same value, they have a distance of 0, and if the features have different values, they have a distance of 1. To create this function, I first had to store in a list which features were nominal. When computing the distance between 2 instances, I looped over their features. If the current feature was in my list of nominal features, I used 0/1 distance, and if it was not, I used euclidean distance. I summed up these distances, and returned the square root of the result as the final distance between the 2 instances."
      ],
      "text/plain": [
       "<IPython.core.display.Markdown object>"
      ]
     },
     "metadata": {},
     "output_type": "display_data"
    },
    {
     "data": {
      "text/markdown": [
       "**Discuss the results of using your own distance metric.**\n",
       "\n",
       "Using this custom distance function, I achieved a training accuracy of .88 and a testing accuracy of .77. These are pretty good accuracies, but there is room for improvement, especially in the testing accuracy. A lower testing accuracy could mean that the model is slightly overfitting with k=3. Its possible that increasing k could lead to less disparity between the training and testing accuracies. "
      ],
      "text/plain": [
       "<IPython.core.display.Markdown object>"
      ]
     },
     "metadata": {},
     "output_type": "display_data"
    }
   ],
   "source": [
    "# @title 4 Discussion { display-mode: \"form\" }\n",
    "# PLEASE DO NOT ALTER THIS CODE\n",
    "if net_id == \"\":\n",
    "  raise Exception(\"You need to set your net_id, silly goose.\")\n",
    "discussion_id = \"4KNN\"\n",
    "questions = [\"Explain your distance metric.\", \"Discuss the results of using your own distance metric.\"]\n",
    "Discussion(discussion_id, questions, net_id); pass"
   ]
  },
  {
   "cell_type": "markdown",
   "metadata": {},
   "source": [
    "## 5. (Optional 15% extra credit) Code up your own KNN Learner \n",
    "Below is a scaffold you could use if you want. Requirements for this task:\n",
    "- Your model should support the methods shown in the example scaffold below\n",
    "- Use Euclidean distance to decide closest neighbors\n",
    "- Implement both the classification and regression versions\n",
    "- Include optional distance weighting for both algorithms\n",
    "- Run your algorithm on the magic telescope and housing data sets above and discuss and compare your results "
   ]
  },
  {
   "cell_type": "code",
   "execution_count": 21,
   "metadata": {},
   "outputs": [
    {
     "data": {
      "application/vnd.jupyter.widget-view+json": {
       "model_id": "5187b2087a094b97aaaffbb6cfd1274a",
       "version_major": 2,
       "version_minor": 0
      },
      "text/plain": [
       "VBox(children=(Label(value='Discuss what you learned from implementing a KNN from scratch.'), Textarea(value=\"…"
      ]
     },
     "metadata": {},
     "output_type": "display_data"
    },
    {
     "data": {
      "application/vnd.jupyter.widget-view+json": {
       "model_id": "f8bbd51baae943359a34adaa852aa064",
       "version_major": 2,
       "version_minor": 0
      },
      "text/plain": [
       "Button(description='Save Answers', style=ButtonStyle())"
      ]
     },
     "metadata": {},
     "output_type": "display_data"
    },
    {
     "data": {
      "text/markdown": [
       "**Discuss what you learned from implementing a KNN from scratch.**\n",
       "\n",
       "I coded up both a KNNClassifier and a KNNRegressor. On the magic_telescope dataset, I achieved a testing accuracy of .34. The classifier model took a long time to run (more than 2 minutes on the testing set), so I decided not to compute the training accuracy because of how long it would take to classify that many instances. I believe that I am not being as efficient as possible when predicting a new instance because the sklearn model only takes a few seconds to classify the same dataset. Coding up the KNNClassifier showed that KNN is a lazy model that does not do any training. It does all the required work when classifying an instance. I also learned that efficiency when coding a model is extremely important because we would ideally like to use the model on very large datasets. If the model is not efficient internally, it will take a very long time to fully classify larger datasets. The sklearn model was able to achieve testing accuracy scores in the .80s, but my classifier only achieved a testing accuracy of .34. To me, this is an indicator that there is probably a logic error in my implementation.\n",
       "\n",
       "I also created a KNNRegressor model to perform regression with KNN. This was much easier to implement because it looks very similar to the classifier. The only difference is the model uses a slightly different function of the distances to compute a regression value instead of a class value. On the housing dataset, the regressor achieved a training score of -3.14 and a testing score of -3.60. For a regressor, the score is the coefficient of determination between the predicted regression values and the actual values. According to the sklearn documentation, a negative score is possible. A score of 0 means the model is performing randomly, so a negative score means the model is performing even worse than random. The sklearn implementation achieved a testing score of .78 on the housing dataset. This is another sign that there is probably a bug in my implementation because of the disparity between my model's score and the sklearn model's score. I still feel that I learned a lot from implementing my own KNN models and I've gained an increased understanding of the KNN algorithm on topics such as the distances calculation, the lazy learning aspect of the algorithm, the weighted distances, and more. "
      ],
      "text/plain": [
       "<IPython.core.display.Markdown object>"
      ]
     },
     "metadata": {},
     "output_type": "display_data"
    }
   ],
   "source": [
    "# @title 5 Discussion { display-mode: \"form\" }\n",
    "# PLEASE DO NOT ALTER THIS CODE\n",
    "if net_id == \"\":\n",
    "  raise Exception(\"You need to set your net_id, silly goose.\")\n",
    "discussion_id = \"5KNN\"\n",
    "questions = [\"Discuss what you learned from implementing a KNN from scratch.\"]\n",
    "Discussion(discussion_id, questions, net_id); pass"
   ]
  },
  {
   "cell_type": "code",
   "execution_count": 27,
   "metadata": {},
   "outputs": [],
   "source": [
    "from sklearn.base import BaseEstimator, ClassifierMixin\n",
    "import math\n",
    "\n",
    "class KNNClassifier(BaseEstimator,ClassifierMixin):\n",
    "    def __init__(self, columntype=[], weight_type='inverse_distance', k=3): ## add parameters here\n",
    "        \"\"\"\n",
    "        Args:\n",
    "            columntype for each column tells you if continues[real] or if nominal[categoritcal].\n",
    "            weight_type: inverse_distance voting or if non distance weighting. Options = [\"no_weight\",\"inverse_distance\"]\n",
    "        \"\"\"\n",
    "        self.columntype = columntype #Note This won't be needed until part 5\n",
    "        self.k = k\n",
    "        self.weight_type = weight_type\n",
    "\n",
    "    def fit(self, data, labels):\n",
    "        \"\"\" Fit the data; run the algorithm (for this lab really just saves the data :D)\n",
    "        Args:\n",
    "            X (array-like): A 2D numpy array with the training data, excluding targets\n",
    "            y (array-like): A 2D numpy array with the training targets\n",
    "        Returns:\n",
    "            self: this allows this to be chained, e.g. model.fit(X,y).predict(X_test)\n",
    "        \"\"\"\n",
    "        self.data = data\n",
    "        self.labels = labels\n",
    "\n",
    "        return self\n",
    "    \n",
    "    def distance(self, a, b):\n",
    "        euclidean_distance = math.sqrt(sum([(a[i] - b[i])**2 for i in range(len(a))]))\n",
    "        return euclidean_distance\n",
    "    \n",
    "    def k_largest(self, distances):\n",
    "        k_largest = []\n",
    "        for i in range(self.k):\n",
    "            max_index = 0\n",
    "            for j in range(len(distances)):\n",
    "                if distances[j][1] > distances[max_index][1]:\n",
    "                    max_index = j\n",
    "            k_largest.append(distances[max_index])\n",
    "            distances[max_index] = (distances[max_index][0], -1)\n",
    "        return k_largest\n",
    "\n",
    "    \n",
    "    def predict(self, data):\n",
    "        \"\"\" Predict all classes for a dataset X\n",
    "        Args:\n",
    "            X (array-like): A 2D numpy array with the training data, excluding targets\n",
    "        Returns:\n",
    "            array, shape (n_samples,)\n",
    "                Predicted target values per element in X.\n",
    "        \"\"\"\n",
    "\n",
    "        predictions = []\n",
    "\n",
    "        n = len(data)\n",
    "\n",
    "        for j in range(n):\n",
    "            if j == math.floor(n/4):\n",
    "                print(\".25 done\")\n",
    "            \n",
    "            if j == math.floor(n/2):\n",
    "                print(\".5 done\")\n",
    "\n",
    "            if j == math.floor(3*n/4):\n",
    "                print(\".75 done\")\n",
    "\n",
    "            instance = data[j]\n",
    "            distances = []\n",
    "            for i in range(len(self.data)):\n",
    "                if i == j: # skip the instance itself\n",
    "                    continue\n",
    "                distances.append((i, self.distance(instance, self.data[i])))\n",
    "            k_nearest = self.k_largest(distances)\n",
    "            k_nearest_labels = [self.labels[i] for i, _ in k_nearest]\n",
    "            if self.weight_type == 'inverse_distance':\n",
    "                weights = [(1 / (d**2) if d != 0 else 0) for _, d in k_nearest]\n",
    "                weighted_votes = {}\n",
    "                for i in range(len(k_nearest_labels)):\n",
    "                    label = k_nearest_labels[i]\n",
    "                    if label in weighted_votes:\n",
    "                        weighted_votes[label] += weights[i]\n",
    "                    else:\n",
    "                        weighted_votes[label] = weights[i]\n",
    "                predictions.append(max(weighted_votes, key=weighted_votes.get))\n",
    "            else:\n",
    "                predictions.append(max(k_nearest_labels))\n",
    "        return predictions\n",
    "\n",
    "    #Returns the Mean score given input data and labels\n",
    "    def score(self, X, y):\n",
    "        \"\"\" Return accuracy of model on a given dataset. Must implement own score function.\n",
    "        Args:\n",
    "            X (array-like): A 2D numpy array with data, excluding targets\n",
    "            y (array-like): A 2D numpy array with targets\n",
    "        Returns:\n",
    "            score : float\n",
    "                Mean accuracy of self.predict(X) wrt. y.\n",
    "        \"\"\"\n",
    "        predictions = self.predict(X)\n",
    "        print('predictions:', predictions)\n",
    "        return np.mean(predictions == y)"
   ]
  },
  {
   "cell_type": "code",
   "execution_count": 28,
   "metadata": {},
   "outputs": [
    {
     "name": "stdout",
     "output_type": "stream",
     "text": [
      ".25 done\n",
      ".5 done\n",
      ".75 done\n",
      "predictions: ['h', 'h', 'h', 'h', 'h', 'h', 'h', 'h', 'h', 'h', 'h', 'h', 'h', 'h', 'h', 'h', 'h', 'h', 'h', 'h', 'h', 'h', 'h', 'h', 'h', 'h', 'h', 'h', 'h', 'h', 'h', 'h', 'h', 'h', 'h', 'h', 'h', 'h', 'h', 'h', 'h', 'h', 'h', 'h', 'h', 'h', 'h', 'h', 'h', 'h', 'h', 'h', 'h', 'h', 'h', 'h', 'h', 'h', 'h', 'h', 'h', 'h', 'h', 'h', 'h', 'h', 'h', 'h', 'h', 'h', 'h', 'h', 'h', 'h', 'h', 'h', 'h', 'h', 'h', 'h', 'h', 'h', 'h', 'h', 'h', 'h', 'h', 'h', 'h', 'h', 'h', 'h', 'h', 'h', 'h', 'h', 'h', 'h', 'h', 'h', 'h', 'h', 'h', 'h', 'h', 'h', 'h', 'h', 'h', 'h', 'h', 'h', 'h', 'h', 'h', 'h', 'h', 'h', 'h', 'h', 'h', 'h', 'h', 'h', 'h', 'h', 'h', 'h', 'h', 'h', 'h', 'h', 'h', 'h', 'h', 'h', 'h', 'h', 'h', 'h', 'h', 'h', 'h', 'h', 'h', 'h', 'h', 'h', 'h', 'h', 'h', 'h', 'h', 'h', 'h', 'h', 'h', 'h', 'h', 'h', 'h', 'h', 'h', 'h', 'h', 'h', 'h', 'h', 'h', 'h', 'h', 'h', 'h', 'h', 'h', 'h', 'h', 'h', 'h', 'h', 'h', 'h', 'h', 'h', 'h', 'h', 'h', 'h', 'h', 'h', 'h', 'h', 'h', 'h', 'h', 'h', 'h', 'h', 'h', 'h', 'h', 'h', 'h', 'h', 'h', 'h', 'h', 'h', 'h', 'h', 'h', 'h', 'h', 'h', 'h', 'h', 'h', 'h', 'h', 'h', 'h', 'h', 'h', 'h', 'h', 'h', 'h', 'h', 'h', 'h', 'h', 'h', 'h', 'h', 'h', 'h', 'h', 'h', 'h', 'h', 'h', 'h', 'h', 'h', 'h', 'h', 'h', 'h', 'h', 'h', 'h', 'h', 'h', 'h', 'h', 'h', 'h', 'h', 'h', 'h', 'h', 'h', 'h', 'h', 'h', 'h', 'h', 'h', 'h', 'h', 'h', 'h', 'h', 'h', 'h', 'h', 'h', 'h', 'h', 'h', 'h', 'h', 'h', 'h', 'h', 'h', 'h', 'h', 'h', 'h', 'h', 'h', 'h', 'h', 'h', 'h', 'h', 'h', 'h', 'h', 'h', 'h', 'h', 'h', 'h', 'h', 'h', 'h', 'h', 'h', 'h', 'h', 'h', 'h', 'h', 'h', 'h', 'h', 'h', 'h', 'h', 'h', 'h', 'h', 'h', 'h', 'h', 'h', 'h', 'h', 'h', 'h', 'h', 'h', 'h', 'h', 'h', 'h', 'h', 'h', 'h', 'h', 'h', 'h', 'h', 'h', 'h', 'h', 'h', 'h', 'h', 'h', 'h', 'h', 'h', 'h', 'h', 'h', 'h', 'h', 'h', 'h', 'h', 'h', 'h', 'h', 'h', 'h', 'h', 'h', 'h', 'h', 'h', 'h', 'h', 'h', 'h', 'h', 'h', 'h', 'h', 'h', 'h', 'h', 'h', 'h', 'h', 'h', 'h', 'h', 'h', 'h', 'h', 'h', 'h', 'h', 'h', 'h', 'h', 'h', 'h', 'h', 'h', 'h', 'h', 'h', 'h', 'h', 'h', 'h', 'h', 'h', 'h', 'h', 'h', 'h', 'h', 'h', 'h', 'h', 'h', 'h', 'h', 'h', 'h', 'h', 'h', 'h', 'h', 'h', 'h', 'h', 'h', 'h', 'h', 'h', 'h', 'h', 'h', 'h', 'h', 'h', 'h', 'h', 'h', 'h', 'h', 'h', 'h', 'h', 'h', 'h', 'h', 'h', 'h', 'h', 'h', 'h', 'h', 'h', 'h', 'h', 'h', 'h', 'h', 'h', 'h', 'h', 'h', 'h', 'h', 'h', 'h', 'h', 'h', 'h', 'h', 'h', 'h', 'h', 'h', 'h', 'h', 'h', 'h', 'h', 'h', 'h', 'h', 'h', 'h', 'h', 'h', 'h', 'h', 'h', 'h', 'h', 'h', 'h', 'h', 'h', 'h', 'h', 'h', 'h', 'h', 'h', 'h', 'h', 'h', 'h', 'h', 'h', 'h', 'h', 'h', 'h', 'h', 'h', 'h', 'h', 'h', 'h', 'h', 'h', 'h', 'h', 'h', 'h', 'h', 'h', 'h', 'h', 'h', 'h', 'h', 'h', 'h', 'h', 'h', 'h', 'h', 'h', 'h', 'h', 'h', 'h', 'h', 'h', 'h', 'h', 'h', 'h', 'h', 'h', 'h', 'h', 'h', 'h', 'h', 'h', 'h', 'h', 'h', 'h', 'h', 'h', 'h', 'h', 'h', 'h', 'h', 'h', 'h', 'h', 'h', 'h', 'h', 'h', 'h', 'h', 'h', 'h', 'h', 'h', 'h', 'h', 'h', 'h', 'h', 'h', 'h', 'h', 'h', 'h', 'h', 'h', 'h', 'h', 'h', 'h', 'h', 'h', 'h', 'h', 'h', 'h', 'h', 'h', 'h', 'h', 'h', 'h', 'h', 'h', 'h', 'h', 'h', 'h', 'h', 'h', 'h', 'h', 'h', 'h', 'h', 'h', 'h', 'h', 'h', 'h', 'h', 'h', 'h', 'h', 'h', 'h', 'h', 'h', 'h', 'h', 'h', 'h', 'h', 'h', 'h', 'h', 'h', 'h', 'h', 'h', 'h', 'h', 'h', 'h', 'h', 'h', 'h', 'h', 'h', 'h', 'h', 'h', 'h', 'h', 'h', 'h', 'h', 'h', 'h', 'h', 'h', 'h', 'h', 'h', 'h', 'h', 'h', 'h', 'h', 'h', 'h', 'h', 'h', 'h', 'h', 'h', 'h', 'h', 'h', 'h', 'h', 'h', 'h', 'h', 'h', 'h', 'h', 'h', 'h', 'h', 'h', 'h', 'h', 'h', 'h', 'h', 'h', 'h', 'h', 'h', 'h', 'h', 'h', 'h', 'h', 'h', 'h', 'h', 'h', 'h', 'h', 'h', 'h', 'h', 'h', 'h', 'h', 'h', 'h', 'h', 'h', 'h', 'h', 'h', 'h', 'h', 'h', 'h', 'h', 'h', 'h', 'h', 'h', 'h', 'h', 'h', 'h', 'h', 'h', 'h', 'h', 'h', 'h', 'h', 'h', 'h', 'h', 'h', 'h', 'h', 'h', 'h', 'h', 'h', 'h', 'h', 'h', 'h', 'h', 'h', 'h', 'h', 'h', 'h', 'h', 'h', 'h', 'h', 'h', 'h', 'h', 'h', 'h', 'h', 'h', 'h', 'h', 'h', 'h', 'h', 'h', 'h', 'h', 'h', 'h', 'h', 'h', 'h', 'h', 'h', 'h', 'h', 'h', 'h', 'h', 'h', 'h', 'h', 'h', 'h', 'h', 'h', 'h', 'h', 'h', 'h', 'h', 'h', 'h', 'h', 'h', 'h', 'h', 'h', 'h', 'h', 'h', 'h', 'h', 'h', 'h', 'h', 'h', 'h', 'h', 'h', 'h', 'h', 'h', 'h', 'h', 'h', 'h', 'h', 'h', 'h', 'h', 'h', 'h', 'h', 'h', 'h', 'h', 'h', 'h', 'h', 'h', 'h', 'h', 'h', 'h', 'h', 'h', 'h', 'h', 'h', 'h', 'h', 'h', 'h', 'h', 'h', 'h', 'h', 'h', 'h', 'h', 'h', 'h', 'h', 'h', 'h', 'h', 'h', 'h', 'h', 'h', 'h', 'h', 'h', 'h', 'h', 'h', 'h', 'h', 'h', 'h', 'h', 'h', 'h', 'h', 'h', 'h', 'h', 'h', 'h', 'h', 'h', 'h', 'h', 'h', 'h', 'h', 'h', 'h', 'h', 'h', 'h', 'h', 'h', 'h', 'h', 'h', 'h', 'h', 'h', 'h', 'h', 'h', 'h', 'h', 'h', 'h', 'h', 'h', 'h', 'h', 'h', 'h', 'h', 'h', 'h', 'h', 'h', 'h', 'h', 'h', 'h', 'h', 'h', 'h', 'h', 'h', 'h', 'h', 'h', 'h', 'h', 'h', 'h', 'h', 'h', 'h', 'h', 'h', 'h', 'h', 'h', 'h', 'h', 'h', 'h', 'h', 'h', 'h', 'h', 'h', 'h', 'h', 'h', 'h', 'h', 'h', 'h', 'h', 'h', 'h', 'h', 'h', 'h', 'h', 'h', 'h', 'h', 'h', 'h', 'h', 'h', 'h', 'h', 'h', 'h', 'h', 'h', 'h', 'h', 'h', 'h', 'h', 'h', 'h', 'h', 'h', 'h', 'h', 'h', 'h', 'h', 'h', 'h', 'h', 'h', 'h', 'h', 'h', 'h', 'h', 'h', 'h', 'h', 'h', 'h', 'h', 'h', 'h', 'h', 'h', 'h', 'h', 'h', 'h', 'h', 'h', 'h', 'h', 'h', 'h', 'h', 'h', 'h', 'h', 'h', 'h', 'h', 'h', 'h', 'h', 'h', 'h', 'h', 'h', 'h', 'h', 'h', 'h', 'h', 'h', 'h', 'h', 'h', 'h', 'h', 'h', 'h', 'h', 'h', 'h', 'h', 'h', 'h', 'h', 'h', 'h', 'h', 'h', 'h', 'h', 'h', 'h', 'h', 'h', 'h', 'h', 'h', 'h', 'h', 'h', 'h', 'h', 'h', 'h', 'h', 'h', 'h', 'h', 'h', 'h', 'h', 'h', 'h', 'h', 'h', 'h', 'h', 'h', 'h', 'h', 'h', 'h', 'h', 'h', 'h', 'h', 'h', 'h', 'h', 'h', 'h', 'h', 'h', 'h', 'h', 'h', 'h', 'h', 'h', 'h', 'h', 'h', 'h', 'h', 'h', 'h', 'h', 'h', 'h', 'h', 'h', 'h', 'h', 'h', 'h', 'h', 'h', 'h', 'h', 'h', 'h', 'h', 'h', 'h', 'h', 'h', 'h', 'h', 'h', 'h', 'h', 'h', 'h', 'h', 'h', 'h', 'h', 'h', 'h', 'h', 'h', 'h', 'h', 'h', 'h', 'h', 'h', 'h', 'h', 'h', 'h', 'h', 'h', 'h', 'h', 'h', 'h', 'h', 'h', 'h', 'h', 'h', 'h', 'h', 'h', 'h', 'h', 'h', 'h', 'h', 'h', 'h', 'h', 'h', 'h', 'h', 'h', 'h', 'h', 'h', 'h', 'h', 'h', 'h', 'h', 'h', 'h', 'h', 'h', 'h', 'h', 'h', 'h', 'h', 'h', 'h', 'h', 'h', 'h', 'h', 'h', 'h', 'h', 'h', 'h', 'h', 'h', 'h', 'h', 'h', 'h', 'h', 'h', 'h', 'h', 'h', 'h', 'h', 'h', 'h', 'h', 'h', 'h', 'h', 'h', 'h', 'h', 'h', 'h', 'h', 'h', 'h', 'h', 'h', 'h', 'h', 'h', 'h', 'h', 'h', 'h', 'h', 'h', 'h', 'h', 'h', 'h', 'h', 'h', 'h', 'h', 'h', 'h', 'h', 'h', 'h', 'h', 'h', 'h', 'h', 'h', 'h', 'h', 'h', 'h', 'h', 'h', 'h', 'h', 'h', 'h', 'h', 'h', 'h', 'h', 'h', 'h', 'h', 'h', 'h', 'h', 'h', 'h', 'h', 'h', 'h', 'h', 'h', 'h', 'h', 'h', 'h', 'h', 'h', 'h', 'h', 'h', 'h', 'h', 'h', 'h', 'h', 'h', 'h', 'h', 'h', 'h', 'h', 'h', 'h', 'h', 'h', 'h', 'h', 'h', 'h', 'h', 'h', 'h', 'h', 'h', 'h', 'h', 'h', 'h', 'h', 'h', 'h', 'h', 'h', 'h', 'h', 'h', 'h', 'h', 'h', 'h', 'h', 'h', 'h', 'h', 'h', 'h', 'h', 'h', 'h', 'h', 'h', 'h', 'h', 'h', 'h', 'h', 'h', 'h', 'h', 'h', 'h', 'h', 'h', 'h', 'h', 'h', 'h', 'h', 'h', 'h', 'h', 'h', 'h', 'h', 'h', 'h', 'h', 'h', 'h', 'h', 'h', 'h', 'h', 'h', 'h', 'h', 'h', 'h', 'h', 'h', 'h', 'h', 'h', 'h', 'h', 'h', 'h', 'h', 'h', 'h', 'h', 'h', 'h', 'h', 'h', 'h', 'h', 'h', 'h', 'h', 'h', 'h', 'h', 'h', 'h', 'h', 'h', 'h', 'h', 'h', 'h', 'h', 'h', 'h', 'h', 'h', 'h', 'h', 'h', 'h', 'h', 'h', 'h', 'h', 'h', 'h', 'h', 'h', 'h', 'h', 'h', 'h', 'h', 'h', 'h', 'h', 'h', 'h', 'h', 'h', 'h', 'h', 'h', 'h', 'h', 'h', 'h', 'h', 'h', 'h', 'h', 'h', 'h', 'h', 'h', 'h', 'h', 'h', 'h', 'h', 'h', 'h', 'h', 'h', 'h', 'h', 'h', 'h', 'h', 'h', 'h', 'h', 'h', 'h', 'h', 'h', 'h', 'h', 'h', 'h', 'h', 'h', 'h', 'h', 'h', 'h', 'h', 'h', 'h', 'h', 'h', 'h', 'h', 'h', 'h', 'h', 'h', 'h', 'h', 'h', 'h', 'h', 'h', 'h', 'h', 'h', 'h', 'h', 'h', 'h', 'h', 'h', 'h', 'h', 'h', 'h', 'h', 'h', 'h', 'h', 'h', 'h', 'h', 'h', 'h', 'h', 'h', 'h', 'h', 'h', 'h', 'h', 'h', 'h', 'h', 'h', 'h', 'h', 'h', 'h', 'h', 'h', 'h', 'h', 'h', 'h', 'h', 'h', 'h', 'h', 'h', 'h', 'h', 'h', 'h', 'h', 'h', 'h', 'h', 'h', 'h', 'h', 'h', 'h', 'h', 'h', 'h', 'h', 'h', 'h', 'h', 'h', 'h', 'h', 'h', 'h', 'h', 'h', 'h', 'h', 'h', 'h', 'h', 'h', 'h', 'h', 'h', 'h', 'h', 'h', 'h', 'h', 'h', 'h', 'h', 'h', 'h', 'h', 'h', 'h', 'h', 'h', 'h', 'h', 'h', 'h', 'h', 'h', 'h', 'h', 'h', 'h', 'h', 'h', 'h', 'h', 'h', 'h', 'h', 'h', 'h', 'h', 'h', 'h', 'h', 'h', 'h', 'h', 'h', 'h', 'h', 'h', 'h', 'h', 'h', 'h', 'h', 'h', 'h', 'h', 'h', 'h', 'h', 'h', 'h', 'h', 'h', 'h', 'h', 'h', 'h', 'h', 'h', 'h', 'h', 'h', 'h', 'h', 'h', 'h', 'h', 'h', 'h', 'h', 'h', 'h', 'h', 'h', 'h', 'h', 'h', 'h', 'h', 'h', 'h', 'h', 'h', 'h', 'h', 'h', 'h', 'h', 'h', 'h', 'h', 'h', 'h', 'h', 'h', 'h', 'h', 'h', 'h', 'h', 'h', 'h', 'h', 'h', 'h', 'h', 'h', 'h', 'h', 'h', 'h', 'h', 'h', 'h', 'h', 'h', 'h', 'h', 'h', 'h', 'h', 'h', 'h', 'h', 'h', 'h', 'h', 'h', 'h', 'h', 'h', 'h', 'h', 'h', 'h', 'h', 'h', 'h', 'h', 'h', 'h', 'h', 'h', 'h', 'h', 'h', 'h', 'h', 'h', 'h', 'h', 'h', 'h', 'h', 'h', 'h', 'h', 'h', 'h', 'h', 'h', 'h', 'h', 'h', 'h', 'h', 'h', 'h', 'h', 'h', 'h', 'h', 'h', 'h', 'h', 'h', 'h', 'h', 'h', 'h', 'h', 'h', 'h', 'h', 'h', 'h', 'h', 'h', 'h', 'h', 'h', 'h', 'h', 'h', 'h', 'h', 'h', 'h', 'h', 'h', 'h', 'h', 'h', 'h', 'h', 'h', 'h', 'h', 'h', 'h', 'h', 'h', 'h', 'h', 'h', 'h', 'h', 'h', 'h', 'h', 'h', 'h', 'h', 'h', 'h', 'h', 'h', 'h', 'h', 'h', 'h', 'h', 'h', 'h', 'h', 'h', 'h', 'h', 'h', 'h', 'h', 'h', 'h', 'h', 'h', 'h', 'h', 'h', 'h', 'h', 'h', 'h', 'h', 'h', 'h', 'h', 'h', 'h', 'h', 'h', 'h', 'h', 'h', 'h', 'h', 'h', 'h', 'h', 'h', 'h', 'h', 'h', 'h', 'h', 'h', 'h', 'h', 'h', 'h', 'h', 'h', 'h', 'h', 'h', 'h', 'h', 'h', 'h', 'h', 'h', 'h', 'h', 'h', 'h', 'h', 'h', 'h', 'h', 'h', 'h', 'h', 'h', 'h', 'h', 'h', 'h', 'h', 'h', 'h', 'h', 'h', 'h', 'h', 'h', 'h', 'h', 'h', 'h', 'h', 'h', 'h', 'h', 'h', 'h', 'h', 'h', 'h', 'h', 'h', 'h', 'h', 'h', 'h', 'h', 'h', 'h', 'h', 'h', 'h', 'h', 'h', 'h', 'h', 'h', 'h', 'h', 'h', 'h', 'h', 'h', 'h', 'h', 'h', 'h', 'h', 'h', 'h', 'h', 'h', 'h', 'h', 'h', 'h', 'h', 'h', 'h', 'h', 'h', 'h', 'h', 'h', 'h', 'h', 'h', 'h', 'h', 'h', 'h', 'h', 'h', 'h', 'h', 'h', 'h', 'h', 'h', 'h', 'h', 'h', 'h', 'h', 'h', 'h', 'h', 'h', 'h', 'h', 'h', 'h', 'h', 'h', 'h', 'h', 'h', 'h', 'h', 'h', 'h', 'h', 'h', 'h', 'h', 'h', 'h', 'h', 'h', 'h', 'h', 'h', 'h', 'h', 'h', 'h', 'h', 'h', 'h', 'h', 'h', 'h', 'h', 'h', 'h', 'h', 'h', 'h', 'h', 'h', 'h', 'h', 'h', 'h', 'h', 'h', 'h', 'h', 'h', 'h', 'h', 'h', 'h', 'h', 'h', 'h', 'h', 'h', 'h', 'h', 'h', 'h', 'h', 'h', 'h', 'h', 'h', 'h', 'h', 'h', 'h', 'h', 'h', 'h', 'h', 'h', 'h', 'h', 'h', 'h', 'h', 'h', 'h', 'h', 'h', 'h', 'h', 'h', 'h', 'h', 'h', 'h', 'h', 'h', 'h', 'h', 'h', 'h', 'h', 'h', 'h', 'h', 'h', 'h', 'h', 'h', 'h', 'h', 'h', 'h', 'h', 'h', 'h', 'h', 'h', 'h', 'h', 'h', 'h', 'h', 'h', 'h', 'h', 'h', 'h', 'h', 'h', 'h', 'h', 'h', 'h', 'h', 'h', 'h', 'h', 'h', 'h', 'h', 'h', 'h', 'h', 'h', 'h', 'h', 'h', 'h', 'h', 'h', 'h', 'h', 'h', 'h', 'h', 'h', 'h', 'h', 'h', 'h', 'h', 'h', 'h', 'h', 'h', 'h', 'h', 'h', 'h', 'h', 'h', 'h', 'h', 'h', 'h', 'h', 'h', 'h', 'h', 'h', 'h', 'h', 'h', 'h', 'h', 'h', 'h', 'h', 'h', 'h', 'h', 'h', 'h', 'h', 'h', 'h', 'h', 'h', 'h', 'h', 'h', 'h', 'h', 'h', 'h', 'h', 'h', 'h', 'h', 'h', 'h', 'h', 'h', 'h', 'h', 'h', 'h', 'h', 'h', 'h', 'h', 'h', 'h', 'h', 'h', 'h', 'h', 'h', 'h', 'h', 'h', 'h', 'h', 'h', 'h', 'h', 'h', 'h', 'h', 'h', 'h', 'h', 'h', 'h', 'h', 'h', 'h', 'h', 'h', 'h', 'h', 'h', 'h', 'h', 'h', 'h', 'h', 'h', 'h', 'h', 'h', 'h', 'h', 'h', 'h', 'h', 'h', 'h', 'h', 'h', 'h', 'h', 'h', 'h', 'h', 'h', 'h', 'h', 'h', 'h', 'h', 'h', 'h', 'h', 'h', 'h', 'h', 'h', 'h', 'h', 'h', 'h', 'h', 'h', 'h', 'h', 'h', 'h', 'h', 'h', 'h', 'h', 'h', 'h', 'h', 'h', 'h', 'h', 'h', 'h', 'h', 'h', 'h', 'h', 'h', 'h', 'h', 'h', 'h', 'h', 'h', 'h', 'h', 'h', 'h', 'h', 'h', 'h', 'h', 'h', 'h', 'h', 'h', 'h', 'h', 'h', 'h', 'h', 'h', 'h', 'h', 'h', 'h', 'h', 'h', 'h', 'h', 'h', 'h', 'h', 'h', 'h', 'h', 'h', 'h', 'h', 'h', 'h', 'h', 'h', 'h', 'h', 'h', 'h', 'h', 'h', 'h', 'h', 'h', 'h', 'h', 'h', 'h', 'h', 'h', 'h', 'h', 'h', 'h', 'h', 'h', 'h', 'h', 'h', 'h', 'h', 'h', 'h', 'h', 'h', 'h', 'h', 'h', 'h', 'h', 'h', 'h', 'h', 'h', 'h', 'h', 'h', 'h', 'h', 'h', 'h', 'h', 'h', 'h', 'h', 'h', 'h', 'h', 'h', 'h', 'h', 'h', 'h', 'h', 'h', 'h', 'h', 'h', 'h', 'h', 'h', 'h', 'h', 'h', 'h', 'h', 'h', 'h', 'h', 'h', 'h', 'h', 'h', 'h', 'h', 'h', 'h', 'h', 'h', 'h', 'h', 'h', 'h', 'h', 'h', 'h', 'h', 'h', 'h', 'h', 'h', 'h', 'h', 'h', 'h', 'h', 'h', 'h', 'h', 'h', 'h', 'h', 'h', 'h', 'h', 'h', 'h', 'h', 'h', 'h', 'h', 'h', 'h', 'h', 'h', 'h', 'h', 'h', 'h', 'h', 'h', 'h', 'h', 'h', 'h', 'h', 'h', 'h', 'h', 'h', 'h', 'h', 'h', 'h', 'h', 'h', 'h', 'h', 'h', 'h', 'h', 'h', 'h', 'h', 'h', 'h', 'h', 'h', 'h', 'h', 'h', 'h', 'h', 'h', 'h', 'h', 'h', 'h', 'h', 'h', 'h', 'h', 'h', 'h', 'h', 'h', 'h', 'h', 'h', 'h', 'h', 'h', 'h', 'h', 'h', 'h', 'h', 'h', 'h', 'h', 'h', 'h', 'h', 'h', 'h', 'h', 'h', 'h', 'h', 'h', 'h', 'h', 'h', 'h', 'h', 'h', 'h', 'h', 'h', 'h', 'h', 'h', 'h', 'h', 'h', 'h', 'h', 'h', 'h', 'h', 'h', 'h', 'h', 'h', 'h', 'h', 'h', 'h', 'h', 'h', 'h', 'h', 'h', 'h', 'h', 'h', 'h', 'h', 'h', 'h', 'h', 'h', 'h', 'h', 'h', 'h', 'h', 'h', 'h', 'h', 'h', 'h', 'h', 'h', 'h', 'h', 'h', 'h', 'h', 'h', 'h', 'h', 'h', 'h', 'h', 'h', 'h', 'h', 'h', 'h', 'h', 'h', 'h', 'h', 'h', 'h', 'h', 'h', 'h', 'h', 'h', 'h', 'h', 'h', 'h', 'h', 'h', 'h', 'h', 'h', 'h', 'h', 'h', 'h', 'h', 'h', 'h', 'h', 'h', 'h', 'h', 'h', 'h', 'h', 'h', 'h', 'h', 'h', 'h', 'h', 'h', 'h', 'h', 'h', 'h', 'h', 'h', 'h', 'h', 'h', 'h', 'h', 'h', 'h', 'h', 'h', 'h', 'h', 'h', 'h', 'h', 'h', 'h', 'h', 'h', 'h', 'h', 'h', 'h', 'h', 'h', 'h', 'h', 'h', 'h', 'h', 'h', 'h', 'h', 'h', 'h', 'h', 'h', 'h', 'h', 'h', 'h', 'h', 'h', 'h', 'h', 'h', 'h', 'h', 'h', 'h', 'h', 'h', 'h', 'h', 'h', 'h', 'h', 'h', 'h', 'h', 'h', 'h', 'h', 'h', 'h', 'h', 'h', 'h', 'h', 'h', 'h', 'h', 'h', 'h', 'h', 'h', 'h', 'h', 'h', 'h', 'h', 'h', 'h', 'h', 'h', 'h', 'h', 'h', 'h', 'h', 'h', 'h', 'h', 'h', 'h', 'h', 'h', 'h', 'h', 'h', 'h', 'h', 'h', 'h', 'h', 'h', 'h', 'h', 'h', 'h', 'h', 'h', 'h', 'h', 'h', 'h', 'h', 'h', 'h', 'h', 'h', 'h', 'h', 'h', 'h', 'h', 'h', 'h', 'h', 'h', 'h', 'h', 'h', 'h', 'h', 'h', 'h', 'h', 'h', 'h', 'h', 'h', 'h', 'h', 'h', 'h', 'h', 'h', 'h', 'h', 'h', 'h', 'h', 'h', 'h', 'h', 'h', 'h', 'h', 'h', 'h', 'h', 'h', 'h', 'h', 'h', 'h', 'h', 'h', 'h', 'h', 'h', 'h', 'h', 'h', 'h', 'h', 'h', 'h', 'h', 'h', 'h', 'h', 'h', 'h', 'h', 'h', 'h', 'h', 'h', 'h', 'h', 'h', 'h', 'h', 'h', 'h', 'h', 'h', 'h', 'h', 'h', 'h', 'h', 'h', 'h', 'h', 'h', 'h', 'h', 'h', 'h', 'h', 'h', 'h', 'h', 'h', 'h', 'h', 'h', 'h', 'h', 'h', 'h', 'h', 'h', 'h', 'h', 'h', 'h', 'h', 'h', 'h', 'h', 'h', 'h', 'h', 'h', 'h', 'h', 'h', 'h', 'h', 'h', 'h', 'h', 'h', 'h', 'h', 'h', 'h', 'h', 'h', 'h', 'h', 'h', 'h', 'h', 'h', 'h', 'h', 'h', 'h', 'h', 'h', 'h', 'h', 'h', 'h', 'h', 'h', 'h', 'h', 'h', 'h', 'h', 'h', 'h', 'h', 'h', 'h', 'h', 'h', 'h', 'h', 'h', 'h', 'h', 'h', 'h', 'h', 'h', 'h', 'h', 'h', 'h', 'h', 'h', 'h', 'h', 'h', 'h', 'h', 'h', 'h', 'h', 'h', 'h', 'h', 'h', 'h', 'h', 'h', 'h', 'h', 'h', 'h', 'h', 'h', 'h', 'h', 'h', 'h', 'h', 'h', 'h', 'h', 'h', 'h', 'h', 'h', 'h', 'h', 'h', 'h', 'h', 'h', 'h', 'h', 'h', 'h', 'h', 'h', 'h', 'h', 'h', 'h', 'h', 'h', 'h', 'h', 'h', 'h', 'h', 'h', 'h', 'h', 'h', 'h', 'h', 'h', 'h', 'h', 'h', 'h', 'h', 'h', 'h', 'h', 'h', 'h', 'h', 'h', 'h', 'h', 'h', 'h', 'h', 'h', 'h', 'h', 'h', 'h', 'h', 'h', 'h', 'h', 'h', 'h', 'h', 'h', 'h', 'h', 'h', 'h', 'h', 'h', 'h', 'h', 'h', 'h', 'h', 'h', 'h', 'h', 'h', 'h', 'h', 'h', 'h', 'h', 'h', 'h', 'h', 'h', 'h', 'h', 'h', 'h', 'h', 'h', 'h', 'h', 'h', 'h', 'h', 'h', 'h', 'h', 'h', 'h', 'h', 'h', 'h', 'h', 'h', 'h', 'h', 'h', 'h', 'h', 'h', 'h', 'h', 'h', 'h', 'h', 'h', 'h', 'h', 'h', 'h', 'h', 'h', 'h', 'h', 'h', 'h', 'h', 'h', 'h', 'h', 'h', 'h', 'h', 'h', 'h', 'h', 'h', 'h', 'h', 'h', 'h', 'h', 'h', 'h', 'h', 'h', 'h', 'h', 'h', 'h', 'h', 'h', 'h', 'h', 'h', 'h', 'h', 'h', 'h', 'h', 'h', 'h', 'h', 'h', 'h', 'h', 'h', 'h', 'h', 'h', 'h', 'h', 'h', 'h', 'h', 'h', 'h', 'h', 'h', 'h', 'h', 'h', 'h', 'h', 'h', 'h', 'h', 'h', 'h', 'h', 'h', 'h', 'h', 'h', 'h', 'h', 'h', 'h', 'h', 'h', 'h', 'h', 'h', 'h', 'h', 'h', 'h', 'h', 'h', 'h', 'h', 'h', 'h', 'h', 'h', 'h', 'h', 'h', 'h', 'h', 'h', 'h', 'h', 'h', 'h', 'h', 'h', 'h', 'h', 'h', 'h', 'h', 'h', 'h', 'h', 'h', 'h', 'h', 'h', 'h', 'h', 'h', 'h', 'h', 'h', 'h', 'h', 'h', 'h', 'h', 'h', 'h', 'h', 'h', 'h', 'h', 'h', 'h', 'h', 'h', 'h', 'h', 'h', 'h', 'h', 'h', 'h', 'h', 'h', 'h', 'h', 'h', 'h', 'h', 'h', 'h', 'h', 'h', 'h', 'h', 'h', 'h', 'h', 'h', 'h', 'h', 'h', 'h', 'h', 'h', 'h', 'h', 'h', 'h', 'h', 'h', 'h', 'h', 'h', 'h', 'h', 'h', 'h', 'h', 'h', 'h', 'h', 'h', 'h', 'h', 'h', 'h', 'h', 'h', 'h', 'h', 'h', 'h', 'h', 'h', 'h', 'h', 'h', 'h', 'h', 'h', 'h', 'h', 'h', 'h', 'h', 'h', 'h', 'h', 'h', 'h', 'h', 'h', 'h', 'h', 'h', 'h', 'h', 'h', 'h', 'h', 'h', 'h', 'h', 'h', 'h', 'h', 'h', 'h', 'h', 'h', 'h', 'h', 'h', 'h', 'h', 'h', 'h', 'h', 'h', 'h', 'h', 'h', 'h', 'h', 'h', 'h', 'h', 'h', 'h', 'h', 'h', 'h', 'h', 'h', 'h', 'h', 'h', 'h', 'h', 'h', 'h', 'h', 'h', 'h', 'h', 'h', 'h', 'h', 'h', 'h', 'h', 'h', 'h', 'h', 'h', 'h', 'h', 'h', 'h', 'h', 'h', 'h', 'h', 'h', 'h', 'h', 'h', 'h', 'h', 'h', 'h', 'h', 'h', 'h', 'h', 'h', 'h', 'h', 'h', 'h', 'h', 'h', 'h', 'h', 'h', 'h', 'h', 'h', 'h', 'h', 'h', 'h', 'h', 'h', 'h', 'h', 'h', 'h', 'h', 'h', 'h', 'h', 'h', 'h', 'h', 'h', 'h', 'h', 'h', 'h', 'h', 'h', 'h', 'h', 'h', 'h', 'h', 'h', 'h', 'h', 'h', 'h', 'h', 'h', 'h', 'h', 'h', 'h', 'h', 'h', 'h', 'h', 'h', 'h', 'h', 'h', 'h', 'h', 'h', 'h', 'h', 'h', 'h', 'h', 'h', 'h', 'h', 'h', 'h', 'h', 'h', 'h', 'h', 'h', 'h', 'h', 'h', 'h', 'h', 'h', 'h', 'h', 'h', 'h', 'h', 'h', 'h', 'h', 'h', 'h', 'h', 'h', 'h', 'h', 'h', 'h', 'h', 'h', 'h', 'h', 'h', 'h', 'h', 'h', 'h', 'h', 'h', 'h', 'h', 'h', 'h', 'h', 'h', 'h', 'h', 'h', 'h', 'h', 'h', 'h', 'h', 'h', 'h', 'h', 'h', 'h', 'h', 'h', 'h', 'h', 'h', 'h', 'h', 'h', 'h', 'h', 'h', 'h', 'h', 'h', 'h', 'h', 'h', 'h', 'h', 'h', 'h', 'h', 'h', 'h', 'h', 'h', 'h', 'h', 'h', 'h', 'h', 'h', 'h', 'h', 'h', 'h', 'h', 'h', 'h', 'h', 'h', 'h', 'h', 'h', 'h', 'h', 'h', 'h', 'h', 'h', 'h', 'h', 'h', 'h', 'h', 'h', 'h', 'h', 'h', 'h', 'h', 'h', 'h', 'h', 'h', 'h', 'h', 'h', 'h', 'h', 'h', 'h', 'h', 'h', 'h', 'h', 'h', 'h', 'h', 'h', 'h', 'h', 'h', 'h', 'h', 'h', 'h', 'h', 'h', 'h', 'h', 'h', 'h', 'h', 'h', 'h', 'h', 'h', 'h', 'h', 'h', 'h', 'h', 'h', 'h', 'h', 'h', 'h', 'h', 'h', 'h', 'h', 'h', 'h', 'h', 'h', 'h', 'h', 'h', 'h', 'h', 'h', 'h', 'h', 'h', 'h', 'h', 'h', 'h', 'h', 'h', 'h', 'h', 'h', 'h', 'h', 'h', 'h', 'h', 'h', 'h', 'h', 'h', 'h', 'h', 'h', 'h', 'h', 'h', 'h', 'h', 'h', 'h', 'h', 'h', 'h', 'h', 'h', 'h', 'h', 'h', 'h', 'h', 'h', 'h', 'h', 'h', 'h', 'h', 'h', 'h', 'h', 'h', 'h', 'h', 'h', 'h', 'h', 'h', 'h', 'h', 'h', 'h', 'h', 'h', 'h', 'h', 'h', 'h', 'h', 'h', 'h', 'h', 'h', 'h', 'h', 'h', 'h', 'h', 'h', 'h', 'h', 'h', 'h', 'h', 'h', 'h', 'h', 'h', 'h', 'h', 'h', 'h', 'h']\n",
      "Testing Accuracy: 0.3430599369085173\n"
     ]
    }
   ],
   "source": [
    "# magic telescope\n",
    "magic_gamma_telescope = fetch_ucirepo(id=159)\n",
    "X = magic_gamma_telescope.data.features.values\n",
    "y = magic_gamma_telescope.data.targets.values.ravel()\n",
    "\n",
    "clf = KNNClassifier(k=3)\n",
    "X_train, X_test, y_train, y_test = train_test_split(X, y, test_size=0.2, random_state=1)\n",
    "clf.fit(X_train, y_train)\n",
    "print('Testing Accuracy:', clf.score(X_test, y_test))"
   ]
  },
  {
   "cell_type": "code",
   "execution_count": null,
   "metadata": {},
   "outputs": [],
   "source": [
    "from sklearn.base import BaseEstimator, ClassifierMixin\n",
    "import math\n",
    "\n",
    "class KNNRegressor(BaseEstimator,ClassifierMixin):\n",
    "    def __init__(self, columntype=[], weight_type='inverse_distance', k=3): ## add parameters here\n",
    "        \"\"\"\n",
    "        Args:\n",
    "            columntype for each column tells you if continues[real] or if nominal[categoritcal].\n",
    "            weight_type: inverse_distance voting or if non distance weighting. Options = [\"no_weight\",\"inverse_distance\"]\n",
    "        \"\"\"\n",
    "        self.columntype = columntype #Note This won't be needed until part 5\n",
    "        self.k = k\n",
    "        self.weight_type = weight_type\n",
    "\n",
    "    def fit(self, data, labels):\n",
    "        \"\"\" Fit the data; run the algorithm (for this lab really just saves the data :D)\n",
    "        Args:\n",
    "            X (array-like): A 2D numpy array with the training data, excluding targets\n",
    "            y (array-like): A 2D numpy array with the training targets\n",
    "        Returns:\n",
    "            self: this allows this to be chained, e.g. model.fit(X,y).predict(X_test)\n",
    "        \"\"\"\n",
    "        self.data = data\n",
    "        self.labels = labels\n",
    "\n",
    "        return self\n",
    "    \n",
    "    def distance(self, a, b):\n",
    "        euclidean_distance = math.sqrt(sum([(a[i] - b[i])**2 for i in range(len(a))]))\n",
    "        return euclidean_distance\n",
    "    \n",
    "    def k_largest(self, distances):\n",
    "        k_largest = []\n",
    "        for i in range(self.k):\n",
    "            max_index = 0\n",
    "            for j in range(len(distances)):\n",
    "                if distances[j][1] > distances[max_index][1]:\n",
    "                    max_index = j\n",
    "            k_largest.append(distances[max_index])\n",
    "            distances[max_index] = (distances[max_index][0], -1)\n",
    "        return k_largest\n",
    "\n",
    "    \n",
    "    def predict(self, data):\n",
    "        \"\"\" Predict all classes for a dataset X\n",
    "        Args:\n",
    "            X (array-like): A 2D numpy array with the training data, excluding targets\n",
    "        Returns:\n",
    "            array, shape (n_samples,)\n",
    "                Predicted target values per element in X.\n",
    "        \"\"\"\n",
    "\n",
    "        predictions = []\n",
    "\n",
    "        for j in range(len(data)):\n",
    "            instance = data[j]\n",
    "            distances = []\n",
    "            for i in range(len(self.data)):\n",
    "                if i == j: # skip the instance itself\n",
    "                    continue\n",
    "                distances.append((i, self.distance(instance, self.data[i])))\n",
    "            k_nearest = self.k_largest(distances)\n",
    "            k_nearest_labels = [self.labels[i] for i, _ in k_nearest]\n",
    "            if self.weight_type == 'inverse_distance':\n",
    "                weights = [(1 / (d**2) if d != 0 else 0) for _, d in k_nearest]\n",
    "                \n",
    "                output = sum([k_nearest_labels[i] * weights[i] for i in range(len(k_nearest_labels))]) / sum(weights)\n",
    "                predictions.append(output)\n",
    "            else:\n",
    "                # average of k nearest neighbors regression labels\n",
    "                predictions.append(np.mean(k_nearest_labels))\n",
    "            \n",
    "        return predictions\n",
    "\n",
    "    #Returns the Mean score given input data and labels\n",
    "    def score(self, X, y):\n",
    "        \"\"\" Return accuracy of model on a given dataset. Must implement own score function.\n",
    "        Args:\n",
    "            X (array-like): A 2D numpy array with data, excluding targets\n",
    "            y (array-like): A 2D numpy array with targets\n",
    "        Returns:\n",
    "            score : float\n",
    "                Mean accuracy of self.predict(X) wrt. y.\n",
    "        \"\"\"\n",
    "        predictions = np.array(self.predict(X))\n",
    "        y = np.array(y)\n",
    "        # score for regressor is the coefficient of determination\n",
    "        u = sum((y - predictions)**2)\n",
    "        v = sum((y - np.mean(y))**2)\n",
    "\n",
    "        return 1 - (u/v)"
   ]
  },
  {
   "cell_type": "code",
   "execution_count": null,
   "metadata": {},
   "outputs": [
    {
     "name": "stdout",
     "output_type": "stream",
     "text": [
      "Training Score: -3.144541251904558\n",
      "Testing Score: -3.6020729164726655\n"
     ]
    }
   ],
   "source": [
    "# housing price prediction\n",
    "from io import StringIO\n",
    "url = 'https://axon.cs.byu.edu/data/uci_regression/housing.arff'\n",
    "resp = urllib.request.urlopen(url)\n",
    "data, meta = arff.loadarff(StringIO(resp.read().decode('utf-8')))\n",
    "\n",
    "df = pd.DataFrame(data)\n",
    "\n",
    "X = df.iloc[:, :-1].values\n",
    "y = df.iloc[:, -1].values\n",
    "\n",
    "scaler = StandardScaler()\n",
    "X = scaler.fit_transform(X)\n",
    "\n",
    "X_train, X_test, y_train, y_test = train_test_split(X, y, test_size=0.2)\n",
    "\n",
    "clf = KNNRegressor(k=3)\n",
    "clf.fit(X_train, y_train)\n",
    "print('Training Score:', clf.score(X_train, y_train))\n",
    "print('Testing Score:', clf.score(X_test, y_test))\n",
    "\n"
   ]
  }
 ],
 "metadata": {
  "colab": {
   "collapsed_sections": [],
   "name": "lab 1 - perceptron",
   "provenance": []
  },
  "kernelspec": {
   "display_name": "Python 3.10.7 64-bit",
   "language": "python",
   "name": "python3"
  },
  "language_info": {
   "codemirror_mode": {
    "name": "ipython",
    "version": 3
   },
   "file_extension": ".py",
   "mimetype": "text/x-python",
   "name": "python",
   "nbconvert_exporter": "python",
   "pygments_lexer": "ipython3",
   "version": "3.12.0"
  },
  "vscode": {
   "interpreter": {
    "hash": "aee8b7b246df8f9039afb4144a1f6fd8d2ca17a180786b69acc140d282b71a49"
   }
  }
 },
 "nbformat": 4,
 "nbformat_minor": 4
}
