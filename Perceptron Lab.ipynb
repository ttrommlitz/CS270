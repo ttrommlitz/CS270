{
  "cells": [
    {
      "cell_type": "markdown",
      "metadata": {
        "id": "DVL7_bgmIAPR"
      },
      "source": [
        "# Perceptron Lab"
      ]
    },
    {
      "cell_type": "markdown",
      "metadata": {
        "id": "rBIfzcfn3QPO"
      },
      "source": [
        "This is the scaffold notebook for the perceptron lab and each lab will have a similar scaffold.  Make your own copy of this notebook and then you can fill in the tasks.  **You will fill in code boxes and test boxes with discussion for most tasks** and particularly discussion of results, graphs, etc. Good writing, grammar, punctuation, etc. are important and points will be taken off if these things are lacking. \n",
        "\n",
        "In most cases just reporting results without discussion will not receive full credit. Thus, your discussion should also include sentences like the following: This is because…  Note that the …  I was surprised to observe… I am not sure why …, but my hypothesis is that …\n",
        "\n",
        "Start by looking over the scikit-learn [user guide](https://scikit-learn.org/stable/user_guide.html) and carefully reading over the [perceptron documentation](https://scikit-learn.org/stable/modules/generated/sklearn.linear_model.Perceptron.html)."
      ]
    },
    {
      "cell_type": "code",
      "execution_count": 1,
      "metadata": {
        "id": "6ZbYjZZZ_yLV"
      },
      "outputs": [],
      "source": [
        "# imports\n",
        "import numpy as np\n",
        "from scipy.io import arff\n",
        "import pandas as pd"
      ]
    },
    {
      "cell_type": "markdown",
      "metadata": {
        "id": "KibCIXIThpbE"
      },
      "source": [
        "## 1. Debug and Evaluation\n",
        "\n",
        "For most labs we will give you some data and expected results so that you can verify that you are doing things right and getting appropriate results.  We will then have you run on some other data with the exact same hyperparameters so we can see if your results are correct. \n",
        "\n",
        "### 1.1 Debug (5%)\n",
        "Download this [data set](https://raw.githubusercontent.com/cs472ta/CS472/master/datasets/linsep2nonorigin.arff) into your local directory and name it debug.arff.  To download rather than view, right-click the link and save as.  To allow consistent results run the Perceptron using the following hyperparameters:\n",
        "- Learning rate = .1\n",
        "- Do NOT shuffle the data after every epoch like you would normally do\n",
        "- Learn for a maximum of 10 epochs\n",
        "- Start all weights at 0 (which is the default for this scikit-learn implementation)  \n",
        "\n",
        "Your results should be:\n",
        "Accuracy = [.875]\\\n",
        "Final Weights = [[-0.23  0.18]]\\\n",
        "[-0.1] - This last weight is the bias weight, which they call the intercept.\n",
        "\n",
        "To help you with this first task, following is one detailed variation that would do this for you. You may use your own variation.  Note that commonly used variable names in the community are clf (classifier), X (array of input features), y (vector of output labels)."
      ]
    },
    {
      "cell_type": "code",
      "execution_count": 2,
      "metadata": {
        "id": "KgAyy82gixIF"
      },
      "outputs": [
        {
          "name": "stdout",
          "output_type": "stream",
          "text": [
            "[[-0.23  0.18]]\n",
            "[-0.1]\n",
            "0.875\n"
          ]
        },
        {
          "name": "stderr",
          "output_type": "stream",
          "text": [
            "/Users/tylertrommlitz/miniconda3/envs/cs270/lib/python3.12/site-packages/sklearn/linear_model/_stochastic_gradient.py:713: ConvergenceWarning: Maximum number of iteration reached before convergence. Consider increasing max_iter to improve the fit.\n",
            "  warnings.warn(\n"
          ]
        }
      ],
      "source": [
        "from sklearn.linear_model import Perceptron\n",
        "\n",
        "PATH_TO_DEBUG_ARFF = 'datasets/linsep2nonorigin.arff'\n",
        "\n",
        "clf = Perceptron(shuffle=False, verbose=0, eta0=.1, max_iter=10)\n",
        "Data_Set = arff.loadarff(PATH_TO_DEBUG_ARFF)\n",
        "Data_Set_df = pd.DataFrame(Data_Set[0])\n",
        "Data_Set_np = Data_Set_df.to_numpy()\n",
        "Data_Set_np = Data_Set_np.astype(float)\n",
        "X = Data_Set_np[:, :-1]\n",
        "y = Data_Set_np[:, -1]\n",
        "clf.fit(X, y)\n",
        "print(clf.coef_)\n",
        "print(clf.intercept_)\n",
        "print(clf.score(X, y))"
      ]
    },
    {
      "cell_type": "markdown",
      "metadata": {},
      "source": [
        "Notes:\n",
        "* If you increase (or just remove) max_iter your perceptron will converge to 100% in one more epoch.  Try it!\n",
        "* verbose (integer) specifies how much info you get after each epoch.  It does not change results.  Try it with 0.\n",
        "    * Norm is a measure of the total weight magnitudes in the current model.\n",
        "    * NNZs is the number of non-zero weights there currently are (not including the bias).\n",
        "    * clf.intercept_ is the value of the bias weight, NOT the actual y-intercept of the decision surface, though it will affect that.\n",
        "    * T is the total number of weight updates so far.  In this case all the weights were updated each epoch.\n",
        "    * Avg. loss is another measure of error.  More on that later.\n",
        "    * The activation function outputs 1 if net > 0, else 0."
      ]
    },
    {
      "cell_type": "markdown",
      "metadata": {
        "id": "kY3VNB1ui03N"
      },
      "source": [
        "### 1.2 (5%) Evaluation\n",
        "\n",
        "Now run your model  on the [evaluation dataset](https://raw.githubusercontent.com/cs472ta/CS472/master/datasets/data_banknote_authentication.arff) and report the final accuracy, weights, and bias. Use the exact same hyperparameters as the debug dataset. The most common reason for results not matching ours is not exactly using the same hyperparameters (e.g. initial weights, training exactly 10 epochs, no shuffling, etc.) Hint: Throughout these labs for the numerous cases where you are doing the same task, but with different data (e.g. debug, eval), you could create a function where you just pass the data set name, so as not to recreate the code multiple times."
      ]
    },
    {
      "cell_type": "code",
      "execution_count": 3,
      "metadata": {
        "id": "2yAxA78QjDh2"
      },
      "outputs": [
        {
          "name": "stdout",
          "output_type": "stream",
          "text": [
            "Accuracy: 0.9766763848396501\n",
            "Weights: [[-4.28857497 -2.390381   -3.0160324  -1.1686672 ]]\n",
            "Bias: [5.2]\n"
          ]
        }
      ],
      "source": [
        "# Load evaluation data\n",
        "# Train on the evaluation data\n",
        "# print your accuracy and weights. Do not enter these values by hand.\n",
        "\n",
        "PATH_TO_EVAL_ARFF = 'datasets/data_banknote_authentication.arff'\n",
        "\n",
        "clf = Perceptron(shuffle=False, verbose=0, eta0=.1, max_iter=10)\n",
        "Data_Set = arff.loadarff(PATH_TO_EVAL_ARFF)\n",
        "Data_Set_df = pd.DataFrame(Data_Set[0])\n",
        "Data_Set_np = Data_Set_df.to_numpy()\n",
        "Data_Set_np = Data_Set_np.astype(float)\n",
        "X = Data_Set_np[:, :-1]\n",
        "y = Data_Set_np[:, -1]\n",
        "clf.fit(X, y)\n",
        "print('Accuracy:', clf.score(X, y))\n",
        "print('Weights:', clf.coef_)\n",
        "print('Bias:', clf.intercept_)\n"
      ]
    },
    {
      "cell_type": "markdown",
      "metadata": {
        "id": "U-4J5VcS9umq"
      },
      "source": [
        "*Discussion - Open this box and type in your discussion.*  Note that after each exercise you will have a chance to discuss your effort and results.\n",
        "\n",
        "This perceptron is attempting to predict the value of the last column in the dataset, which is entropy_wavelet, using the values of the other features in the dataset. When fitting and testing with the given evaluation dataset, the perceptron gained an accuracy of .977. It is interesting that the accuracy is less than 1, considering that we are are trying to predict the same outcomes that the perceptron was trained on. Our final weights are the vector [-4.28857497 -2.390381   -3.0160324  -1.1686672 ]. These are assigning value to each of the 4 input features and how much they should be considered when predicting the output. The bias is 5.2, which affects the perceptron's threshold and shifts the decision boundary up. \n"
      ]
    },
    {
      "cell_type": "markdown",
      "metadata": {
        "id": "9vWiTdlbR2Xh"
      },
      "source": [
        "## 2. Classifying on linearly separable and non-linearly separable data\n",
        "\n",
        "### 2.1 (5%) Create 2 datasets\n",
        "\n",
        "- Both with 8 instances using 2 real valued inputs with 4 instances from each class. \n",
        "- One data set should be linearly separable and the other not.\n",
        "- Show or print your datasets"
      ]
    },
    {
      "cell_type": "code",
      "execution_count": 4,
      "metadata": {
        "id": "4SSoasDQSKXb"
      },
      "outputs": [
        {
          "name": "stdout",
          "output_type": "stream",
          "text": [
            "liearly separable dataset: [[0.5 2.5 1. ]\n",
            " [1.5 2.5 1. ]\n",
            " [0.5 1.5 1. ]\n",
            " [1.5 1.5 1. ]\n",
            " [3.5 0.5 1. ]\n",
            " [4.5 0.5 1. ]\n",
            " [3.5 1.5 1. ]\n",
            " [4.5 1.5 1. ]]\n",
            "Non-linearly separable dataset: [[1 1 1]\n",
            " [1 2 1]\n",
            " [2 1 1]\n",
            " [2 2 1]\n",
            " [3 1 1]\n",
            " [3 2 1]\n",
            " [4 1 1]\n",
            " [4 2 1]]\n"
          ]
        }
      ],
      "source": [
        "# Create and show the 2 datasets. \n",
        "# You could do it here in Python or create arff files in your local folder with a text editor.  Either way show your dataset.\n",
        "dataset_1 = np.array([[.5, 2.5, 1], [1.5, 2.5, 1], [.5, 1.5, 1], [1.5, 1.5, 1], [3.5, .5, 1], [4.5, .5, 1], [3.5, 1.5, 1], [4.5, 1.5, 1]])\n",
        "labels_1 = np.array([1, 1, 1, 1, 0, 0, 0, 0])\n",
        "dataset_2 = np.array([[1, 1, 1], [1, 2, 1], [2, 1, 1], [2, 2, 1], [3, 1, 1], [3, 2, 1], [4, 1, 1], [4, 2, 1]])\n",
        "labels_2 = np.array([1, 0, 0, 1, 1, 0, 0, 1])\n",
        "\n",
        "print('liearly separable dataset:', dataset_1)\n",
        "print('Non-linearly separable dataset:', dataset_2)\n"
      ]
    },
    {
      "cell_type": "markdown",
      "metadata": {
        "id": "SIRG42TgSR4x"
      },
      "source": [
        "### 2.2 (5%) Train on both sets using the scikit-learn perceptron model\n",
        "- Train on each and print the results. Train until convergence (i.e. use the default max_iter by simply not specifying it).\n",
        "- You may choose your other hyperparameters."
      ]
    },
    {
      "cell_type": "code",
      "execution_count": 5,
      "metadata": {
        "id": "KBGUn43ASiXW"
      },
      "outputs": [
        {
          "name": "stdout",
          "output_type": "stream",
          "text": [
            "Dataset 1 Accuracy: 1.0\n",
            "Dataset 1 Weights: [[-0.35  0.45  0.1 ]]\n",
            "Dataset 1 Bias: [0.1]\n",
            "Dataset 2 Accuracy: 0.5\n",
            "Dataset 2 Weights: [[ 0.5 -0.1 -0.2]]\n",
            "Dataset 2 Bias: [-0.2]\n"
          ]
        }
      ],
      "source": [
        "# Train and print results with both datasets \n",
        "\n",
        "clf = Perceptron(shuffle=False, verbose=0, eta0=.1)\n",
        "clf.fit(dataset_1, labels_1)\n",
        "print('Dataset 1 Accuracy:', clf.score(dataset_1, labels_1))\n",
        "print('Dataset 1 Weights:', clf.coef_)\n",
        "print('Dataset 1 Bias:', clf.intercept_)\n",
        "dataset_1_weights = clf.coef_\n",
        "dataset_1_bias = clf.intercept_\n",
        "\n",
        "clf = Perceptron(shuffle=False, verbose=0, eta0=.1)\n",
        "clf.fit(dataset_2, labels_2)\n",
        "print('Dataset 2 Accuracy:', clf.score(dataset_2, labels_2))\n",
        "print('Dataset 2 Weights:', clf.coef_)\n",
        "print('Dataset 2 Bias:', clf.intercept_)\n",
        "dataset_2_weights = clf.coef_\n",
        "dataset_2_bias = clf.intercept_\n"
      ]
    },
    {
      "cell_type": "markdown",
      "metadata": {
        "id": "890A39KX9zLC"
      },
      "source": [
        "*Discussion*\n",
        "\n",
        "Training the perceptron on the linearly separable dataset resulted in an accuracy of 100%. Training it on the non-linearly separable dataset resulted in an accuracy of 50%. This is because the perceptron performs worse on data that is not linearly separable due to its design. An accuracy of 50% is the same as randomly guessing the output, meaning that the perceptron did not actually learn anything from the data. Both of these results make sense when looking at the structure of the datasets below. "
      ]
    },
    {
      "cell_type": "markdown",
      "metadata": {
        "id": "v19fpixqTe-7"
      },
      "source": [
        "### 2.3 (10%) Graph the datasets and their corresponding decision line\n",
        " \n",
        " - Graph each dataset\n",
        " - Use your trained perceptrons above to determine each dataset's decision line\n",
        "    - We discssed how to find the slope and intercept in class and the equation is in the Percptron slides\n",
        " - For all graphs always label the axes!\n",
        " - Following are examples of what graphs could look like\n",
        " \n",
        "![Linearly Separable Data](https://raw.githubusercontent.com/rmorain/CS472-1/master/images/perceptron/linearly_separable.png)\n",
        "\n",
        "![Not Linearly Separable](https://raw.githubusercontent.com/rmorain/CS472-1/master/images/perceptron/not_linearly_separable.png)"
      ]
    },
    {
      "cell_type": "code",
      "execution_count": 6,
      "metadata": {
        "colab": {
          "base_uri": "https://localhost:8080/",
          "height": 312
        },
        "id": "8l64tZUqCEwy",
        "outputId": "d111d17a-4813-4e52-c0df-3790ebe6f7b6"
      },
      "outputs": [
        {
          "data": {
            "image/png": "[encoded data removed]",
            "text/plain": [
              "<Figure size 640x480 with 1 Axes>"
            ]
          },
          "metadata": {},
          "output_type": "display_data"
        }
      ],
      "source": [
        "# Sample Graph code, You can use any graphing approach you want including this one.\n",
        "# We encourage you to use matplotlib.\n",
        "import matplotlib.pyplot as plt\n",
        "\n",
        "# The data in this example is made up.  You will use your real data.\n",
        "data = np.array([[-.9,-.9],[-.6,.6],[-.3,.3],[-.1,.1],[.1,.456],[.3,-.324],[.6,.778],[.9,-.76]])\n",
        "labels = np.array([0,0,0,0,1,1,1,1])\n",
        "\n",
        "# Create a scatter plot of data\n",
        "plt.xlim(-1,1)\n",
        "plt.ylim(-1,1)\n",
        "scatter = plt.scatter(data[:,0], data[:,1], c = labels, s=200, cmap='seismic')\n",
        "legend = plt.legend(*scatter.legend_elements(num=1), title=\"Class\", loc='upper right') # Legend\n",
        "\n",
        "# Plot the learned separator.  We just made up the slope and intercept for this example. You need to calculate \n",
        "# the correct slope and intercept using your learned weights and bias.\n",
        "xlist = np.linspace(-1.0, 1.0, 100) # create 100 evenly spaced points between -1 and 1 for the x axis\n",
        "ylist = np.linspace(-1.0, 1.0, 100) # create 100 evenly spaced points between -1 and 1 for the y axis\n",
        "slope = -2  # made up\n",
        "intercept = 0.1 # made up\n",
        "eq = slope*xlist + intercept\n",
        "plt.plot(xlist,  eq, '-k', )\n",
        "plt.title('Linearly Separable Data Example')\n",
        "plt.xlabel('x')\n",
        "plt.ylabel('y')\n",
        "plt.grid() # add grid lines\n",
        "plt.show() # show the plot"
      ]
    },
    {
      "cell_type": "code",
      "execution_count": 7,
      "metadata": {
        "id": "ZCPFUAGTS2sX"
      },
      "outputs": [
        {
          "data": {
            "image/png": "[encoded data removed]",
            "text/plain": [
              "<Figure size 640x480 with 1 Axes>"
            ]
          },
          "metadata": {},
          "output_type": "display_data"
        },
        {
          "data": {
            "image/png": "[encoded data removed]",
            "text/plain": [
              "<Figure size 640x480 with 1 Axes>"
            ]
          },
          "metadata": {},
          "output_type": "display_data"
        }
      ],
      "source": [
        "import matplotlib.pyplot as plt\n",
        "\n",
        "# Create a scatter plot of data\n",
        "plt.xlim(0,5)\n",
        "plt.ylim(0,3)\n",
        "scatter = plt.scatter(dataset_1[:,0], dataset_1[:,1], c = labels_1, s=200, cmap='seismic')\n",
        "legend = plt.legend(*scatter.legend_elements(num=1), title=\"Class\", loc='upper right') # Legend\n",
        "\n",
        "# Plot the learned separator.  We just made up the slope and intercept for this example. You need to calculate \n",
        "# the correct slope and intercept using your learned weights and bias.\n",
        "xlist = np.linspace(0, 5, 100) # create 100 evenly spaced points between 0 and 5 for the x axis\n",
        "ylist = np.linspace(0, 3, 100) # create 100 evenly spaced points between 0 and 3 for the y axis\n",
        "slope = (-1 * dataset_1_weights[0][0]) / dataset_1_weights[0][1]\n",
        "intercept = -1 * dataset_1_weights[0][2] / dataset_1_weights[0][1]\n",
        "eq = slope*xlist + intercept\n",
        "plt.plot(xlist,  eq, '-k', )\n",
        "plt.title('Linearly Separable Data Example')\n",
        "plt.xlabel('x')\n",
        "plt.ylabel('y')\n",
        "plt.grid() # add grid lines\n",
        "plt.show() # show the plot\n",
        "\n",
        "\n",
        "\n",
        "# Create a scatter plot of data\n",
        "plt.xlim(0,5)\n",
        "plt.ylim(0,3)\n",
        "scatter = plt.scatter(dataset_2[:,0], dataset_2[:,1], c = labels_2, s=200, cmap='seismic')\n",
        "legend = plt.legend(*scatter.legend_elements(num=1), title=\"Class\", loc='upper right') # Legend\n",
        "\n",
        "# Plot the learned separator.  We just made up the slope and intercept for this example. You need to calculate\n",
        "# the correct slope and intercept using your learned weights and bias.\n",
        "xlist = np.linspace(0, 5, 100) # create 100 evenly spaced points between 0 and 5 for the x axis\n",
        "ylist = np.linspace(0, 3, 100) # create 100 evenly spaced points between 0 and 3 for the y axis\n",
        "slope = (-1 * dataset_2_weights[0][0]) / dataset_2_weights[0][1]\n",
        "intercept = -1 * dataset_2_weights[0][2] / dataset_2_weights[0][1]\n",
        "eq = slope*xlist + intercept\n",
        "plt.plot(xlist,  eq, '-k', )\n",
        "plt.title('Non-Linearly Separable Data Example')\n",
        "plt.xlabel('x')\n",
        "plt.ylabel('y')\n",
        "plt.grid() # add grid lines\n",
        "plt.show() # show the plot"
      ]
    },
    {
      "cell_type": "markdown",
      "metadata": {
        "id": "M7dyHR0c92zd"
      },
      "source": [
        "*Discussion*\n",
        "\n",
        "Because the first dataset is linearly separable, the perceptron is able to find a decision boundary that perfectly separates the data. If the perceptron is tested against new instances, it will predict based off of this decision boundary. The line that makes up the decision boundary is generated from the weights and bias discovered when training the model. The weights disovered by the model are just one possible set of weights that would result in a decision boundary that perfectly separates the data.\n",
        "\n",
        "The second datasest is not linearly separable. In fact, the points are set up so that there is no possibility of a decision line classifying even slightly. Specifically, the alternating pattern of the instances is the worst possible case for the perceptron. Because of this, the perceptron completely fails to learn anything about the data to help predict future test instances. There is no set of weights that will help the model classify instances. The model has an accuracy of 50%, which is no better than guessing. The decision boundary that is generated is completely useless, and it should not be relied upon to classify new instances with any degree of confidence."
      ]
    },
    {
      "cell_type": "markdown",
      "metadata": {
        "id": "_N5RXV8AzdRF"
      },
      "source": [
        "### 2.4 (5%) Discuss why perceptrons in general will not get perfect accuracy on non-linearly separable data"
      ]
    },
    {
      "cell_type": "markdown",
      "metadata": {
        "id": "0hSjHuLdzdRF"
      },
      "source": [
        "*Discussion*\n",
        "\n",
        "Perceptrons are meant to give binary output. For example, it can classify an instance into 1 of 2 classes, or it can say whether an instance is in a class or not. The perceptron learns by adjusting the weights to try to create a hyperplane that separates the input data by class. If the dataset is not linearly-separable, it will be impossible for the weights to represent a hyperplane that separates the data perfectly. This is why perceptrons will not get perfect accuracy on non-linearly separable data."
      ]
    },
    {
      "cell_type": "markdown",
      "metadata": {
        "id": "0ySvhd1lUGSe"
      },
      "source": [
        "## 3. Use the perceptron to learn this version of the [voting data set](https://raw.githubusercontent.com/cs472ta/CS472/master/datasets/voting-dataset.arff)\n",
        "\n",
        "This particular task is an edited version of the standard voting set, where we have replaced all the “don’t know” values with the most common value for the particular attribute. Look at the [tutorial](https://github.com/cs472ta/CS472/blob/master/Tutorial.ipynb) from the Labs Content page to see examples of prepping the voting data set for sklearn.\n",
        "\n",
        "### 3.1 (10%) Average final training and test set accuracy over multiple trials\n",
        "\n",
        "- Learn the voting data five times with different random 70/30 Training/Test splits each time\n",
        "- Use a learning rate of 1.  The other hyperparameters are up to you.\n",
        "- Report the 5 trials and the average training and test accuracy and number of epochs to converge across the 5 trials in a table \n",
        "    - Below is an example of what a 2 trial table might look like\n",
        "\n",
        "| Trial | Training Accuracy | Test accuracy | Number of epochs |\n",
        "| --- | --- | --- | --- |\n",
        "| 1 | .950 | .550 | 4 |\n",
        "| 2 | .850 | .450 | 6 |\n",
        "| Average | .900 | .500 | 5 | \n",
        "\n",
        "*- As a rough sanity check, typical Perceptron test accuracies for the voting data set are 90%-98%.*\n"
      ]
    },
    {
      "cell_type": "code",
      "execution_count": 8,
      "metadata": {
        "id": "Romyl4G8Trki"
      },
      "outputs": [
        {
          "name": "stdout",
          "output_type": "stream",
          "text": [
            "+---------+---------------------+-----------------+--------------------+\n",
            "| Trial   |   Training Accuracy |   Test Accuracy |   Number of Epochs |\n",
            "+=========+=====================+=================+====================+\n",
            "| 1       |            0.956522 |        0.94964  |               17   |\n",
            "+---------+---------------------+-----------------+--------------------+\n",
            "| 2       |            0.965839 |        0.913669 |               12   |\n",
            "+---------+---------------------+-----------------+--------------------+\n",
            "| 3       |            0.975155 |        0.935252 |               19   |\n",
            "+---------+---------------------+-----------------+--------------------+\n",
            "| 4       |            0.97205  |        0.928058 |               21   |\n",
            "+---------+---------------------+-----------------+--------------------+\n",
            "| 5       |            0.968944 |        0.935252 |               14   |\n",
            "+---------+---------------------+-----------------+--------------------+\n",
            "| Average |            0.967702 |        0.932374 |               16.6 |\n",
            "+---------+---------------------+-----------------+--------------------+\n"
          ]
        }
      ],
      "source": [
        "# Run the perceptron 5 times on the voting data set with different splits and record the results.\n",
        "# Hint: look up scikit-learn train_test_split\n",
        "# Create the table using the tool of your choice\n",
        "\n",
        "from sklearn.model_selection import train_test_split\n",
        "from sklearn.preprocessing import LabelEncoder\n",
        "from tabulate import tabulate\n",
        "\n",
        "PATH_TO_VOTING_ARFF = 'datasets/voting-dataset.arff'\n",
        "\n",
        "Data_Set = arff.loadarff(PATH_TO_VOTING_ARFF)\n",
        "Data_Set_df = pd.DataFrame(Data_Set[0])\n",
        "voting_label_encoded_df = Data_Set_df.apply(LabelEncoder().fit_transform)\n",
        "\n",
        "X = voting_label_encoded_df.iloc[:, :-1]\n",
        "y = voting_label_encoded_df.iloc[:, -1]\n",
        "\n",
        "table_head = ['Trial', 'Training Accuracy', 'Test Accuracy', 'Number of Epochs']\n",
        "table_results = []\n",
        "\n",
        "for i in range(5):\n",
        "    clf = Perceptron(shuffle=False, verbose=0, eta0=1)\n",
        "    X_train, X_test, y_train, y_test = train_test_split(X, y, test_size=0.3)\n",
        "    clf.fit(X_train, y_train)\n",
        "    # add results to table\n",
        "    table_results.append([i + 1, clf.score(X_train, y_train), clf.score(X_test, y_test), clf.n_iter_])\n",
        "\n",
        "table_results.append(['Average', np.mean(table_results, axis=0)[1], np.mean(table_results, axis=0)[2], np.mean(table_results, axis=0)[3]])\n",
        "print(tabulate(table_results, headers=table_head, tablefmt='grid'))\n",
        "\n",
        "\n"
      ]
    },
    {
      "cell_type": "markdown",
      "metadata": {
        "id": "cm4rbWkzVeoR"
      },
      "source": [
        "### 3.2 (10%) Interpreting the Model\n",
        "- Learn with the perceptron once on the full voting data set\n",
        "- Look at the learned weights and bias and do your best to explain what the model has learned and how the individual input features affect the result. \n",
        "- Which specific features are most critical for the voting task, and which are least critical? "
      ]
    },
    {
      "cell_type": "code",
      "execution_count": 9,
      "metadata": {},
      "outputs": [
        {
          "name": "stdout",
          "output_type": "stream",
          "text": [
            "Accuracy: 0.9310344827586207\n",
            "features: Index(['handicapped-infants', 'water-project-cost-sharing',\n",
            "       'adoption-of-the-budget-resolution', 'physician-fee-freeze',\n",
            "       'el-salvador-aid', 'religious-groups-in-schools',\n",
            "       'anti-satellite-test-ban', 'aid-to-nicaraguan-contras', 'mx-missile',\n",
            "       'immigration', 'synfuels-corporation-cutback', 'education-spending',\n",
            "       'superfund-right-to-sue', 'crime', 'duty-free-exports',\n",
            "       'export-administration-act-south-africa', 'Class'],\n",
            "      dtype='object')\n",
            "Weights: [[  4. -12. -22.  58.  -8.  -5.   8. -13. -11.   6. -26.  11.  -1.   2.\n",
            "  -21.   3.]]\n",
            "Bias: [-1.]\n"
          ]
        }
      ],
      "source": [
        "#Learn once on the full voting data set.  If you Look at our tutorial at the beginning \n",
        "\n",
        "PATH_TO_VOTING_ARFF = 'datasets/voting_with_missing.arff'\n",
        "\n",
        "Data_Set = arff.loadarff(PATH_TO_VOTING_ARFF)\n",
        "Data_Set_df = pd.DataFrame(Data_Set[0])\n",
        "voting_label_encoded_df = Data_Set_df.apply(LabelEncoder().fit_transform)\n",
        "\n",
        "X = voting_label_encoded_df.iloc[:, :-1]\n",
        "y = voting_label_encoded_df.iloc[:, -1]\n",
        "\n",
        "clf = Perceptron(shuffle=False, verbose=0, eta0=1)\n",
        "clf.fit(X, y)\n",
        "print('Accuracy:', clf.score(X, y))\n",
        "print('features:', Data_Set_df.columns)\n",
        "print('Weights:', clf.coef_)\n",
        "print('Bias:', clf.intercept_)"
      ]
    },
    {
      "cell_type": "markdown",
      "metadata": {},
      "source": [
        "Discuss how the different features effect prediction\n",
        "\n",
        "The features that we are looking at are:\n",
        "\n",
        "`['handicapped-infants', 'water-project-cost-sharing',\n",
        "       'adoption-of-the-budget-resolution', 'physician-fee-freeze',\n",
        "       'el-salvador-aid', 'religious-groups-in-schools',\n",
        "       'anti-satellite-test-ban', 'aid-to-nicaraguan-contras', 'mx-missile',\n",
        "       'immigration', 'synfuels-corporation-cutback', 'education-spending',\n",
        "       'superfund-right-to-sue', 'crime', 'duty-free-exports',\n",
        "       'export-administration-act-south-africa']`\n",
        "\n",
        "The have the following weights respectively:\n",
        "\n",
        "`[  4. -12. -22.  58.  -8.  -5.   8. -13. -11.   6. -26.  11.  -1.   2.\n",
        "  -21.   3.]`\n",
        "\n",
        "The bigger the absolute value of the weight, the more impact it has in affecting the output of the model. We can see from above that the most critical features are physician-fee-freeze, synfuels-corporation-cutback, and duty-free-exports. Features with a weight close to 0, such as super-fund-right-to-sue and crime, have little impact on the model's prediction. By examining the weights, we can see what the model has learned about what features affect political choice most. Data like this could be used for political campaigns to see what issues should be focused on to gain the most support."
      ]
    },
    {
      "cell_type": "markdown",
      "metadata": {
        "id": "NyUmJ4yWVsQ7"
      },
      "source": [
        "### 3.3 (15%) Misclassification rate vs epochs \n",
        "\n",
        "Learn with the perceptron once on the full voting data set and graph the misclassification rate (number_misclassified  /  number_of_total_data_points) at each epoch until convergence (0th – final epoch).  Hints:\n",
        "- For the 0th epoch (i.e. initial weights), assume the initial misclassification rate is 66% and let that be the first point on your graph. Since there are 3 output classes, random guessing would only get it right about 1/3 of the time. Missclassifcation rate is 1 - accuracy.\n",
        "- Doing clf.fit with max_iter = 1, and warm_start=True will let you loop through epochs one at a time, allowing you to look at accuracy, etc. after each epoch.  But how do you know how many epochs to run until convergence?  One way is to just to first run it until convergence with random_state = c to see how many epochs it took (n_iter_).  Then run it again one epoch at a time n_iter_ times using the same random_state constant c (so that you get the exact same conditions).\n",
        "- Below is a rough example of what this type of graph might look like (though this graph is for avg rate across multiple trials)\n",
        "\n",
        "![Average Misclassification Rate](https://raw.githubusercontent.com/rmorain/CS472-1/master/images/perceptron/avg_misclassification_rate_vs_epochs.png)"
      ]
    },
    {
      "cell_type": "code",
      "execution_count": 10,
      "metadata": {
        "id": "2_ZRPWWVVeFM"
      },
      "outputs": [
        {
          "name": "stderr",
          "output_type": "stream",
          "text": [
            "/Users/tylertrommlitz/miniconda3/envs/cs270/lib/python3.12/site-packages/sklearn/linear_model/_stochastic_gradient.py:713: ConvergenceWarning: Maximum number of iteration reached before convergence. Consider increasing max_iter to improve the fit.\n",
            "  warnings.warn(\n",
            "/Users/tylertrommlitz/miniconda3/envs/cs270/lib/python3.12/site-packages/sklearn/linear_model/_stochastic_gradient.py:713: ConvergenceWarning: Maximum number of iteration reached before convergence. Consider increasing max_iter to improve the fit.\n",
            "  warnings.warn(\n",
            "/Users/tylertrommlitz/miniconda3/envs/cs270/lib/python3.12/site-packages/sklearn/linear_model/_stochastic_gradient.py:713: ConvergenceWarning: Maximum number of iteration reached before convergence. Consider increasing max_iter to improve the fit.\n",
            "  warnings.warn(\n",
            "/Users/tylertrommlitz/miniconda3/envs/cs270/lib/python3.12/site-packages/sklearn/linear_model/_stochastic_gradient.py:713: ConvergenceWarning: Maximum number of iteration reached before convergence. Consider increasing max_iter to improve the fit.\n",
            "  warnings.warn(\n",
            "/Users/tylertrommlitz/miniconda3/envs/cs270/lib/python3.12/site-packages/sklearn/linear_model/_stochastic_gradient.py:713: ConvergenceWarning: Maximum number of iteration reached before convergence. Consider increasing max_iter to improve the fit.\n",
            "  warnings.warn(\n",
            "/Users/tylertrommlitz/miniconda3/envs/cs270/lib/python3.12/site-packages/sklearn/linear_model/_stochastic_gradient.py:713: ConvergenceWarning: Maximum number of iteration reached before convergence. Consider increasing max_iter to improve the fit.\n",
            "  warnings.warn(\n",
            "/Users/tylertrommlitz/miniconda3/envs/cs270/lib/python3.12/site-packages/sklearn/linear_model/_stochastic_gradient.py:713: ConvergenceWarning: Maximum number of iteration reached before convergence. Consider increasing max_iter to improve the fit.\n",
            "  warnings.warn(\n",
            "/Users/tylertrommlitz/miniconda3/envs/cs270/lib/python3.12/site-packages/sklearn/linear_model/_stochastic_gradient.py:713: ConvergenceWarning: Maximum number of iteration reached before convergence. Consider increasing max_iter to improve the fit.\n",
            "  warnings.warn(\n",
            "/Users/tylertrommlitz/miniconda3/envs/cs270/lib/python3.12/site-packages/sklearn/linear_model/_stochastic_gradient.py:713: ConvergenceWarning: Maximum number of iteration reached before convergence. Consider increasing max_iter to improve the fit.\n",
            "  warnings.warn(\n",
            "/Users/tylertrommlitz/miniconda3/envs/cs270/lib/python3.12/site-packages/sklearn/linear_model/_stochastic_gradient.py:713: ConvergenceWarning: Maximum number of iteration reached before convergence. Consider increasing max_iter to improve the fit.\n",
            "  warnings.warn(\n",
            "/Users/tylertrommlitz/miniconda3/envs/cs270/lib/python3.12/site-packages/sklearn/linear_model/_stochastic_gradient.py:713: ConvergenceWarning: Maximum number of iteration reached before convergence. Consider increasing max_iter to improve the fit.\n",
            "  warnings.warn(\n"
          ]
        },
        {
          "data": {
            "image/png": "[encoded data removed]",
            "text/plain": [
              "<Figure size 640x480 with 1 Axes>"
            ]
          },
          "metadata": {},
          "output_type": "display_data"
        }
      ],
      "source": [
        "# Learn once on the full voting data set, while gathering info after every epoch\n",
        "# Then Graph it here.  Here is some sample graph code, but you can do it your own way, including using a bar graph, etc.\n",
        "\n",
        "def learn_voting_data():\n",
        "    PATH_TO_VOTING_ARFF = 'datasets/voting_with_missing.arff'\n",
        "\n",
        "    Data_Set = arff.loadarff(PATH_TO_VOTING_ARFF)\n",
        "    Data_Set_df = pd.DataFrame(Data_Set[0])\n",
        "    voting_label_encoded_df = Data_Set_df.apply(LabelEncoder().fit_transform)\n",
        "\n",
        "    X = voting_label_encoded_df.iloc[:, :-1]\n",
        "    y = voting_label_encoded_df.iloc[:, -1]\n",
        "\n",
        "    clf = Perceptron(shuffle=True, verbose=0, eta0=1, warm_start=True, random_state=5)\n",
        "    clf.fit(X, y)\n",
        "    num_iter = clf.n_iter_\n",
        "    \n",
        "    misclassification_rate = [.50]\n",
        "\n",
        "    clf = Perceptron(shuffle=True, verbose=0, eta0=1, warm_start=True, random_state=5, max_iter=1)\n",
        "    for i in range(num_iter):\n",
        "        clf.fit(X, y)\n",
        "        misclassification_rate.append(1 - clf.score(X, y))\n",
        "    \n",
        "    return misclassification_rate\n",
        "    \n",
        "def plot_misclassification(misclassification_rate):\n",
        "    \"\"\"\n",
        "        Plots the misclassification rate\n",
        "    Args:\n",
        "        misclassification_rate (array-like): A 1D array or list of missclassifcation rate at every epoch\n",
        "    \"\"\"\n",
        "    plt.plot(np.arange(len(misclassification_rate)), misclassification_rate)\n",
        "    plt.title(\"Misclassification Rate vs. Epoch\")\n",
        "    plt.xlabel(\"Epoch\")\n",
        "    plt.ylabel(\"Misclassification Rate\")\n",
        "    plt.show()\n",
        "\n",
        "misclassification_rate = learn_voting_data()\n",
        "plot_misclassification(misclassification_rate)"
      ]
    },
    {
      "cell_type": "markdown",
      "metadata": {
        "id": "PgqUrgh--GeU"
      },
      "source": [
        "*Show table and discuss*\n",
        "\n",
        "The table above shows the misclassification rate for each epoch. As expected, the misclassification rate decreases as the number of epochs increases. One thing that surprised me was that the rate actually increased on the 7th epoch. This could be because of overfitting of data. We could try feature reduction to see if that helps the model generalize better. It could also be because the shuffle hyperparameter was set to true, so for that epoch, the data was shuffled such that the model happened to predict outputs slightly worse. "
      ]
    },
    {
      "cell_type": "markdown",
      "metadata": {},
      "source": [
        "### 3.4 (15%) Hyperparameters\n",
        "Read over all the Hyperparameters and their defaults in the scikit [perceptron documentation](https://scikit-learn.org/stable/modules/generated/sklearn.linear_model.Perceptron.html). With the voting data set, experiment briefly with EACH of the following 6 hyperparameters and discuss your findings.\n",
        "- shuffle\n",
        "- eta0 - learning rate\n",
        "- verbose\n",
        "- fit_intercept - whether to use a bias weight or not\n",
        "- random state\n",
        "- warm start"
      ]
    },
    {
      "cell_type": "code",
      "execution_count": 11,
      "metadata": {},
      "outputs": [
        {
          "name": "stdout",
          "output_type": "stream",
          "text": [
            "Baseline Accuracy: 0.9586206896551724\n",
            "Shuffle Accuracy: 0.960919540229885\n",
            "-- Epoch 1\n",
            "Norm: 29.48, NNZs: 15, Bias: 0.000000, T: 435, Avg. loss: 1.505747\n",
            "Total training time: 0.00 seconds.\n",
            "-- Epoch 2\n",
            "Norm: 38.11, NNZs: 15, Bias: 0.000000, T: 870, Avg. loss: 1.140230\n",
            "Total training time: 0.00 seconds.\n",
            "-- Epoch 3\n",
            "Norm: 44.49, NNZs: 16, Bias: 0.000000, T: 1305, Avg. loss: 1.036782\n",
            "Total training time: 0.00 seconds.\n",
            "-- Epoch 4\n",
            "Norm: 48.55, NNZs: 15, Bias: 0.000000, T: 1740, Avg. loss: 1.036782\n",
            "Total training time: 0.00 seconds.\n",
            "-- Epoch 5\n",
            "Norm: 51.44, NNZs: 16, Bias: 0.000000, T: 2175, Avg. loss: 1.025287\n",
            "Total training time: 0.00 seconds.\n",
            "-- Epoch 6\n",
            "Norm: 55.53, NNZs: 16, Bias: 0.000000, T: 2610, Avg. loss: 0.793103\n",
            "Total training time: 0.00 seconds.\n",
            "-- Epoch 7\n",
            "Norm: 59.31, NNZs: 16, Bias: 0.000000, T: 3045, Avg. loss: 0.781609\n",
            "Total training time: 0.00 seconds.\n",
            "-- Epoch 8\n",
            "Norm: 61.66, NNZs: 16, Bias: 0.000000, T: 3480, Avg. loss: 0.864368\n",
            "Total training time: 0.00 seconds.\n",
            "-- Epoch 9\n",
            "Norm: 63.98, NNZs: 16, Bias: 0.000000, T: 3915, Avg. loss: 0.586207\n",
            "Total training time: 0.00 seconds.\n",
            "-- Epoch 10\n",
            "Norm: 66.64, NNZs: 16, Bias: 0.000000, T: 4350, Avg. loss: 0.666667\n",
            "Total training time: 0.00 seconds.\n",
            "-- Epoch 11\n",
            "Norm: 67.71, NNZs: 16, Bias: 0.000000, T: 4785, Avg. loss: 0.788506\n",
            "Total training time: 0.00 seconds.\n",
            "-- Epoch 12\n",
            "Norm: 70.31, NNZs: 15, Bias: 0.000000, T: 5220, Avg. loss: 0.491954\n",
            "Total training time: 0.00 seconds.\n",
            "-- Epoch 13\n",
            "Norm: 71.71, NNZs: 16, Bias: 0.000000, T: 5655, Avg. loss: 0.772414\n",
            "Total training time: 0.00 seconds.\n",
            "-- Epoch 14\n",
            "Norm: 74.51, NNZs: 16, Bias: 0.000000, T: 6090, Avg. loss: 0.809195\n",
            "Total training time: 0.00 seconds.\n",
            "-- Epoch 15\n",
            "Norm: 75.31, NNZs: 16, Bias: 0.000000, T: 6525, Avg. loss: 0.806897\n",
            "Total training time: 0.00 seconds.\n",
            "-- Epoch 16\n",
            "Norm: 77.10, NNZs: 16, Bias: 0.000000, T: 6960, Avg. loss: 0.790805\n",
            "Total training time: 0.00 seconds.\n",
            "-- Epoch 17\n",
            "Norm: 77.62, NNZs: 16, Bias: 0.000000, T: 7395, Avg. loss: 0.595402\n",
            "Total training time: 0.00 seconds.\n",
            "Convergence after 17 epochs took 0.00 seconds\n",
            "Verbose Accuracy: 0.9586206896551724\n",
            "Eta0 Accuracy: 0.9586206896551724\n",
            "Warm Start Accuracy: 0.9586206896551724\n",
            "Random State Accuracy: 0.9586206896551724\n",
            "Fit Intercept Accuracy: 0.9310344827586207\n"
          ]
        }
      ],
      "source": [
        "# Run the model with different hyperparameters\n",
        "\n",
        "PATH_TO_VOTING_ARFF = 'datasets/voting_with_missing.arff'\n",
        "\n",
        "Data_Set = arff.loadarff(PATH_TO_VOTING_ARFF)\n",
        "Data_Set_df = pd.DataFrame(Data_Set[0])\n",
        "voting_label_encoded_df = Data_Set_df.apply(LabelEncoder().fit_transform)\n",
        "\n",
        "X = voting_label_encoded_df.iloc[:, :-1]\n",
        "y = voting_label_encoded_df.iloc[:, -1]\n",
        "\n",
        "# We will call this our baseline model\n",
        "clf = Perceptron(shuffle=False, verbose=0, eta0=1, warm_start=False, random_state=0, fit_intercept=False)\n",
        "clf.fit(X, y)\n",
        "print('Baseline Accuracy:', clf.score(X, y))\n",
        "\n",
        "# Change shuffle\n",
        "clf = Perceptron(shuffle=True, verbose=0, eta0=1, warm_start=False, random_state=0, fit_intercept=False)\n",
        "clf.fit(X, y)\n",
        "print('Shuffle Accuracy:', clf.score(X, y))\n",
        "\n",
        "# Change verbose\n",
        "clf = Perceptron(shuffle=False, verbose=1, eta0=1, warm_start=False, random_state=0, fit_intercept=False)\n",
        "clf.fit(X, y)\n",
        "print('Verbose Accuracy:', clf.score(X, y))\n",
        "\n",
        "# Change eta0\n",
        "clf = Perceptron(shuffle=False, verbose=0, eta0=.5, warm_start=False, random_state=0, fit_intercept=False)\n",
        "clf.fit(X, y)\n",
        "print('Eta0 Accuracy:', clf.score(X, y))\n",
        "\n",
        "# Change warm_start\n",
        "clf = Perceptron(shuffle=False, verbose=0, eta0=1, warm_start=True, random_state=0, fit_intercept=False)\n",
        "clf.fit(X, y)\n",
        "print('Warm Start Accuracy:', clf.score(X, y))\n",
        "\n",
        "# Change random_state\n",
        "clf = Perceptron(shuffle=False, verbose=0, eta0=1, warm_start=False, random_state=5, fit_intercept=False)\n",
        "clf.fit(X, y)\n",
        "print('Random State Accuracy:', clf.score(X, y))\n",
        "\n",
        "# Change fit_intercept\n",
        "clf = Perceptron(shuffle=False, verbose=0, eta0=1, warm_start=False, random_state=0, fit_intercept=True)\n",
        "clf.fit(X, y)\n",
        "print('Fit Intercept Accuracy:', clf.score(X, y))\n",
        "\n"
      ]
    },
    {
      "cell_type": "markdown",
      "metadata": {},
      "source": [
        "Discussion\n",
        "\n",
        "To play with hyperparameters, I created a baseline perceptron with the following hyperparameters:\n",
        "`clf = Perceptron(shuffle=False, verbose=0, eta0=1, warm_start=False, random_state=0, fit_intercept=False)`\n",
        "\n",
        "With the baseline model, we achieved an accuracy of .959.\n",
        "\n",
        "I then ran the perceptron 6 more times, each time changing one of the hyperparameters. Here are the results:\n",
        "\n",
        "shuffle=True: Accuracy = .961\n",
        "\n",
        "verbose=1: Accuracy = .959\n",
        "\n",
        "eta0=.5: Accuracy = .959\n",
        "\n",
        "warm_start=True: Accuracy = .959\n",
        "\n",
        "random_state=5: Accuracy = .959\n",
        "\n",
        "fit_intercept=True: Accuracy = .931\n",
        "\n",
        "Note: for verbose, you may have to make the output scrollable to see the accuracy\n",
        "\n",
        "It is interesting that many of the hyperparameters did not actually change the baseline accuracy. For example, I expected that changing the learning rate from 1 to .5 would possibly increase the accuracy, but it did not. I also expected that changing the random state would affect the accuracy, but it did not. However, it did make sense that changing the verbose hyperparameter did not affect the accuracy, since verbose only changes the amount of output that is printed to the console. The only hyperparameters that affected the accuracy were shuffle and fit_intercept. Using shuffle slightly increased the accuracy, and using fit_intercept slightly decreased the accuracy. I was surprised that using fit_intercept decreased the accuracy, since I thought that using a bias would help the perceptron learn better. I'm not quite sure why shuffling the data per epoch would increase the accuracy, but I think it might help the perceptron learn better because it won't get dependent on seeing the same order of data when updating the weights."
      ]
    },
    {
      "cell_type": "markdown",
      "metadata": {
        "id": "mxssT08TzdRH"
      },
      "source": [
        "## 4 (15%) Use the perceptron to learn one other data set of your choice.  \n",
        "- The UC Irvine Data Repository is one great source, but you may get your data set from wherever you like, though it should be a real world task.\n",
        "- Report your results"
      ]
    },
    {
      "cell_type": "code",
      "execution_count": 12,
      "metadata": {
        "id": "hqPZLMf1zdRH"
      },
      "outputs": [
        {
          "name": "stdout",
          "output_type": "stream",
          "text": [
            "Accuracy: 1.0\n"
          ]
        }
      ],
      "source": [
        "# Load and Train on your dataset and report results\n",
        "\n",
        "url = 'https://archive.ics.uci.edu/ml/machine-learning-databases/iris/iris.data'\n",
        "# using the attribute information as the column names\n",
        "col_names = ['Sepal_Length','Sepal_Width','Petal_Length','Petal_Width','Class']\n",
        "df =  pd.read_csv(url, names = col_names)\n",
        "\n",
        "# remove instances of Iris-virginica\n",
        "df = df[df['Class'] != 'Iris-virginica']\n",
        "\n",
        "# convert classes to 0 and 1\n",
        "df['Class'] = df['Class'].map({'Iris-setosa': 0, 'Iris-versicolor': 1})\n",
        "\n",
        "clf = Perceptron(shuffle=False, verbose=0, eta0=.1)\n",
        "X = df.iloc[:, :-1]\n",
        "y = df.iloc[:, -1]\n",
        "\n",
        "clf.fit(X, y)\n",
        "print('Accuracy:', clf.score(X, y))\n"
      ]
    },
    {
      "cell_type": "markdown",
      "metadata": {
        "id": "BqSFAXwlk3Ms"
      },
      "source": [
        "*Discuss how the perceptron did on the data set and why you think it performed as such.*\n",
        "\n",
        "I learned the classic Iris dataset with the perceptron. In this dataset, the labels are the species of iris flower, and the features are the length and width of the sepals and petals. The perceptron only works with binary output, but there were 3 possible classes in the dataset. To solve this, I removed all instances that were labeled as 'Iris-virginica', leaving only 2 classes: 'Iris-setosa' and 'Iris-versicolor'. This allowed me to have binary output, which I could train and predict using the perceptron. When I trained on the modified data, I achieved 100% accuracy. This may be because I didn't split the data into training and testing sets, so the perceptron was able to learn the data perfectly. It's possible that if I had split the data, the perceptron would have had a lower accuracy. In addition, this dataset is quite small, with only 4 features. This makes it easier for the perceptron to learn the data. If the dataset was larger, the perceptron may have had a lower accuracy."
      ]
    },
    {
      "cell_type": "markdown",
      "metadata": {
        "id": "cTlK-kijk8Mg"
      },
      "source": [
        "## 5. (Optional 15% extra credit) Code up your own perceptron learner \n",
        "\n",
        "Past versions of this class required students to code up their own version of each model and then compare results with scikit-learn.  Actually coding a model leads to better understanding of what is really happening \"under the hood.\"  Though not required for this class, we give a significant extra credit reward for each lab to those who choose to code their own models.  If you choose to do this, your code must be your own, and NOT taken from any other source (including the text).  Once you are done coding we encourage you to look at other versions to see how yours compares.  Below is a scaffold you could use if you want. Requirements for this task:\n",
        "- Your perceptron should support the methods shown in the example scaffold below.\n",
        "- Your output node should output 1 if net is > 0, else 0.\n",
        "- Use Stochastic/On-line training updates: Iterate and update weights after each training instance (i.e. not batch updates)\n",
        "- Implement a stopping criteria: when your model has trained for a number of epochs with no improvement in accuracy, stop training. Note that the weights/accuracy do not usually change monotonically.\n",
        "- Your class can inherit from the relevant scikit-learn learners (e.g. data shuffling, etc.), but don't call any of the super methods to accomplish the core methods in the scaffold.\n",
        "- Run the evaluation data set and the voting data set above with your Perceptron version. Show and discuss your results and how they compare with the scikit-learn version."
      ]
    },
    {
      "cell_type": "code",
      "execution_count": 13,
      "metadata": {},
      "outputs": [
        {
          "name": "stdout",
          "output_type": "stream",
          "text": [
            "Voting Dataset Accuracy: 0.9379310344827586\n",
            "Evaluation Dataset Accuracy: 0.9912536443148688\n"
          ]
        }
      ],
      "source": [
        "# Optional scaffold for Extra Credit Perceptron code.  IF you use this feel free to change/add any methods you want.\n",
        "\n",
        "from sklearn.base import BaseEstimator, ClassifierMixin\n",
        "class PerceptronClassifier(BaseEstimator,ClassifierMixin):\n",
        "\n",
        "    def __init__(self, lr=.1, shuffle=True):\n",
        "        \"\"\" \n",
        "            Initialize class with chosen hyperparameters.\n",
        "        Args:\n",
        "            lr (float): A learning rate / step size.\n",
        "            shuffle: Whether to shuffle the training data each epoch. DO NOT \n",
        "            SHUFFLE for evaluation / debug datasets.\n",
        "        \"\"\"\n",
        "        self.lr = lr\n",
        "        self.shuffle = shuffle\n",
        "\n",
        "    def fit(self, X, y, initial_weights=None):\n",
        "        \"\"\" \n",
        "            Fit the data; run the algorithm and adjust the weights to find a \n",
        "            good solution\n",
        "        Args:\n",
        "            X (array-like): A 2D numpy array with the training data, excluding\n",
        "            targets\n",
        "            y (array-like): A 2D numpy array with the training targets\n",
        "            initial_weights (array-like): allows the user to provide initial \n",
        "            weights\n",
        "        Returns:\n",
        "            self: this allows this to be chained, e.g. model.fit(X,y).predict(X_test)\n",
        "        \"\"\"\n",
        "\n",
        "        self.weights = None\n",
        "        if initial_weights is None:\n",
        "            self.weights = self.initialize_weights(len(X[0]))\n",
        "        else:\n",
        "            self.weights = initial_weights\n",
        "        targets = y\n",
        "\n",
        "        # add bias column of 1s to X\n",
        "        X = np.insert(X, 0, 1, axis=1)\n",
        "\n",
        "        accuracy = 0\n",
        "        continue_training = True\n",
        "\n",
        "        while continue_training:\n",
        "            indices = np.arange(len(X)) if self.shuffle else range(len(X))\n",
        "            for index in indices:\n",
        "                instance = X[index]\n",
        "                target = targets[index]\n",
        "                net = np.dot(instance, self.weights)\n",
        "                output = 1 if net > 0 else 0\n",
        "                weight_change = self.lr * (target - output) * instance\n",
        "                self.weights += weight_change\n",
        "            new_accuracy = self.score(X, y)\n",
        "            if new_accuracy == accuracy:\n",
        "                continue_training = False\n",
        "            else:\n",
        "                accuracy = new_accuracy\n",
        "\n",
        "        return self\n",
        "\n",
        "    def predict(self, X):\n",
        "        \"\"\" \n",
        "            Predict all classes for a dataset X\n",
        "        Args:\n",
        "            X (array-like): A 2D numpy array with the training data, excluding \n",
        "            targets\n",
        "        Returns:\n",
        "            array, shape (n_samples,)\n",
        "                Predicted target values per element in X.\n",
        "        \"\"\"\n",
        "        predictions = []\n",
        "\n",
        "        for instance in X:\n",
        "            net = np.dot(instance, self.weights)\n",
        "            output = 1 if net > 0 else 0\n",
        "            predictions.append(output)\n",
        "\n",
        "        return predictions\n",
        "\n",
        "    def initialize_weights(self, numFeatures):\n",
        "        \"\"\" Initialize weights for perceptron. Don't forget the bias!\n",
        "        Returns:\n",
        "        \"\"\"\n",
        "        return np.zeros(numFeatures + 1)\n",
        "\n",
        "\n",
        "    def score(self, X, y):\n",
        "        \"\"\" \n",
        "            Return accuracy of model on a given dataset. Must implement own \n",
        "            score function.\n",
        "        Args:\n",
        "            X (array-like): A 2D numpy array with data, excluding targets\n",
        "            y (array-like): A 2D numpy array with targets\n",
        "        Returns:\n",
        "            score : float\n",
        "                Mean accuracy of self.predict(X) wrt. y.\n",
        "        \"\"\"\n",
        "\n",
        "        # add bias column of 1s to X if needed\n",
        "        if len(X[0]) != len(self.weights):\n",
        "            X = np.insert(X, 0, 1, axis=1)\n",
        "        \n",
        "        predictions = self.predict(X)\n",
        "        num_correct = 0\n",
        "\n",
        "        for i in range(len(predictions)):\n",
        "            if predictions[i] == y[i]:\n",
        "                num_correct += 1\n",
        "        \n",
        "        score = num_correct / len(predictions)\n",
        "\n",
        "        return score\n",
        "\n",
        "    ### Returns the weights and bias. Not required but great for debugging.\n",
        "    def get_weights(self):\n",
        "        return self.weights\n",
        "    \n",
        "\n",
        "def testWithVotingDataset():\n",
        "    PATH_TO_VOTING_ARFF = 'datasets/voting_with_missing.arff'\n",
        "\n",
        "    Data_Set = arff.loadarff(PATH_TO_VOTING_ARFF)\n",
        "    Data_Set_df = pd.DataFrame(Data_Set[0])\n",
        "    voting_label_encoded_df = Data_Set_df.apply(LabelEncoder().fit_transform)\n",
        "\n",
        "    voting_numpy = voting_label_encoded_df.to_numpy()\n",
        "\n",
        "    X = voting_numpy[:, :-1]\n",
        "    y = voting_numpy[:, -1]\n",
        "\n",
        "    clf = PerceptronClassifier(lr=1, shuffle=False)\n",
        "    clf.fit(X, y)\n",
        "    print('Voting Dataset Accuracy:', clf.score(X, y))\n",
        "\n",
        "def testWithEvaluationDataset():\n",
        "    PATH_TO_EVAL_ARFF = 'datasets/data_banknote_authentication.arff'\n",
        "\n",
        "    Data_Set = arff.loadarff(PATH_TO_EVAL_ARFF)\n",
        "    Data_Set_df = pd.DataFrame(Data_Set[0])\n",
        "    Data_Set_np = Data_Set_df.to_numpy()\n",
        "    Data_Set_np = Data_Set_np.astype(float)\n",
        "    X = Data_Set_np[:, :-1]\n",
        "    y = Data_Set_np[:, -1]\n",
        "\n",
        "    clf = PerceptronClassifier(lr=.1, shuffle=False)\n",
        "    clf.fit(X, y)\n",
        "    print('Evaluation Dataset Accuracy:', clf.score(X, y))\n",
        "\n",
        "\n",
        "testWithVotingDataset()\n",
        "testWithEvaluationDataset()\n"
      ]
    },
    {
      "cell_type": "markdown",
      "metadata": {},
      "source": [
        "*Discussion*\n",
        "\n",
        "I wrote my custom Perceptron class and learned the full voting dataset and the evaluation dataset from above. I used the same hyperparameters as well. Here are the results:\n",
        "\n",
        "Evaluation dataset with sci-kit learn : Accuracy = .977 (From above, 1.2)\n",
        "Evaluation dataset with my custom Perceptron: Accuracy = .991\n",
        "Voting dataset with sci-kit learn: Accuracy = .931 (From above, 3.2)\n",
        "Voting dataset with my custom Perceptron: Accuracy = .938\n",
        "\n",
        "My custom Perceptron performed better than the sci-kit learn version on both datasets. This was very surprising to me, because my implementation is probably much simpler than the sci-kit learn version. I've been trying to think of reasons, for why my implementation performed better, and I can't really think of any. Further testing would be needed with more datasets and with train-test splits to see if patterns emerge that could explain the performance of my model better. My stopping criteria was as soon as the accuracy stopped improving, which is probably not the best stopping criteria. It might be better to run a few more epochs after the accuracy stops improving, especially if the shuffling hyperparameter is set to True. "
      ]
    }
  ],
  "metadata": {
    "colab": {
      "collapsed_sections": [],
      "provenance": []
    },
    "kernelspec": {
      "display_name": "Python 2.7.16 64-bit",
      "language": "python",
      "name": "python3"
    },
    "language_info": {
      "codemirror_mode": {
        "name": "ipython",
        "version": 3
      },
      "file_extension": ".py",
      "mimetype": "text/x-python",
      "name": "python",
      "nbconvert_exporter": "python",
      "pygments_lexer": "ipython3",
      "version": "3.12.0"
    },
    "vscode": {
      "interpreter": {
        "hash": "767d51c1340bd893661ea55ea3124f6de3c7a262a8b4abca0554b478b1e2ff90"
      }
    }
  },
  "nbformat": 4,
  "nbformat_minor": 0
}
