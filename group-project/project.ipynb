{
 "cells": [
  {
   "cell_type": "code",
   "execution_count": 20,
   "metadata": {},
   "outputs": [],
   "source": [
    "import pandas as pd\n",
    "import numpy as np"
   ]
  },
  {
   "cell_type": "code",
   "execution_count": 21,
   "metadata": {},
   "outputs": [
    {
     "name": "stderr",
     "output_type": "stream",
     "text": [
      "/var/folders/wt/3ffq6rys6tzdx2t3mmj9gz_h0000gn/T/ipykernel_20082/599897171.py:2: DtypeWarning: Columns (1,75,76,77,78,79,80,81,82,83,84,85,86,87,88,89,90,91,92,93,94,95,96,97,98) have mixed types. Specify dtype option on import or set low_memory=False.\n",
      "  df = pd.read_csv('data.csv')\n"
     ]
    },
    {
     "name": "stdout",
     "output_type": "stream",
     "text": [
      "<class 'pandas.core.frame.DataFrame'>\n",
      "RangeIndex: 761563 entries, 0 to 761562\n",
      "Columns: 119 entries, ID to LOCATION\n",
      "dtypes: float64(23), int64(2), object(94)\n",
      "memory usage: 691.4+ MB\n",
      "None\n"
     ]
    }
   ],
   "source": [
    "# read in dataset\n",
    "df = pd.read_csv('data.csv')\n",
    "print(df.info())"
   ]
  },
  {
   "cell_type": "code",
   "execution_count": 22,
   "metadata": {},
   "outputs": [
    {
     "name": "stdout",
     "output_type": "stream",
     "text": [
      "----------\n",
      "<class 'pandas.core.frame.DataFrame'>\n",
      "RangeIndex: 761563 entries, 0 to 761562\n",
      "Data columns (total 23 columns):\n",
      " #   Column               Non-Null Count   Dtype  \n",
      "---  ------               --------------   -----  \n",
      " 0   PROCESSING_TIME      761056 non-null  float64\n",
      " 1   BUILDING_FEE_PAID    761563 non-null  float64\n",
      " 2   ZONING_FEE_PAID      761563 non-null  float64\n",
      " 3   OTHER_FEE_PAID       761563 non-null  float64\n",
      " 4   SUBTOTAL_PAID        761563 non-null  float64\n",
      " 5   BUILDING_FEE_UNPAID  761563 non-null  float64\n",
      " 6   ZONING_FEE_UNPAID    761563 non-null  float64\n",
      " 7   OTHER_FEE_UNPAID     761563 non-null  float64\n",
      " 8   SUBTOTAL_UNPAID      761563 non-null  float64\n",
      " 9   BUILDING_FEE_WAIVED  761563 non-null  float64\n",
      " 10  ZONING_FEE_WAIVED    761563 non-null  float64\n",
      " 11  OTHER_FEE_WAIVED     761563 non-null  float64\n",
      " 12  SUBTOTAL_WAIVED      761563 non-null  float64\n",
      " 13  TOTAL_FEE            761563 non-null  float64\n",
      " 14  CONTACT_15_ZIPCODE   5 non-null       float64\n",
      " 15  REPORTED_COST        761190 non-null  float64\n",
      " 16  COMMUNITY_AREA       656474 non-null  float64\n",
      " 17  CENSUS_TRACT         651986 non-null  float64\n",
      " 18  WARD                 656238 non-null  float64\n",
      " 19  XCOORDINATE          760135 non-null  float64\n",
      " 20  YCOORDINATE          760135 non-null  float64\n",
      " 21  LATITUDE             759197 non-null  float64\n",
      " 22  LONGITUDE            759197 non-null  float64\n",
      "dtypes: float64(23)\n",
      "memory usage: 133.6 MB\n",
      "None\n"
     ]
    }
   ],
   "source": [
    "df = df.select_dtypes(include=[np.float64])\n",
    "print('----------')\n",
    "print(df.info())"
   ]
  },
  {
   "cell_type": "code",
   "execution_count": 23,
   "metadata": {},
   "outputs": [
    {
     "name": "stdout",
     "output_type": "stream",
     "text": [
      "<class 'pandas.core.frame.DataFrame'>\n",
      "Index: 760683 entries, 0 to 761562\n",
      "Data columns (total 15 columns):\n",
      " #   Column               Non-Null Count   Dtype  \n",
      "---  ------               --------------   -----  \n",
      " 0   PROCESSING_TIME      760683 non-null  float64\n",
      " 1   BUILDING_FEE_PAID    760683 non-null  float64\n",
      " 2   ZONING_FEE_PAID      760683 non-null  float64\n",
      " 3   OTHER_FEE_PAID       760683 non-null  float64\n",
      " 4   SUBTOTAL_PAID        760683 non-null  float64\n",
      " 5   BUILDING_FEE_UNPAID  760683 non-null  float64\n",
      " 6   ZONING_FEE_UNPAID    760683 non-null  float64\n",
      " 7   OTHER_FEE_UNPAID     760683 non-null  float64\n",
      " 8   SUBTOTAL_UNPAID      760683 non-null  float64\n",
      " 9   BUILDING_FEE_WAIVED  760683 non-null  float64\n",
      " 10  ZONING_FEE_WAIVED    760683 non-null  float64\n",
      " 11  OTHER_FEE_WAIVED     760683 non-null  float64\n",
      " 12  SUBTOTAL_WAIVED      760683 non-null  float64\n",
      " 13  TOTAL_FEE            760683 non-null  float64\n",
      " 14  REPORTED_COST        760683 non-null  float64\n",
      "dtypes: float64(15)\n",
      "memory usage: 92.9 MB\n",
      "None\n"
     ]
    }
   ],
   "source": [
    "df = df.drop(columns=['CONTACT_15_ZIPCODE', 'COMMUNITY_AREA','CENSUS_TRACT', 'WARD', 'XCOORDINATE', 'YCOORDINATE', 'LATITUDE', 'LONGITUDE'])\n",
    "df = df.dropna(axis=0)\n",
    "print(df.info())"
   ]
  },
  {
   "cell_type": "code",
   "execution_count": 24,
   "metadata": {},
   "outputs": [
    {
     "name": "stdout",
     "output_type": "stream",
     "text": [
      "0.9924576006598886\n"
     ]
    }
   ],
   "source": [
    "from sklearn.neural_network import MLPRegressor\n",
    "from sklearn.model_selection import train_test_split\n",
    "\n",
    "X= df.iloc[:, 1:].values\n",
    "y = df.iloc[:, -1].values\n",
    "\n",
    "X_train, X_test, y_train, y_test = train_test_split(X, y, test_size=0.2, random_state=0)\n",
    "\n",
    "clf = MLPRegressor()\n",
    "\n",
    "clf.fit(X_train, y_train)\n",
    "print(clf.score(X_test, y_test))"
   ]
  }
 ],
 "metadata": {
  "kernelspec": {
   "display_name": "cs270",
   "language": "python",
   "name": "python3"
  },
  "language_info": {
   "codemirror_mode": {
    "name": "ipython",
    "version": 3
   },
   "file_extension": ".py",
   "mimetype": "text/x-python",
   "name": "python",
   "nbconvert_exporter": "python",
   "pygments_lexer": "ipython3",
   "version": "3.12.0"
  },
  "orig_nbformat": 4
 },
 "nbformat": 4,
 "nbformat_minor": 2
}
