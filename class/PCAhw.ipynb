{
 "cells": [
  {
   "cell_type": "code",
   "execution_count": 29,
   "metadata": {},
   "outputs": [
    {
     "name": "stdout",
     "output_type": "stream",
     "text": [
      "[[ 0.26444294 -0.13558154]\n",
      " [-1.45443618  1.42360613]\n",
      " [ 1.32221471 -1.42360613]\n",
      " [ 0.66110736 -0.61011691]\n",
      " [-0.79332883  0.74569845]]\n"
     ]
    }
   ],
   "source": [
    "# Standardize the TS features\n",
    "import numpy as np\n",
    "from sklearn.preprocessing import StandardScaler\n",
    "scaler = StandardScaler()\n",
    "\n",
    "X = [\n",
    "  [ 0.2, -0.3],\n",
    "  [-1.1, 2],\n",
    "  [ 1, -2.2],\n",
    "  [ 0.5, -1],\n",
    "  [-0.6, 1 ]\n",
    "]\n",
    "\n",
    "scaler.fit(X)\n",
    "scaled_data = scaler.transform(X)\n",
    "print(scaled_data)"
   ]
  },
  {
   "cell_type": "code",
   "execution_count": 30,
   "metadata": {},
   "outputs": [],
   "source": [
    "# calculate the covariance matrix\n",
    "cov_matrix = np.cov(scaled_data.T)"
   ]
  },
  {
   "cell_type": "code",
   "execution_count": 31,
   "metadata": {},
   "outputs": [
    {
     "name": "stdout",
     "output_type": "stream",
     "text": [
      "eigenvalues: [2.49591192 0.00408808]\n",
      "eigenvectors: [[ 0.70710678  0.70710678]\n",
      " [-0.70710678  0.70710678]]\n"
     ]
    }
   ],
   "source": [
    "# calculate the eigenvalues and eigenvectors\n",
    "eigenvalues, eigenvectors = np.linalg.eig(cov_matrix)\n",
    "print('eigenvalues:', eigenvalues)\n",
    "print('eigenvectors:', eigenvectors)"
   ]
  },
  {
   "cell_type": "code",
   "execution_count": 32,
   "metadata": {},
   "outputs": [],
   "source": [
    "# keep the p (< n) eigenvectors with the highest eigenvalues\n",
    "num_components = 1\n",
    "projection_matrix = (eigenvectors.T[:][:num_components]).T"
   ]
  },
  {
   "cell_type": "code",
   "execution_count": 33,
   "metadata": {},
   "outputs": [],
   "source": [
    "# matrix multiply the p eigenvectors with the standardized data to get a new TS with only p features\n",
    "X_pca = scaled_data.dot(projection_matrix)"
   ]
  },
  {
   "cell_type": "code",
   "execution_count": 34,
   "metadata": {},
   "outputs": [
    {
     "name": "stdout",
     "output_type": "stream",
     "text": [
      "percent kept in first principle component:  99.83647680000001 %\n",
      "new Traing Set: \n",
      " [[ 0.28286002]\n",
      " [-2.03508324]\n",
      " [ 1.94158854]\n",
      " [ 0.8988913 ]\n",
      " [-1.08825662]]\n"
     ]
    }
   ],
   "source": [
    "# percent of data kept:\n",
    "\n",
    "# eigenvalues: [2.49591192 0.00408808]\n",
    "# eigenvectors: \n",
    "# [[ 0.70710678  0.70710678]\n",
    "#  [-0.70710678  0.70710678]]\n",
    "\n",
    "percent_kept = 2.49591192 / (2.49591192 + 0.00408808)\n",
    "print('percent kept in first principle component: ', percent_kept * 100, '%')\n",
    "print('new Traing Set: \\n', X_pca)"
   ]
  }
 ],
 "metadata": {
  "kernelspec": {
   "display_name": "cs270",
   "language": "python",
   "name": "python3"
  },
  "language_info": {
   "codemirror_mode": {
    "name": "ipython",
    "version": 3
   },
   "file_extension": ".py",
   "mimetype": "text/x-python",
   "name": "python",
   "nbconvert_exporter": "python",
   "pygments_lexer": "ipython3",
   "version": "3.12.0"
  },
  "orig_nbformat": 4
 },
 "nbformat": 4,
 "nbformat_minor": 2
}
